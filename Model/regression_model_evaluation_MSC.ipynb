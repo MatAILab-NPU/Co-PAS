{
 "cells": [
  {
   "cell_type": "code",
   "execution_count": 1,
   "id": "7f885453",
   "metadata": {},
   "outputs": [
    {
     "name": "stderr",
     "output_type": "stream",
     "text": [
      "Enabling RDKit 2020.09.1 jupyter extensions\n",
      "C:\\ProgramData\\Anaconda3\\envs\\chemvae2\\lib\\site-packages\\tqdm\\auto.py:22: TqdmWarning: IProgress not found. Please update jupyter and ipywidgets. See https://ipywidgets.readthedocs.io/en/stable/user_install.html\n",
      "  from .autonotebook import tqdm as notebook_tqdm\n",
      "C:\\ProgramData\\Anaconda3\\envs\\chemvae2\\lib\\site-packages\\torch\\nn\\_reduction.py:42: UserWarning: size_average and reduce args will be deprecated, please use reduction='sum' instead.\n",
      "  warnings.warn(warning.format(ret))\n"
     ]
    }
   ],
   "source": [
    "import os\n",
    "os.environ['KMP_DUPLICATE_LIB_OK']='True'\n",
    "import logging\n",
    "logging.basicConfig(level=logging.INFO, format='')\n",
    "import pandas as pd\n",
    "import numpy as np\n",
    "from bs4 import BeautifulSoup\n",
    "import seaborn as sns\n",
    "import rdkit\n",
    "from sklearn.impute import SimpleImputer\n",
    "from scipy.stats import kurtosis, skew\n",
    "from rdkit import Chem, RDLogger\n",
    "from rdkit.Chem import Draw\n",
    "from rdkit.Chem import BondType\n",
    "from rdkit.Chem.Draw import MolsToGridImage\n",
    "from rdkit.Chem import PandasTools\n",
    "from rdkit.Chem.Scaffolds import MurckoScaffold\n",
    "from rdkit.ML.Descriptors import MoleculeDescriptors\n",
    "import requests\n",
    "import torch\n",
    "import pubchempy as pcp\n",
    "from tqdm import tqdm\n",
    "import matplotlib.pyplot as plt\n",
    "import matplotlib as mpl\n",
    "from IPython.display import SVG, display\n",
    "from fast_molvae.sample import load_model\n",
    "model = load_model('../data/vocab.txt', '../fast_molvae/vae_model/model.epoch-19')\n",
    "torch.cuda.is_available()\n",
    "from sklearn.preprocessing import MinMaxScaler\n",
    "from sklearn.model_selection import GridSearchCV\n",
    "from sklearn.model_selection import train_test_split\n",
    "from sklearn.metrics import mean_squared_error, mean_absolute_error\n",
    "from sklearn.metrics import mean_squared_error as mse\n",
    "from sklearn.metrics import mean_absolute_error as mae\n",
    "from sklearn.metrics import mean_absolute_percentage_error as mape\n",
    "from sklearn.metrics import r2_score\n",
    "from scipy.stats import spearmanr\n",
    "import random\n",
    "import joblib\n",
    "%config InlineBackend.figure_format = 'retina'\n",
    "%matplotlib inline\n",
    "plt.rcParams['font.sans-serif'] = [\"Arial\"]\n",
    "import warnings\n",
    "warnings.filterwarnings('ignore')\n",
    "device = torch.device('cuda' if torch.cuda.is_available() else 'cpu')"
   ]
  },
  {
   "cell_type": "code",
   "execution_count": 2,
   "id": "7c5a44f0",
   "metadata": {},
   "outputs": [],
   "source": [
    "#Plt True vs Pred\n",
    "def prediction_vs_ground_truth_fig(y_train, y_train_hat, y_test, y_test_hat):\n",
    "    from sklearn import metrics\n",
    "    fontsize = 16\n",
    "    lims = (13, 25)\n",
    "    plt.figure(figsize=(6,5.5))\n",
    "    plt.style.use('default')\n",
    "    plt.rc('xtick', labelsize=fontsize)\n",
    "    plt.rc('ytick', labelsize=fontsize)\n",
    "    plt.rcParams['font.family']=\"Arial\"\n",
    "    a = plt.scatter(y_train, y_train_hat, s=20,lw=1.5,c='lightseagreen')\n",
    "    plt.plot(lims, lims, 'k--', alpha=0.75, linewidth =1.5,zorder=0)\n",
    "    plt.xlabel('True PCE[%]', fontsize=fontsize)\n",
    "    plt.ylabel('Predicted PCE[%]', fontsize=fontsize)\n",
    "    plt.tick_params(direction='in',length=4, width=1, labelsize = fontsize*.85)\n",
    "    plt.xlim([13,25]) \n",
    "    plt.ylim([13,25])\n",
    "    plt.title(('Train RMSE: {:.2}'.format(np.sqrt(metrics.mean_squared_error(y_train, y_train_hat))),\\\n",
    "           'Test RMSE: {:.2}'.format(np.sqrt(metrics.mean_squared_error(y_test, y_test_hat)))), fontsize=fontsize)\n",
    "    b = plt.scatter(y_test, y_test_hat, s=20,lw=1.5,c='sandybrown')\n",
    "    plt.legend((a,b),('Train','Test'),fontsize=fontsize,handletextpad=0.1,borderpad=0.1)\n",
    "    plt.rcParams['font.family']=\"Arial\"\n",
    "    ax = plt.gca()\n",
    "    for spine in ax.spines.values():\n",
    "        spine.set_linewidth(2.5)\n",
    "    \n",
    "    plt.tight_layout()\n",
    "    plt.show()\n",
    "    \n",
    "    print ('RMSE Train: %.2f' % (np.sqrt(mse(y_train, y_train_hat))))\n",
    "    print ('RMSE Test: %.2f' % (np.sqrt(mse(y_test, y_test_hat))))\n",
    "    print('^'*20)\n",
    "    print ('MAE Train: %.2f' % (mean_absolute_error(y_train, y_train_hat)))\n",
    "    print ('MAE Test: %.2f' % (mean_absolute_error(y_test, y_test_hat)))\n",
    "    print('^'*20)\n",
    "    print ('R2 Train: %.2f' % (r2_score(y_train, y_train_hat)))\n",
    "    print ('R2 Test: %.2f' % (r2_score(y_test, y_test_hat)))\n",
    "    print('^'*20)\n",
    "    print ('Spearman Train: %.2f' % (spearmanr(y_train, y_train_hat)[0]))\n",
    "    print ('Spearman Test: %.2f' % (spearmanr(y_test, y_test_hat)[0]))\n",
    "    print('^'*20)"
   ]
  },
  {
   "cell_type": "code",
   "execution_count": 3,
   "id": "99685b13",
   "metadata": {},
   "outputs": [
    {
     "data": {
      "text/html": [
       "<div>\n",
       "<style scoped>\n",
       "    .dataframe tbody tr th:only-of-type {\n",
       "        vertical-align: middle;\n",
       "    }\n",
       "\n",
       "    .dataframe tbody tr th {\n",
       "        vertical-align: top;\n",
       "    }\n",
       "\n",
       "    .dataframe thead th {\n",
       "        text-align: right;\n",
       "    }\n",
       "</style>\n",
       "<table border=\"1\" class=\"dataframe\">\n",
       "  <thead>\n",
       "    <tr style=\"text-align: right;\">\n",
       "      <th></th>\n",
       "      <th>Condition #</th>\n",
       "      <th>smiles</th>\n",
       "      <th>Control_PCE</th>\n",
       "      <th>PCE_difference</th>\n",
       "      <th>target_PCE</th>\n",
       "    </tr>\n",
       "  </thead>\n",
       "  <tbody>\n",
       "    <tr>\n",
       "      <th>0</th>\n",
       "      <td>0</td>\n",
       "      <td>Cn1nnnc1S</td>\n",
       "      <td>19.20</td>\n",
       "      <td>1.30</td>\n",
       "      <td>20.50</td>\n",
       "    </tr>\n",
       "    <tr>\n",
       "      <th>1</th>\n",
       "      <td>1</td>\n",
       "      <td>I.Nc1ccccc1</td>\n",
       "      <td>19.20</td>\n",
       "      <td>1.30</td>\n",
       "      <td>20.50</td>\n",
       "    </tr>\n",
       "    <tr>\n",
       "      <th>2</th>\n",
       "      <td>2</td>\n",
       "      <td>NCC=Cc1ccccc1</td>\n",
       "      <td>17.37</td>\n",
       "      <td>4.61</td>\n",
       "      <td>21.98</td>\n",
       "    </tr>\n",
       "    <tr>\n",
       "      <th>3</th>\n",
       "      <td>3</td>\n",
       "      <td>CSCC[C@H](NC(=O)OCC1c2ccccc2c3ccccc13)C(O)=O</td>\n",
       "      <td>14.17</td>\n",
       "      <td>2.58</td>\n",
       "      <td>16.75</td>\n",
       "    </tr>\n",
       "    <tr>\n",
       "      <th>4</th>\n",
       "      <td>4</td>\n",
       "      <td>c1ccncc1</td>\n",
       "      <td>13.34</td>\n",
       "      <td>1.00</td>\n",
       "      <td>14.34</td>\n",
       "    </tr>\n",
       "  </tbody>\n",
       "</table>\n",
       "</div>"
      ],
      "text/plain": [
       "   Condition #                                        smiles  Control_PCE  \\\n",
       "0            0                                     Cn1nnnc1S        19.20   \n",
       "1            1                                   I.Nc1ccccc1        19.20   \n",
       "2            2                                 NCC=Cc1ccccc1        17.37   \n",
       "3            3  CSCC[C@H](NC(=O)OCC1c2ccccc2c3ccccc13)C(O)=O        14.17   \n",
       "4            4                                      c1ccncc1        13.34   \n",
       "\n",
       "   PCE_difference  target_PCE  \n",
       "0            1.30       20.50  \n",
       "1            1.30       20.50  \n",
       "2            4.61       21.98  \n",
       "3            2.58       16.75  \n",
       "4            1.00       14.34  "
      ]
     },
     "execution_count": 3,
     "metadata": {},
     "output_type": "execute_result"
    }
   ],
   "source": [
    "pd.set_option('display.max_rows',None)\n",
    "data=pd.read_csv('./molecule_data.csv',encoding='gb18030')\n",
    "data.head()"
   ]
  },
  {
   "cell_type": "code",
   "execution_count": 4,
   "id": "8ad2c152",
   "metadata": {},
   "outputs": [
    {
     "name": "stdout",
     "output_type": "stream",
     "text": [
      "{'c1nnn[nH]1': [0], 'c1ccccc1': [1, 2, 7, 8, 9, 14, 15, 16, 22, 24, 32, 33, 39, 40, 42, 59, 62, 63, 65, 67, 68, 75, 80, 82, 84], 'c1ccc2c(c1)Cc1ccccc1-2': [3], 'c1ccncc1': [4, 5, 6, 19, 21, 71, 72], 'c1ccc2c(c1)c1ccccc1n2-c1ccncc1': [10], 'c1ccc(-c2ccnc3c2ccc2c(-c4ccccc4)ccnc23)cc1': [11], 'c1cscn1': [12], '': [13, 17, 20, 23, 28, 41, 44, 46, 48, 51, 52, 54, 55, 56, 57, 58, 60, 61, 76, 77, 78, 79], 'O=S(Cc1ccccn1)c1nc2ccccc2[nH]1': [18], 'O=c1[nH]c(=O)c2[nH]cnc2[nH]1': [25, 26, 38], 'O=P(c1ccccc1)(c1ccccc1)c1ccccc1': [27], 'c1ccc(P(c2ccccc2)c2ccccc2)cc1': [29], 'C1CCCCC1': [30], 'c1ccc2ccccc2c1': [31, 64, 73], 'c1cnc2c(c1)ccc1cccnc12': [34], 'c1ccc(-c2cccs2)cc1': [35, 36, 37], 'O=C1C=CC(=O)N1': [43], 'O=c1ccc2cc3c4c(c2o1)CCCN4CCC3': [45], 'O=C1c2ccc3c4cccc5cccc(c6ccc(c2c36)C(=O)N1c1ccccc1)c54': [47], 'O=c1[nH]sc2ccccc12': [49], 'O=c1cc[nH]c(=O)[nH]1': [50], 'C=c1ccc(=C)cc1': [53], 'c1ncc2ncn([C@H]3CCCO3)c2n1': [66], 'O=C(NCCSCc1ccccc1)OCC1c2ccccc2-c2ccccc21': [69], 'c1csc[nH+]1': [70], 'O=c1ccc2ccccc2o1': [74], 'c1ccsc1': [81], 'c1ccc(-c2ccccn2)nc1': [83], 'c1ccc2c(c1)[nH]c1ccccc12': [85], 'O=C1/C(=C2/Nc3ccccc3C2=O)Nc2ccccc21': [86], 'C1C2CC3CC1CC(C2)C3': [87, 88], 'O=C1C2CC3CC(C2)CC1C3': [89], 'C1COCCN1': [90], 'O=C1COCCN1': [91], 'C1C[NH2+]CCN1': [92], 'c1cnc2ncccc2c1': [93], 'O=c1nc[nH]c2nc[nH]c12': [94], 'O=c1nccc[nH]1': [95], 'O=c1cccc[nH]1': [96], 'O=c1ccc2ccccc2[nH]1': [97], 'O=C1CC(=O)NC(=O)N1': [98], 'O=C1CCC(=O)N1': [99], 'c1ccc2[nH]ccc2c1': [100, 112], 'c1csc(-c2ccc(-c3cccs3)c3nsnc23)c1': [101], 'c1ccc2scnc2c1': [102], 'c1ccc(Cc2ccccc2)cc1': [103], 'C1CCOCC1': [104], 'c1ncncn1': [105, 106], 'C1=NCCN1': [107], 'S=c1[nH]c2ccccc2[nH]1': [108], 'c1c[nH]cn1': [109], 'c1ccc(-n2nc3ccccc3n2)cc1': [110], 'O=C(Nc1ccccc1)Nc1ccccc1': [111], 'O=S1(=O)N=Cc2ccccc21': [113], 'c1csc(-c2cccs2)c1': [114], 'O=C1C=CC(=O)N1c1ccccc1': [115], 'c1ccc(-c2nc(-c3ccccc3)nc(-c3ccccc3)n2)cc1': [116, 117], 'c1ccc(-c2ccccc2)cc1': [118, 119], 'c1ccc2[nH]cnc2c1': [120], 'C1=CC2(Cc3ccccc3N2)Oc2ccccc21': [121], 'O=C1C=CC(=O)N1c1ccc(Cc2ccc(N3C(=O)C=CC3=O)cc2)cc1': [122], 'O=C1NC(=O)C(c2ccsc2)=C1c1ccsc1': [123], 'O=C(c1ccccc1)c1ccccc1': [124], 'c1cc[nH+]cc1': [125], 'O=C(/C=C/C=C/c1ccc2c(c1)OCO2)N1CCCCC1': [126], 'S=c1cccc[nH]1': [127], 'c1ccoc1': [128]}\n"
     ]
    }
   ],
   "source": [
    "#Generate Scaffold\n",
    "smi_list=data.iloc[:,1].tolist()\n",
    "mol_list=[]\n",
    "for i in range(len(smi_list)):\n",
    "    smile = smi_list[i]\n",
    "    mol = Chem.MolFromSmiles(smile)\n",
    "    mol_list.append(mol)\n",
    "scaffold_list=[]\n",
    "for i in range(len(mol_list)):\n",
    "    scaffold=Chem.MolToSmiles(MurckoScaffold.GetScaffoldForMol(mol_list[i]))\n",
    "    scaffold_list.append(scaffold)\n",
    "indices = {}\n",
    "for index, item in enumerate(scaffold_list):\n",
    "    if item in indices:\n",
    "        indices[item].append(index)\n",
    "    else:\n",
    "        indices[item] = [index]\n",
    "print(indices)"
   ]
  },
  {
   "cell_type": "code",
   "execution_count": 5,
   "id": "2579444d",
   "metadata": {},
   "outputs": [
    {
     "name": "stdout",
     "output_type": "stream",
     "text": [
      "(129, 100)\n"
     ]
    }
   ],
   "source": [
    "#Input as Z+D\n",
    "df_smi = data.iloc[:,1:2].values\n",
    "\n",
    "tree_vecs=[]\n",
    "mol_vecs=[]\n",
    "for i in np.arange(len(df_smi)):\n",
    "    all_vec = []\n",
    "    all_vec = model.encode_from_smiles(df_smi[i])\n",
    "    tree_vec, mol_vec = np.hsplit(all_vec, 2)\n",
    "    tree_, _ = model.rsample(tree_vec, model.T_mean, model.T_var)\n",
    "    mol_, _ = model.rsample(mol_vec, model.G_mean, model.G_var)\n",
    "    tree_ = tree_.data.cpu().numpy()\n",
    "    mol_ = mol_.data.cpu().numpy()\n",
    "    tree_vecs.append(tree_)\n",
    "    mol_vecs.append(mol_)\n",
    "tree_vecs=np.array(tree_vecs).reshape(len(df_smi),28)\n",
    "mol_vecs=np.array(mol_vecs).reshape(len(df_smi),28)\n",
    "z_vec=np.hstack((tree_vecs,mol_vecs))\n",
    "\n",
    "molecule_smi= data.iloc[:,1]\n",
    "descriptors = ['FractionCSP3', 'BCUT2D_MRLOW', 'fr_quatN', 'PEOE_VSA8', 'fr_Ar_N',\n",
    "       'MinEStateIndex', 'fr_NH0', 'fr_imidazole', 'fr_bicyclic',\n",
    "       'fr_para_hydroxylation', 'BCUT2D_MWHI', 'PEOE_VSA2',\n",
    "       'NumSaturatedHeterocycles', 'BalabanJ', 'SlogP_VSA11',\n",
    "       'NumAliphaticHeterocycles', 'PEOE_VSA5', 'MaxAbsEStateIndex',\n",
    "       'NumAromaticHeterocycles', 'MaxAbsPartialCharge', 'VSA_EState3',\n",
    "       'VSA_EState6', 'VSA_EState2', 'HallKierAlpha', 'PEOE_VSA9',\n",
    "       'fr_aniline', 'fr_pyridine', 'VSA_EState4', 'PEOE_VSA1', 'Chi4v',\n",
    "       'fr_C_O', 'EState_VSA4', 'SlogP_VSA3', 'MolLogP', 'fr_Nhpyrrole',\n",
    "       'Chi1v', 'fr_NH1', 'EState_VSA3', 'PEOE_VSA7', 'fr_ether', 'SMR_VSA10',\n",
    "       'SlogP_VSA8', 'SMR_VSA1', 'HeavyAtomMolWt']\n",
    "molecule_mols = [Chem.MolFromSmiles(smi) for smi in molecule_smi]\n",
    "desc_calc = MoleculeDescriptors.MolecularDescriptorCalculator(descriptors)\n",
    "result = [desc_calc.CalcDescriptors(mol) for mol in molecule_mols]\n",
    "desc_df = pd.DataFrame(result)\n",
    "desc_df.columns = descriptors\n",
    "imputer = SimpleImputer(missing_values=np.nan, strategy='mean', verbose=0)\n",
    "imputer.fit(desc_df)\n",
    "desc = imputer.transform(desc_df)\n",
    "\n",
    "zd = np.hstack((z_vec,desc))\n",
    "print(zd.shape)"
   ]
  },
  {
   "cell_type": "code",
   "execution_count": 6,
   "id": "1015bdb2",
   "metadata": {},
   "outputs": [
    {
     "name": "stdout",
     "output_type": "stream",
     "text": [
      "Scaffold Group 0: 43 molecules\n",
      "Scaffold Group 1: 14 molecules\n",
      "Scaffold Group 2: 23 molecules\n",
      "Scaffold Group 3: 17 molecules\n",
      "Scaffold Group 4: 18 molecules\n",
      "Scaffold Group 5: 2 molecules\n",
      "Scaffold Group 6: 7 molecules\n",
      "Scaffold Group 7: 3 molecules\n",
      "Scaffold Group 8: 2 molecules\n"
     ]
    }
   ],
   "source": [
    "# Group Scaffold\n",
    "scaffold_groups = [\n",
    "    ['c1nnn[nH]1', 'c1ccccc1','c1ccncc1','c1cscn1','c1ccsc1','C=c1ccc(=C)cc1','c1ccsc1','c1csc[nH+]1',\n",
    "    'c1ncncn1','C1=NCCN1','c1c[nH]cn1','c1cc[nH+]cc1','S=c1cccc[nH]1'],\n",
    "    ['c1ccc2c(c1)Cc1ccccc1-2', 'c1ccc2c(c1)c1ccccc1n2-c1ccncc1', 'c1ccc(-c2ccnc3c2ccc2c(-c4ccccc4)ccnc23)cc1',\n",
    "     'O=S(Cc1ccccn1)c1nc2ccccc2[nH]1','c1ccc2ccccc2c1','c1cnc2c(c1)ccc1cccnc12','O=c1ccc2cc3c4c(c2o1)CCCN4CCC3',\n",
    "    'O=C1c2ccc3c4cccc5cccc(c6ccc(c2c36)C(=O)N1c1ccccc1)c54','c1ncc2ncn([C@H]3CCCO3)c2n1','O=C(NCCSCc1ccccc1)OCC1c2ccccc2-c2ccccc21',\n",
    "    'O=c1ccc2ccccc2o1','c1ccc2c(c1)[nH]c1ccccc12'],\n",
    "    ['','C1CCCCC1'],\n",
    "    ['O=c1[nH]c(=O)c2[nH]cnc2[nH]1', 'O=C1C=CC(=O)N1','O=c1[nH]sc2ccccc12','O=c1cc[nH]c(=O)[nH]1','O=c1nc[nH]c2nc[nH]c12','O=c1nccc[nH]1',\n",
    "     'O=c1ccc2ccccc2[nH]1','O=C1/C(=C2/Nc3ccccc3C2=O)Nc2ccccc21','O=C(Nc1ccccc1)Nc1ccccc1','O=C1C=CC(=O)N1c1ccccc1','C1=CC2(Cc3ccccc3N2)Oc2ccccc21',\n",
    "     'O=C1C=CC(=O)N1c1ccc(Cc2ccc(N3C(=O)C=CC3=O)cc2)cc1','O=C(c1ccccc1)c1ccccc1','O=C(/C=C/C=C/c1ccc2c(c1)OCO2)N1CCCCC1','O=c1cccc[nH]1'],\n",
    "    ['c1ccc(-c2cccs2)cc1', 'c1ccc(-c2ccccn2)nc1','c1cnc2ncccc2c1','c1csc(-c2ccc(-c3cccs3)c3nsnc23)c1','c1ccc2scnc2c1','c1ccc(Cc2ccccc2)cc1',\n",
    "     'S=c1[nH]c2ccccc2[nH]1','c1ccc(-n2nc3ccccc3n2)cc1','c1ccc2[nH]ccc2c1','O=S1(=O)N=Cc2ccccc21','c1csc(-c2cccs2)c1','c1ccc(-c2ccccc2)cc1',\n",
    "     'c1ccc2[nH]cnc2c1','O=C1NC(=O)C(c2ccsc2)=C1c1ccsc1'],\n",
    "    ['O=P(c1ccccc1)(c1ccccc1)c1ccccc1', 'c1ccc(P(c2ccccc2)c2ccccc2)cc1'],\n",
    "    ['C1COCCN1','O=C1COCCN1','C1C[NH2+]CCN1','O=C1CC(=O)NC(=O)N1','O=C1CCC(=O)N1','C1CCOCC1','c1ccoc1'],\n",
    "    ['C1C2CC3CC1CC(C2)C3','O=C1C2CC3CC(C2)CC1C3'],\n",
    "    ['c1ccc(-c2nc(-c3ccccc3)nc(-c3ccccc3)n2)cc1']\n",
    "]\n",
    "    \n",
    "# Create a dictionary to map each molecule to its scaffold group\n",
    "scaffold_mapping = {}\n",
    "for idx, scaffolds in enumerate(scaffold_groups):\n",
    "    for scaffold in scaffolds:\n",
    "        scaffold_mapping[scaffold] = idx\n",
    "\n",
    "# Map each molecule to its corresponding scaffold\n",
    "def map_scaffold(smiles):\n",
    "    mol = Chem.MolFromSmiles(smiles)\n",
    "    if mol:\n",
    "        scaffold = Chem.MolToSmiles(MurckoScaffold.GetScaffoldForMol(mol))\n",
    "        return scaffold_mapping.get(scaffold, -1)\n",
    "    return -1\n",
    "\n",
    "data['scaffold_group'] = data['smiles'].apply(map_scaffold)\n",
    "for idx, group in enumerate(scaffold_groups):\n",
    "    count = data[data['scaffold_group'] == idx].shape[0]\n",
    "    print(f\"Scaffold Group {idx}: {count} molecules\")"
   ]
  },
  {
   "cell_type": "code",
   "execution_count": 15,
   "id": "c5810dbf",
   "metadata": {
    "scrolled": true
   },
   "outputs": [
    {
     "name": "stderr",
     "output_type": "stream",
     "text": [
      "Trials:   0%|                                                                                  | 0/200 [00:00<?, ?it/s]"
     ]
    },
    {
     "name": "stdout",
     "output_type": "stream",
     "text": [
      "测试集数量: 13\n"
     ]
    },
    {
     "name": "stderr",
     "output_type": "stream",
     "text": [
      "Trials:   0%|▎                                                                         | 1/200 [00:00<01:19,  2.50it/s]"
     ]
    },
    {
     "name": "stdout",
     "output_type": "stream",
     "text": [
      "测试集数量: 13\n"
     ]
    },
    {
     "name": "stderr",
     "output_type": "stream",
     "text": [
      "Trials:   1%|▋                                                                         | 2/200 [00:00<01:16,  2.59it/s]"
     ]
    },
    {
     "name": "stdout",
     "output_type": "stream",
     "text": [
      "测试集数量: 13\n"
     ]
    },
    {
     "name": "stderr",
     "output_type": "stream",
     "text": [
      "Trials:   2%|█                                                                         | 3/200 [00:01<01:15,  2.59it/s]"
     ]
    },
    {
     "name": "stdout",
     "output_type": "stream",
     "text": [
      "测试集数量: 13\n"
     ]
    },
    {
     "name": "stderr",
     "output_type": "stream",
     "text": [
      "Trials:   2%|█▍                                                                        | 4/200 [00:01<01:12,  2.69it/s]"
     ]
    },
    {
     "name": "stdout",
     "output_type": "stream",
     "text": [
      "测试集数量: 13\n"
     ]
    },
    {
     "name": "stderr",
     "output_type": "stream",
     "text": [
      "Trials:   2%|█▊                                                                        | 5/200 [00:01<01:13,  2.65it/s]"
     ]
    },
    {
     "name": "stdout",
     "output_type": "stream",
     "text": [
      "测试集数量: 13\n"
     ]
    },
    {
     "name": "stderr",
     "output_type": "stream",
     "text": [
      "Trials:   3%|██▏                                                                       | 6/200 [00:02<01:12,  2.67it/s]"
     ]
    },
    {
     "name": "stdout",
     "output_type": "stream",
     "text": [
      "测试集数量: 13\n"
     ]
    },
    {
     "name": "stderr",
     "output_type": "stream",
     "text": [
      "Trials:   4%|██▌                                                                       | 7/200 [00:02<01:12,  2.65it/s]"
     ]
    },
    {
     "name": "stdout",
     "output_type": "stream",
     "text": [
      "测试集数量: 13\n"
     ]
    },
    {
     "name": "stderr",
     "output_type": "stream",
     "text": [
      "Trials:   4%|██▉                                                                       | 8/200 [00:02<01:10,  2.72it/s]"
     ]
    },
    {
     "name": "stdout",
     "output_type": "stream",
     "text": [
      "测试集数量: 13\n"
     ]
    },
    {
     "name": "stderr",
     "output_type": "stream",
     "text": [
      "Trials:   4%|███▎                                                                      | 9/200 [00:03<01:09,  2.74it/s]"
     ]
    },
    {
     "name": "stdout",
     "output_type": "stream",
     "text": [
      "测试集数量: 13\n"
     ]
    },
    {
     "name": "stderr",
     "output_type": "stream",
     "text": [
      "Trials:   5%|███▋                                                                     | 10/200 [00:03<01:08,  2.76it/s]"
     ]
    },
    {
     "name": "stdout",
     "output_type": "stream",
     "text": [
      "测试集数量: 13\n"
     ]
    },
    {
     "name": "stderr",
     "output_type": "stream",
     "text": [
      "Trials:   6%|████                                                                     | 11/200 [00:04<01:08,  2.77it/s]"
     ]
    },
    {
     "name": "stdout",
     "output_type": "stream",
     "text": [
      "测试集数量: 13\n"
     ]
    },
    {
     "name": "stderr",
     "output_type": "stream",
     "text": [
      "Trials:   6%|████▍                                                                    | 12/200 [00:04<01:08,  2.76it/s]"
     ]
    },
    {
     "name": "stdout",
     "output_type": "stream",
     "text": [
      "测试集数量: 13\n"
     ]
    },
    {
     "name": "stderr",
     "output_type": "stream",
     "text": [
      "Trials:   6%|████▋                                                                    | 13/200 [00:04<01:07,  2.78it/s]"
     ]
    },
    {
     "name": "stdout",
     "output_type": "stream",
     "text": [
      "测试集数量: 13\n"
     ]
    },
    {
     "name": "stderr",
     "output_type": "stream",
     "text": [
      "Trials:   7%|█████                                                                    | 14/200 [00:05<01:07,  2.77it/s]"
     ]
    },
    {
     "name": "stdout",
     "output_type": "stream",
     "text": [
      "测试集数量: 13\n"
     ]
    },
    {
     "name": "stderr",
     "output_type": "stream",
     "text": [
      "Trials:   8%|█████▍                                                                   | 15/200 [00:05<01:06,  2.77it/s]"
     ]
    },
    {
     "name": "stdout",
     "output_type": "stream",
     "text": [
      "测试集数量: 13\n"
     ]
    },
    {
     "name": "stderr",
     "output_type": "stream",
     "text": [
      "Trials:   8%|█████▊                                                                   | 16/200 [00:05<01:05,  2.82it/s]"
     ]
    },
    {
     "name": "stdout",
     "output_type": "stream",
     "text": [
      "测试集数量: 13\n"
     ]
    },
    {
     "name": "stderr",
     "output_type": "stream",
     "text": [
      "Trials:   8%|██████▏                                                                  | 17/200 [00:06<01:06,  2.75it/s]"
     ]
    },
    {
     "name": "stdout",
     "output_type": "stream",
     "text": [
      "测试集数量: 13\n"
     ]
    },
    {
     "name": "stderr",
     "output_type": "stream",
     "text": [
      "Trials:   9%|██████▌                                                                  | 18/200 [00:06<01:08,  2.68it/s]"
     ]
    },
    {
     "name": "stdout",
     "output_type": "stream",
     "text": [
      "测试集数量: 13\n"
     ]
    },
    {
     "name": "stderr",
     "output_type": "stream",
     "text": [
      "Trials:  10%|██████▉                                                                  | 19/200 [00:07<01:08,  2.65it/s]"
     ]
    },
    {
     "name": "stdout",
     "output_type": "stream",
     "text": [
      "测试集数量: 13\n"
     ]
    },
    {
     "name": "stderr",
     "output_type": "stream",
     "text": [
      "Trials:  10%|███████▎                                                                 | 20/200 [00:07<01:07,  2.67it/s]"
     ]
    },
    {
     "name": "stdout",
     "output_type": "stream",
     "text": [
      "测试集数量: 13\n"
     ]
    },
    {
     "name": "stderr",
     "output_type": "stream",
     "text": [
      "Trials:  10%|███████▋                                                                 | 21/200 [00:07<01:04,  2.76it/s]"
     ]
    },
    {
     "name": "stdout",
     "output_type": "stream",
     "text": [
      "测试集数量: 13\n"
     ]
    },
    {
     "name": "stderr",
     "output_type": "stream",
     "text": [
      "Trials:  11%|████████                                                                 | 22/200 [00:08<01:09,  2.56it/s]"
     ]
    },
    {
     "name": "stdout",
     "output_type": "stream",
     "text": [
      "测试集数量: 13\n"
     ]
    },
    {
     "name": "stderr",
     "output_type": "stream",
     "text": [
      "Trials:  12%|████████▍                                                                | 23/200 [00:08<01:11,  2.46it/s]"
     ]
    },
    {
     "name": "stdout",
     "output_type": "stream",
     "text": [
      "测试集数量: 13\n"
     ]
    },
    {
     "name": "stderr",
     "output_type": "stream",
     "text": [
      "Trials:  12%|████████▊                                                                | 24/200 [00:08<01:09,  2.55it/s]"
     ]
    },
    {
     "name": "stdout",
     "output_type": "stream",
     "text": [
      "测试集数量: 13\n"
     ]
    },
    {
     "name": "stderr",
     "output_type": "stream",
     "text": [
      "Trials:  12%|█████████▏                                                               | 25/200 [00:09<01:12,  2.40it/s]"
     ]
    },
    {
     "name": "stdout",
     "output_type": "stream",
     "text": [
      "测试集数量: 13\n"
     ]
    },
    {
     "name": "stderr",
     "output_type": "stream",
     "text": [
      "Trials:  13%|█████████▍                                                               | 26/200 [00:09<01:16,  2.26it/s]"
     ]
    },
    {
     "name": "stdout",
     "output_type": "stream",
     "text": [
      "测试集数量: 13\n"
     ]
    },
    {
     "name": "stderr",
     "output_type": "stream",
     "text": [
      "Trials:  14%|█████████▊                                                               | 27/200 [00:10<01:22,  2.09it/s]"
     ]
    },
    {
     "name": "stdout",
     "output_type": "stream",
     "text": [
      "测试集数量: 13\n"
     ]
    },
    {
     "name": "stderr",
     "output_type": "stream",
     "text": [
      "Trials:  14%|██████████▏                                                              | 28/200 [00:11<01:25,  2.02it/s]"
     ]
    },
    {
     "name": "stdout",
     "output_type": "stream",
     "text": [
      "测试集数量: 13\n"
     ]
    },
    {
     "name": "stderr",
     "output_type": "stream",
     "text": [
      "Trials:  14%|██████████▌                                                              | 29/200 [00:11<01:25,  1.99it/s]"
     ]
    },
    {
     "name": "stdout",
     "output_type": "stream",
     "text": [
      "测试集数量: 13\n"
     ]
    },
    {
     "name": "stderr",
     "output_type": "stream",
     "text": [
      "Trials:  15%|██████████▉                                                              | 30/200 [00:12<01:24,  2.02it/s]"
     ]
    },
    {
     "name": "stdout",
     "output_type": "stream",
     "text": [
      "测试集数量: 13\n"
     ]
    },
    {
     "name": "stderr",
     "output_type": "stream",
     "text": [
      "Trials:  16%|███████████▎                                                             | 31/200 [00:12<01:16,  2.21it/s]"
     ]
    },
    {
     "name": "stdout",
     "output_type": "stream",
     "text": [
      "测试集数量: 13\n"
     ]
    },
    {
     "name": "stderr",
     "output_type": "stream",
     "text": [
      "Trials:  16%|███████████▋                                                             | 32/200 [00:12<01:12,  2.33it/s]"
     ]
    },
    {
     "name": "stdout",
     "output_type": "stream",
     "text": [
      "测试集数量: 13\n"
     ]
    },
    {
     "name": "stderr",
     "output_type": "stream",
     "text": [
      "Trials:  16%|████████████                                                             | 33/200 [00:13<01:10,  2.37it/s]"
     ]
    },
    {
     "name": "stdout",
     "output_type": "stream",
     "text": [
      "测试集数量: 13\n"
     ]
    },
    {
     "name": "stderr",
     "output_type": "stream",
     "text": [
      "Trials:  17%|████████████▍                                                            | 34/200 [00:13<01:05,  2.52it/s]"
     ]
    },
    {
     "name": "stdout",
     "output_type": "stream",
     "text": [
      "测试集数量: 13\n"
     ]
    },
    {
     "name": "stderr",
     "output_type": "stream",
     "text": [
      "Trials:  18%|████████████▊                                                            | 35/200 [00:13<01:03,  2.60it/s]"
     ]
    },
    {
     "name": "stdout",
     "output_type": "stream",
     "text": [
      "测试集数量: 13\n"
     ]
    },
    {
     "name": "stderr",
     "output_type": "stream",
     "text": [
      "Trials:  18%|█████████████▏                                                           | 36/200 [00:14<01:03,  2.58it/s]"
     ]
    },
    {
     "name": "stdout",
     "output_type": "stream",
     "text": [
      "测试集数量: 13\n"
     ]
    },
    {
     "name": "stderr",
     "output_type": "stream",
     "text": [
      "Trials:  18%|█████████████▌                                                           | 37/200 [00:14<01:01,  2.66it/s]"
     ]
    },
    {
     "name": "stdout",
     "output_type": "stream",
     "text": [
      "测试集数量: 13\n"
     ]
    },
    {
     "name": "stderr",
     "output_type": "stream",
     "text": [
      "Trials:  19%|█████████████▊                                                           | 38/200 [00:14<00:58,  2.76it/s]"
     ]
    },
    {
     "name": "stdout",
     "output_type": "stream",
     "text": [
      "测试集数量: 13\n"
     ]
    },
    {
     "name": "stderr",
     "output_type": "stream",
     "text": [
      "Trials:  20%|██████████████▏                                                          | 39/200 [00:15<00:56,  2.84it/s]"
     ]
    },
    {
     "name": "stdout",
     "output_type": "stream",
     "text": [
      "测试集数量: 13\n"
     ]
    },
    {
     "name": "stderr",
     "output_type": "stream",
     "text": [
      "Trials:  20%|██████████████▌                                                          | 40/200 [00:15<00:57,  2.78it/s]"
     ]
    },
    {
     "name": "stdout",
     "output_type": "stream",
     "text": [
      "测试集数量: 13\n"
     ]
    },
    {
     "name": "stderr",
     "output_type": "stream",
     "text": [
      "Trials:  20%|██████████████▉                                                          | 41/200 [00:16<00:57,  2.77it/s]"
     ]
    },
    {
     "name": "stdout",
     "output_type": "stream",
     "text": [
      "测试集数量: 13\n"
     ]
    },
    {
     "name": "stderr",
     "output_type": "stream",
     "text": [
      "Trials:  21%|███████████████▎                                                         | 42/200 [00:16<00:55,  2.83it/s]"
     ]
    },
    {
     "name": "stdout",
     "output_type": "stream",
     "text": [
      "测试集数量: 13\n"
     ]
    },
    {
     "name": "stderr",
     "output_type": "stream",
     "text": [
      "Trials:  22%|███████████████▋                                                         | 43/200 [00:16<00:57,  2.71it/s]"
     ]
    },
    {
     "name": "stdout",
     "output_type": "stream",
     "text": [
      "测试集数量: 13\n"
     ]
    },
    {
     "name": "stderr",
     "output_type": "stream",
     "text": [
      "Trials:  22%|████████████████                                                         | 44/200 [00:17<01:04,  2.40it/s]"
     ]
    },
    {
     "name": "stdout",
     "output_type": "stream",
     "text": [
      "测试集数量: 13\n"
     ]
    },
    {
     "name": "stderr",
     "output_type": "stream",
     "text": [
      "Trials:  22%|████████████████▍                                                        | 45/200 [00:17<01:06,  2.32it/s]"
     ]
    },
    {
     "name": "stdout",
     "output_type": "stream",
     "text": [
      "测试集数量: 13\n"
     ]
    },
    {
     "name": "stderr",
     "output_type": "stream",
     "text": [
      "Trials:  23%|████████████████▊                                                        | 46/200 [00:18<01:17,  1.98it/s]"
     ]
    },
    {
     "name": "stdout",
     "output_type": "stream",
     "text": [
      "测试集数量: 13\n"
     ]
    },
    {
     "name": "stderr",
     "output_type": "stream",
     "text": [
      "Trials:  24%|█████████████████▏                                                       | 47/200 [00:19<01:22,  1.86it/s]"
     ]
    },
    {
     "name": "stdout",
     "output_type": "stream",
     "text": [
      "测试集数量: 13\n"
     ]
    },
    {
     "name": "stderr",
     "output_type": "stream",
     "text": [
      "Trials:  24%|█████████████████▌                                                       | 48/200 [00:19<01:23,  1.83it/s]"
     ]
    },
    {
     "name": "stdout",
     "output_type": "stream",
     "text": [
      "测试集数量: 13\n"
     ]
    },
    {
     "name": "stderr",
     "output_type": "stream",
     "text": [
      "Trials:  24%|█████████████████▉                                                       | 49/200 [00:19<01:13,  2.06it/s]"
     ]
    },
    {
     "name": "stdout",
     "output_type": "stream",
     "text": [
      "测试集数量: 13\n"
     ]
    },
    {
     "name": "stderr",
     "output_type": "stream",
     "text": [
      "Trials:  25%|██████████████████▎                                                      | 50/200 [00:20<01:09,  2.17it/s]"
     ]
    },
    {
     "name": "stdout",
     "output_type": "stream",
     "text": [
      "测试集数量: 13\n"
     ]
    },
    {
     "name": "stderr",
     "output_type": "stream",
     "text": [
      "Trials:  26%|██████████████████▌                                                      | 51/200 [00:20<01:02,  2.38it/s]"
     ]
    },
    {
     "name": "stdout",
     "output_type": "stream",
     "text": [
      "测试集数量: 13\n"
     ]
    },
    {
     "name": "stderr",
     "output_type": "stream",
     "text": [
      "Trials:  26%|██████████████████▉                                                      | 52/200 [00:21<01:03,  2.31it/s]"
     ]
    },
    {
     "name": "stdout",
     "output_type": "stream",
     "text": [
      "测试集数量: 13\n"
     ]
    },
    {
     "name": "stderr",
     "output_type": "stream",
     "text": [
      "Trials:  26%|███████████████████▎                                                     | 53/200 [00:21<01:06,  2.21it/s]"
     ]
    },
    {
     "name": "stdout",
     "output_type": "stream",
     "text": [
      "测试集数量: 13\n"
     ]
    },
    {
     "name": "stderr",
     "output_type": "stream",
     "text": [
      "Trials:  27%|███████████████████▋                                                     | 54/200 [00:22<01:03,  2.32it/s]"
     ]
    },
    {
     "name": "stdout",
     "output_type": "stream",
     "text": [
      "测试集数量: 13\n"
     ]
    },
    {
     "name": "stderr",
     "output_type": "stream",
     "text": [
      "Trials:  28%|████████████████████                                                     | 55/200 [00:22<00:59,  2.43it/s]"
     ]
    },
    {
     "name": "stdout",
     "output_type": "stream",
     "text": [
      "测试集数量: 13\n"
     ]
    },
    {
     "name": "stderr",
     "output_type": "stream",
     "text": [
      "Trials:  28%|████████████████████▍                                                    | 56/200 [00:22<00:58,  2.48it/s]"
     ]
    },
    {
     "name": "stdout",
     "output_type": "stream",
     "text": [
      "测试集数量: 13\n"
     ]
    },
    {
     "name": "stderr",
     "output_type": "stream",
     "text": [
      "Trials:  28%|████████████████████▊                                                    | 57/200 [00:23<00:56,  2.54it/s]"
     ]
    },
    {
     "name": "stdout",
     "output_type": "stream",
     "text": [
      "测试集数量: 13\n"
     ]
    },
    {
     "name": "stderr",
     "output_type": "stream",
     "text": [
      "Trials:  29%|█████████████████████▏                                                   | 58/200 [00:23<00:55,  2.58it/s]"
     ]
    },
    {
     "name": "stdout",
     "output_type": "stream",
     "text": [
      "测试集数量: 13\n"
     ]
    },
    {
     "name": "stderr",
     "output_type": "stream",
     "text": [
      "Trials:  30%|█████████████████████▌                                                   | 59/200 [00:23<00:54,  2.61it/s]"
     ]
    },
    {
     "name": "stdout",
     "output_type": "stream",
     "text": [
      "测试集数量: 13\n"
     ]
    },
    {
     "name": "stderr",
     "output_type": "stream",
     "text": [
      "Trials:  30%|█████████████████████▉                                                   | 60/200 [00:24<00:52,  2.68it/s]"
     ]
    },
    {
     "name": "stdout",
     "output_type": "stream",
     "text": [
      "测试集数量: 13\n"
     ]
    },
    {
     "name": "stderr",
     "output_type": "stream",
     "text": [
      "Trials:  30%|██████████████████████▎                                                  | 61/200 [00:24<00:54,  2.55it/s]"
     ]
    },
    {
     "name": "stdout",
     "output_type": "stream",
     "text": [
      "测试集数量: 13\n"
     ]
    },
    {
     "name": "stderr",
     "output_type": "stream",
     "text": [
      "Trials:  31%|██████████████████████▋                                                  | 62/200 [00:25<00:55,  2.48it/s]"
     ]
    },
    {
     "name": "stdout",
     "output_type": "stream",
     "text": [
      "测试集数量: 13\n"
     ]
    },
    {
     "name": "stderr",
     "output_type": "stream",
     "text": [
      "Trials:  32%|██████████████████████▉                                                  | 63/200 [00:25<00:56,  2.43it/s]"
     ]
    },
    {
     "name": "stdout",
     "output_type": "stream",
     "text": [
      "测试集数量: 13\n"
     ]
    },
    {
     "name": "stderr",
     "output_type": "stream",
     "text": [
      "Trials:  32%|███████████████████████▎                                                 | 64/200 [00:25<00:56,  2.42it/s]"
     ]
    },
    {
     "name": "stdout",
     "output_type": "stream",
     "text": [
      "测试集数量: 13\n"
     ]
    },
    {
     "name": "stderr",
     "output_type": "stream",
     "text": [
      "Trials:  32%|███████████████████████▋                                                 | 65/200 [00:26<00:54,  2.46it/s]"
     ]
    },
    {
     "name": "stdout",
     "output_type": "stream",
     "text": [
      "测试集数量: 13\n"
     ]
    },
    {
     "name": "stderr",
     "output_type": "stream",
     "text": [
      "Trials:  33%|████████████████████████                                                 | 66/200 [00:26<00:54,  2.45it/s]"
     ]
    },
    {
     "name": "stdout",
     "output_type": "stream",
     "text": [
      "测试集数量: 13\n"
     ]
    },
    {
     "name": "stderr",
     "output_type": "stream",
     "text": [
      "Trials:  34%|████████████████████████▍                                                | 67/200 [00:27<00:53,  2.49it/s]"
     ]
    },
    {
     "name": "stdout",
     "output_type": "stream",
     "text": [
      "测试集数量: 13\n"
     ]
    },
    {
     "name": "stderr",
     "output_type": "stream",
     "text": [
      "Trials:  34%|████████████████████████▊                                                | 68/200 [00:27<00:52,  2.52it/s]"
     ]
    },
    {
     "name": "stdout",
     "output_type": "stream",
     "text": [
      "测试集数量: 13\n"
     ]
    },
    {
     "name": "stderr",
     "output_type": "stream",
     "text": [
      "Trials:  34%|█████████████████████████▏                                               | 69/200 [00:27<00:50,  2.57it/s]"
     ]
    },
    {
     "name": "stdout",
     "output_type": "stream",
     "text": [
      "测试集数量: 13\n"
     ]
    },
    {
     "name": "stderr",
     "output_type": "stream",
     "text": [
      "Trials:  35%|█████████████████████████▌                                               | 70/200 [00:28<00:49,  2.65it/s]"
     ]
    },
    {
     "name": "stdout",
     "output_type": "stream",
     "text": [
      "测试集数量: 13\n"
     ]
    },
    {
     "name": "stderr",
     "output_type": "stream",
     "text": [
      "Trials:  36%|█████████████████████████▉                                               | 71/200 [00:28<00:49,  2.60it/s]"
     ]
    },
    {
     "name": "stdout",
     "output_type": "stream",
     "text": [
      "测试集数量: 13\n"
     ]
    },
    {
     "name": "stderr",
     "output_type": "stream",
     "text": [
      "Trials:  36%|██████████████████████████▎                                              | 72/200 [00:29<00:48,  2.64it/s]"
     ]
    },
    {
     "name": "stdout",
     "output_type": "stream",
     "text": [
      "测试集数量: 13\n"
     ]
    },
    {
     "name": "stderr",
     "output_type": "stream",
     "text": [
      "Trials:  36%|██████████████████████████▋                                              | 73/200 [00:29<00:48,  2.63it/s]"
     ]
    },
    {
     "name": "stdout",
     "output_type": "stream",
     "text": [
      "测试集数量: 13\n"
     ]
    },
    {
     "name": "stderr",
     "output_type": "stream",
     "text": [
      "Trials:  37%|███████████████████████████                                              | 74/200 [00:29<00:48,  2.60it/s]"
     ]
    },
    {
     "name": "stdout",
     "output_type": "stream",
     "text": [
      "测试集数量: 13\n"
     ]
    },
    {
     "name": "stderr",
     "output_type": "stream",
     "text": [
      "Trials:  38%|███████████████████████████▍                                             | 75/200 [00:30<00:50,  2.50it/s]"
     ]
    },
    {
     "name": "stdout",
     "output_type": "stream",
     "text": [
      "测试集数量: 13\n"
     ]
    },
    {
     "name": "stderr",
     "output_type": "stream",
     "text": [
      "Trials:  38%|███████████████████████████▋                                             | 76/200 [00:30<00:49,  2.53it/s]"
     ]
    },
    {
     "name": "stdout",
     "output_type": "stream",
     "text": [
      "测试集数量: 13\n"
     ]
    },
    {
     "name": "stderr",
     "output_type": "stream",
     "text": [
      "Trials:  38%|████████████████████████████                                             | 77/200 [00:31<00:49,  2.49it/s]"
     ]
    },
    {
     "name": "stdout",
     "output_type": "stream",
     "text": [
      "测试集数量: 13\n"
     ]
    },
    {
     "name": "stderr",
     "output_type": "stream",
     "text": [
      "Trials:  39%|████████████████████████████▍                                            | 78/200 [00:31<00:48,  2.49it/s]"
     ]
    },
    {
     "name": "stdout",
     "output_type": "stream",
     "text": [
      "测试集数量: 13\n"
     ]
    },
    {
     "name": "stderr",
     "output_type": "stream",
     "text": [
      "Trials:  40%|████████████████████████████▊                                            | 79/200 [00:31<00:47,  2.53it/s]"
     ]
    },
    {
     "name": "stdout",
     "output_type": "stream",
     "text": [
      "测试集数量: 13\n"
     ]
    },
    {
     "name": "stderr",
     "output_type": "stream",
     "text": [
      "Trials:  40%|█████████████████████████████▏                                           | 80/200 [00:32<00:46,  2.59it/s]"
     ]
    },
    {
     "name": "stdout",
     "output_type": "stream",
     "text": [
      "测试集数量: 13\n"
     ]
    },
    {
     "name": "stderr",
     "output_type": "stream",
     "text": [
      "Trials:  40%|█████████████████████████████▌                                           | 81/200 [00:32<00:49,  2.41it/s]"
     ]
    },
    {
     "name": "stdout",
     "output_type": "stream",
     "text": [
      "测试集数量: 13\n"
     ]
    },
    {
     "name": "stderr",
     "output_type": "stream",
     "text": [
      "Trials:  41%|█████████████████████████████▉                                           | 82/200 [00:33<00:46,  2.51it/s]"
     ]
    },
    {
     "name": "stdout",
     "output_type": "stream",
     "text": [
      "测试集数量: 13\n"
     ]
    },
    {
     "name": "stderr",
     "output_type": "stream",
     "text": [
      "Trials:  42%|██████████████████████████████▎                                          | 83/200 [00:33<00:48,  2.39it/s]"
     ]
    },
    {
     "name": "stdout",
     "output_type": "stream",
     "text": [
      "测试集数量: 13\n"
     ]
    },
    {
     "name": "stderr",
     "output_type": "stream",
     "text": [
      "Trials:  42%|██████████████████████████████▋                                          | 84/200 [00:33<00:46,  2.48it/s]"
     ]
    },
    {
     "name": "stdout",
     "output_type": "stream",
     "text": [
      "测试集数量: 13\n"
     ]
    },
    {
     "name": "stderr",
     "output_type": "stream",
     "text": [
      "Trials:  42%|███████████████████████████████                                          | 85/200 [00:34<00:44,  2.57it/s]"
     ]
    },
    {
     "name": "stdout",
     "output_type": "stream",
     "text": [
      "测试集数量: 13\n"
     ]
    },
    {
     "name": "stderr",
     "output_type": "stream",
     "text": [
      "Trials:  43%|███████████████████████████████▍                                         | 86/200 [00:34<00:44,  2.59it/s]"
     ]
    },
    {
     "name": "stdout",
     "output_type": "stream",
     "text": [
      "测试集数量: 13\n"
     ]
    },
    {
     "name": "stderr",
     "output_type": "stream",
     "text": [
      "Trials:  44%|███████████████████████████████▊                                         | 87/200 [00:35<00:44,  2.54it/s]"
     ]
    },
    {
     "name": "stdout",
     "output_type": "stream",
     "text": [
      "测试集数量: 13\n"
     ]
    },
    {
     "name": "stderr",
     "output_type": "stream",
     "text": [
      "Trials:  44%|████████████████████████████████                                         | 88/200 [00:35<00:43,  2.59it/s]"
     ]
    },
    {
     "name": "stdout",
     "output_type": "stream",
     "text": [
      "测试集数量: 13\n"
     ]
    },
    {
     "name": "stderr",
     "output_type": "stream",
     "text": [
      "Trials:  44%|████████████████████████████████▍                                        | 89/200 [00:35<00:42,  2.63it/s]"
     ]
    },
    {
     "name": "stdout",
     "output_type": "stream",
     "text": [
      "测试集数量: 13\n"
     ]
    },
    {
     "name": "stderr",
     "output_type": "stream",
     "text": [
      "Trials:  45%|████████████████████████████████▊                                        | 90/200 [00:36<00:42,  2.58it/s]"
     ]
    },
    {
     "name": "stdout",
     "output_type": "stream",
     "text": [
      "测试集数量: 13\n"
     ]
    },
    {
     "name": "stderr",
     "output_type": "stream",
     "text": [
      "Trials:  46%|█████████████████████████████████▏                                       | 91/200 [00:36<00:43,  2.50it/s]"
     ]
    },
    {
     "name": "stdout",
     "output_type": "stream",
     "text": [
      "测试集数量: 13\n"
     ]
    },
    {
     "name": "stderr",
     "output_type": "stream",
     "text": [
      "Trials:  46%|█████████████████████████████████▌                                       | 92/200 [00:36<00:43,  2.50it/s]"
     ]
    },
    {
     "name": "stdout",
     "output_type": "stream",
     "text": [
      "测试集数量: 13\n"
     ]
    },
    {
     "name": "stderr",
     "output_type": "stream",
     "text": [
      "Trials:  46%|█████████████████████████████████▉                                       | 93/200 [00:37<00:42,  2.53it/s]"
     ]
    },
    {
     "name": "stdout",
     "output_type": "stream",
     "text": [
      "测试集数量: 13\n"
     ]
    },
    {
     "name": "stderr",
     "output_type": "stream",
     "text": [
      "Trials:  47%|██████████████████████████████████▎                                      | 94/200 [00:37<00:41,  2.57it/s]"
     ]
    },
    {
     "name": "stdout",
     "output_type": "stream",
     "text": [
      "测试集数量: 13\n"
     ]
    },
    {
     "name": "stderr",
     "output_type": "stream",
     "text": [
      "Trials:  48%|██████████████████████████████████▋                                      | 95/200 [00:38<00:40,  2.62it/s]"
     ]
    },
    {
     "name": "stdout",
     "output_type": "stream",
     "text": [
      "测试集数量: 13\n"
     ]
    },
    {
     "name": "stderr",
     "output_type": "stream",
     "text": [
      "Trials:  48%|███████████████████████████████████                                      | 96/200 [00:38<00:39,  2.60it/s]"
     ]
    },
    {
     "name": "stdout",
     "output_type": "stream",
     "text": [
      "测试集数量: 13\n"
     ]
    },
    {
     "name": "stderr",
     "output_type": "stream",
     "text": [
      "Trials:  48%|███████████████████████████████████▍                                     | 97/200 [00:38<00:40,  2.56it/s]"
     ]
    },
    {
     "name": "stdout",
     "output_type": "stream",
     "text": [
      "测试集数量: 13\n"
     ]
    },
    {
     "name": "stderr",
     "output_type": "stream",
     "text": [
      "Trials:  49%|███████████████████████████████████▊                                     | 98/200 [00:39<00:40,  2.55it/s]"
     ]
    },
    {
     "name": "stdout",
     "output_type": "stream",
     "text": [
      "测试集数量: 13\n"
     ]
    },
    {
     "name": "stderr",
     "output_type": "stream",
     "text": [
      "Trials:  50%|████████████████████████████████████▏                                    | 99/200 [00:39<00:39,  2.58it/s]"
     ]
    },
    {
     "name": "stdout",
     "output_type": "stream",
     "text": [
      "测试集数量: 13\n"
     ]
    },
    {
     "name": "stderr",
     "output_type": "stream",
     "text": [
      "Trials:  50%|████████████████████████████████████                                    | 100/200 [00:40<00:37,  2.67it/s]"
     ]
    },
    {
     "name": "stdout",
     "output_type": "stream",
     "text": [
      "测试集数量: 13\n"
     ]
    },
    {
     "name": "stderr",
     "output_type": "stream",
     "text": [
      "Trials:  50%|████████████████████████████████████▎                                   | 101/200 [00:40<00:36,  2.74it/s]"
     ]
    },
    {
     "name": "stdout",
     "output_type": "stream",
     "text": [
      "测试集数量: 13\n"
     ]
    },
    {
     "name": "stderr",
     "output_type": "stream",
     "text": [
      "Trials:  51%|████████████████████████████████████▋                                   | 102/200 [00:40<00:35,  2.76it/s]"
     ]
    },
    {
     "name": "stdout",
     "output_type": "stream",
     "text": [
      "测试集数量: 13\n"
     ]
    },
    {
     "name": "stderr",
     "output_type": "stream",
     "text": [
      "Trials:  52%|█████████████████████████████████████                                   | 103/200 [00:41<00:36,  2.65it/s]"
     ]
    },
    {
     "name": "stdout",
     "output_type": "stream",
     "text": [
      "测试集数量: 13\n"
     ]
    },
    {
     "name": "stderr",
     "output_type": "stream",
     "text": [
      "Trials:  52%|█████████████████████████████████████▍                                  | 104/200 [00:41<00:36,  2.66it/s]"
     ]
    },
    {
     "name": "stdout",
     "output_type": "stream",
     "text": [
      "测试集数量: 13\n"
     ]
    },
    {
     "name": "stderr",
     "output_type": "stream",
     "text": [
      "Trials:  52%|█████████████████████████████████████▊                                  | 105/200 [00:41<00:35,  2.66it/s]"
     ]
    },
    {
     "name": "stdout",
     "output_type": "stream",
     "text": [
      "测试集数量: 13\n"
     ]
    },
    {
     "name": "stderr",
     "output_type": "stream",
     "text": [
      "Trials:  53%|██████████████████████████████████████▏                                 | 106/200 [00:42<00:35,  2.66it/s]"
     ]
    },
    {
     "name": "stdout",
     "output_type": "stream",
     "text": [
      "测试集数量: 13\n"
     ]
    },
    {
     "name": "stderr",
     "output_type": "stream",
     "text": [
      "Trials:  54%|██████████████████████████████████████▌                                 | 107/200 [00:42<00:34,  2.73it/s]"
     ]
    },
    {
     "name": "stdout",
     "output_type": "stream",
     "text": [
      "测试集数量: 13\n"
     ]
    },
    {
     "name": "stderr",
     "output_type": "stream",
     "text": [
      "Trials:  54%|██████████████████████████████████████▉                                 | 108/200 [00:42<00:34,  2.70it/s]"
     ]
    },
    {
     "name": "stdout",
     "output_type": "stream",
     "text": [
      "测试集数量: 13\n"
     ]
    },
    {
     "name": "stderr",
     "output_type": "stream",
     "text": [
      "Trials:  55%|███████████████████████████████████████▏                                | 109/200 [00:43<00:33,  2.68it/s]"
     ]
    },
    {
     "name": "stdout",
     "output_type": "stream",
     "text": [
      "测试集数量: 13\n"
     ]
    },
    {
     "name": "stderr",
     "output_type": "stream",
     "text": [
      "Trials:  55%|███████████████████████████████████████▌                                | 110/200 [00:43<00:32,  2.76it/s]"
     ]
    },
    {
     "name": "stdout",
     "output_type": "stream",
     "text": [
      "测试集数量: 13\n"
     ]
    },
    {
     "name": "stderr",
     "output_type": "stream",
     "text": [
      "Trials:  56%|███████████████████████████████████████▉                                | 111/200 [00:44<00:32,  2.74it/s]"
     ]
    },
    {
     "name": "stdout",
     "output_type": "stream",
     "text": [
      "测试集数量: 13\n"
     ]
    },
    {
     "name": "stderr",
     "output_type": "stream",
     "text": [
      "Trials:  56%|████████████████████████████████████████▎                               | 112/200 [00:44<00:32,  2.74it/s]"
     ]
    },
    {
     "name": "stdout",
     "output_type": "stream",
     "text": [
      "测试集数量: 13\n"
     ]
    },
    {
     "name": "stderr",
     "output_type": "stream",
     "text": [
      "Trials:  56%|████████████████████████████████████████▋                               | 113/200 [00:44<00:30,  2.81it/s]"
     ]
    },
    {
     "name": "stdout",
     "output_type": "stream",
     "text": [
      "测试集数量: 13\n"
     ]
    },
    {
     "name": "stderr",
     "output_type": "stream",
     "text": [
      "Trials:  57%|█████████████████████████████████████████                               | 114/200 [00:45<00:31,  2.75it/s]"
     ]
    },
    {
     "name": "stdout",
     "output_type": "stream",
     "text": [
      "测试集数量: 13\n"
     ]
    },
    {
     "name": "stderr",
     "output_type": "stream",
     "text": [
      "Trials:  57%|█████████████████████████████████████████▍                              | 115/200 [00:45<00:31,  2.72it/s]"
     ]
    },
    {
     "name": "stdout",
     "output_type": "stream",
     "text": [
      "测试集数量: 13\n"
     ]
    },
    {
     "name": "stderr",
     "output_type": "stream",
     "text": [
      "Trials:  58%|█████████████████████████████████████████▊                              | 116/200 [00:45<00:31,  2.71it/s]"
     ]
    },
    {
     "name": "stdout",
     "output_type": "stream",
     "text": [
      "测试集数量: 13\n"
     ]
    },
    {
     "name": "stderr",
     "output_type": "stream",
     "text": [
      "Trials:  58%|██████████████████████████████████████████                              | 117/200 [00:46<00:30,  2.71it/s]"
     ]
    },
    {
     "name": "stdout",
     "output_type": "stream",
     "text": [
      "测试集数量: 13\n"
     ]
    },
    {
     "name": "stderr",
     "output_type": "stream",
     "text": [
      "Trials:  59%|██████████████████████████████████████████▍                             | 118/200 [00:46<00:30,  2.66it/s]"
     ]
    },
    {
     "name": "stdout",
     "output_type": "stream",
     "text": [
      "测试集数量: 13\n"
     ]
    },
    {
     "name": "stderr",
     "output_type": "stream",
     "text": [
      "Trials:  60%|██████████████████████████████████████████▊                             | 119/200 [00:47<00:31,  2.58it/s]"
     ]
    },
    {
     "name": "stdout",
     "output_type": "stream",
     "text": [
      "测试集数量: 13\n"
     ]
    },
    {
     "name": "stderr",
     "output_type": "stream",
     "text": [
      "Trials:  60%|███████████████████████████████████████████▏                            | 120/200 [00:47<00:31,  2.54it/s]"
     ]
    },
    {
     "name": "stdout",
     "output_type": "stream",
     "text": [
      "测试集数量: 13\n"
     ]
    },
    {
     "name": "stderr",
     "output_type": "stream",
     "text": [
      "Trials:  60%|███████████████████████████████████████████▌                            | 121/200 [00:47<00:31,  2.50it/s]"
     ]
    },
    {
     "name": "stdout",
     "output_type": "stream",
     "text": [
      "测试集数量: 13\n"
     ]
    },
    {
     "name": "stderr",
     "output_type": "stream",
     "text": [
      "Trials:  61%|███████████████████████████████████████████▉                            | 122/200 [00:48<00:30,  2.53it/s]"
     ]
    },
    {
     "name": "stdout",
     "output_type": "stream",
     "text": [
      "测试集数量: 13\n"
     ]
    },
    {
     "name": "stderr",
     "output_type": "stream",
     "text": [
      "Trials:  62%|████████████████████████████████████████████▎                           | 123/200 [00:48<00:30,  2.55it/s]"
     ]
    },
    {
     "name": "stdout",
     "output_type": "stream",
     "text": [
      "测试集数量: 13\n"
     ]
    },
    {
     "name": "stderr",
     "output_type": "stream",
     "text": [
      "Trials:  62%|████████████████████████████████████████████▋                           | 124/200 [00:49<00:29,  2.58it/s]"
     ]
    },
    {
     "name": "stdout",
     "output_type": "stream",
     "text": [
      "测试集数量: 13\n"
     ]
    },
    {
     "name": "stderr",
     "output_type": "stream",
     "text": [
      "Trials:  62%|█████████████████████████████████████████████                           | 125/200 [00:49<00:28,  2.64it/s]"
     ]
    },
    {
     "name": "stdout",
     "output_type": "stream",
     "text": [
      "测试集数量: 13\n"
     ]
    },
    {
     "name": "stderr",
     "output_type": "stream",
     "text": [
      "Trials:  63%|█████████████████████████████████████████████▎                          | 126/200 [00:49<00:29,  2.50it/s]"
     ]
    },
    {
     "name": "stdout",
     "output_type": "stream",
     "text": [
      "测试集数量: 13\n"
     ]
    },
    {
     "name": "stderr",
     "output_type": "stream",
     "text": [
      "Trials:  64%|█████████████████████████████████████████████▋                          | 127/200 [00:50<00:28,  2.53it/s]"
     ]
    },
    {
     "name": "stdout",
     "output_type": "stream",
     "text": [
      "测试集数量: 13\n"
     ]
    },
    {
     "name": "stderr",
     "output_type": "stream",
     "text": [
      "Trials:  64%|██████████████████████████████████████████████                          | 128/200 [00:50<00:28,  2.50it/s]"
     ]
    },
    {
     "name": "stdout",
     "output_type": "stream",
     "text": [
      "测试集数量: 13\n"
     ]
    },
    {
     "name": "stderr",
     "output_type": "stream",
     "text": [
      "Trials:  64%|██████████████████████████████████████████████▍                         | 129/200 [00:51<00:28,  2.46it/s]"
     ]
    },
    {
     "name": "stdout",
     "output_type": "stream",
     "text": [
      "测试集数量: 13\n"
     ]
    },
    {
     "name": "stderr",
     "output_type": "stream",
     "text": [
      "Trials:  65%|██████████████████████████████████████████████▊                         | 130/200 [00:51<00:31,  2.19it/s]"
     ]
    },
    {
     "name": "stdout",
     "output_type": "stream",
     "text": [
      "测试集数量: 13\n"
     ]
    },
    {
     "name": "stderr",
     "output_type": "stream",
     "text": [
      "Trials:  66%|███████████████████████████████████████████████▏                        | 131/200 [00:52<00:32,  2.11it/s]"
     ]
    },
    {
     "name": "stdout",
     "output_type": "stream",
     "text": [
      "测试集数量: 13\n"
     ]
    },
    {
     "name": "stderr",
     "output_type": "stream",
     "text": [
      "Trials:  66%|███████████████████████████████████████████████▌                        | 132/200 [00:52<00:33,  2.03it/s]"
     ]
    },
    {
     "name": "stdout",
     "output_type": "stream",
     "text": [
      "测试集数量: 13\n"
     ]
    },
    {
     "name": "stderr",
     "output_type": "stream",
     "text": [
      "Trials:  66%|███████████████████████████████████████████████▉                        | 133/200 [00:53<00:31,  2.13it/s]"
     ]
    },
    {
     "name": "stdout",
     "output_type": "stream",
     "text": [
      "测试集数量: 13\n"
     ]
    },
    {
     "name": "stderr",
     "output_type": "stream",
     "text": [
      "Trials:  67%|████████████████████████████████████████████████▏                       | 134/200 [00:53<00:28,  2.29it/s]"
     ]
    },
    {
     "name": "stdout",
     "output_type": "stream",
     "text": [
      "测试集数量: 13\n"
     ]
    },
    {
     "name": "stderr",
     "output_type": "stream",
     "text": [
      "Trials:  68%|████████████████████████████████████████████████▌                       | 135/200 [00:53<00:26,  2.46it/s]"
     ]
    },
    {
     "name": "stdout",
     "output_type": "stream",
     "text": [
      "测试集数量: 13\n"
     ]
    },
    {
     "name": "stderr",
     "output_type": "stream",
     "text": [
      "Trials:  68%|████████████████████████████████████████████████▉                       | 136/200 [00:54<00:25,  2.50it/s]"
     ]
    },
    {
     "name": "stdout",
     "output_type": "stream",
     "text": [
      "测试集数量: 13\n"
     ]
    },
    {
     "name": "stderr",
     "output_type": "stream",
     "text": [
      "Trials:  68%|█████████████████████████████████████████████████▎                      | 137/200 [00:54<00:25,  2.47it/s]"
     ]
    },
    {
     "name": "stdout",
     "output_type": "stream",
     "text": [
      "测试集数量: 13\n"
     ]
    },
    {
     "name": "stderr",
     "output_type": "stream",
     "text": [
      "Trials:  69%|█████████████████████████████████████████████████▋                      | 138/200 [00:54<00:24,  2.56it/s]"
     ]
    },
    {
     "name": "stdout",
     "output_type": "stream",
     "text": [
      "测试集数量: 13\n"
     ]
    },
    {
     "name": "stderr",
     "output_type": "stream",
     "text": [
      "Trials:  70%|██████████████████████████████████████████████████                      | 139/200 [00:55<00:23,  2.60it/s]"
     ]
    },
    {
     "name": "stdout",
     "output_type": "stream",
     "text": [
      "测试集数量: 13\n"
     ]
    },
    {
     "name": "stderr",
     "output_type": "stream",
     "text": [
      "Trials:  70%|██████████████████████████████████████████████████▍                     | 140/200 [00:55<00:22,  2.63it/s]"
     ]
    },
    {
     "name": "stdout",
     "output_type": "stream",
     "text": [
      "测试集数量: 13\n"
     ]
    },
    {
     "name": "stderr",
     "output_type": "stream",
     "text": [
      "Trials:  70%|██████████████████████████████████████████████████▊                     | 141/200 [00:56<00:21,  2.74it/s]"
     ]
    },
    {
     "name": "stdout",
     "output_type": "stream",
     "text": [
      "测试集数量: 13\n"
     ]
    },
    {
     "name": "stderr",
     "output_type": "stream",
     "text": [
      "Trials:  71%|███████████████████████████████████████████████████                     | 142/200 [00:56<00:21,  2.75it/s]"
     ]
    },
    {
     "name": "stdout",
     "output_type": "stream",
     "text": [
      "测试集数量: 13\n"
     ]
    },
    {
     "name": "stderr",
     "output_type": "stream",
     "text": [
      "Trials:  72%|███████████████████████████████████████████████████▍                    | 143/200 [00:56<00:20,  2.73it/s]"
     ]
    },
    {
     "name": "stdout",
     "output_type": "stream",
     "text": [
      "测试集数量: 13\n"
     ]
    },
    {
     "name": "stderr",
     "output_type": "stream",
     "text": [
      "Trials:  72%|███████████████████████████████████████████████████▊                    | 144/200 [00:57<00:19,  2.81it/s]"
     ]
    },
    {
     "name": "stdout",
     "output_type": "stream",
     "text": [
      "测试集数量: 13\n"
     ]
    },
    {
     "name": "stderr",
     "output_type": "stream",
     "text": [
      "Trials:  72%|████████████████████████████████████████████████████▏                   | 145/200 [00:57<00:20,  2.73it/s]"
     ]
    },
    {
     "name": "stdout",
     "output_type": "stream",
     "text": [
      "测试集数量: 13\n"
     ]
    },
    {
     "name": "stderr",
     "output_type": "stream",
     "text": [
      "Trials:  73%|████████████████████████████████████████████████████▌                   | 146/200 [00:57<00:19,  2.71it/s]"
     ]
    },
    {
     "name": "stdout",
     "output_type": "stream",
     "text": [
      "测试集数量: 13\n"
     ]
    },
    {
     "name": "stderr",
     "output_type": "stream",
     "text": [
      "Trials:  74%|████████████████████████████████████████████████████▉                   | 147/200 [00:58<00:19,  2.71it/s]"
     ]
    },
    {
     "name": "stdout",
     "output_type": "stream",
     "text": [
      "测试集数量: 13\n"
     ]
    },
    {
     "name": "stderr",
     "output_type": "stream",
     "text": [
      "Trials:  74%|█████████████████████████████████████████████████████▎                  | 148/200 [00:58<00:19,  2.69it/s]"
     ]
    },
    {
     "name": "stdout",
     "output_type": "stream",
     "text": [
      "测试集数量: 13\n"
     ]
    },
    {
     "name": "stderr",
     "output_type": "stream",
     "text": [
      "Trials:  74%|█████████████████████████████████████████████████████▋                  | 149/200 [00:58<00:18,  2.76it/s]"
     ]
    },
    {
     "name": "stdout",
     "output_type": "stream",
     "text": [
      "测试集数量: 13\n"
     ]
    },
    {
     "name": "stderr",
     "output_type": "stream",
     "text": [
      "Trials:  75%|██████████████████████████████████████████████████████                  | 150/200 [00:59<00:17,  2.82it/s]"
     ]
    },
    {
     "name": "stdout",
     "output_type": "stream",
     "text": [
      "测试集数量: 13\n"
     ]
    },
    {
     "name": "stderr",
     "output_type": "stream",
     "text": [
      "Trials:  76%|██████████████████████████████████████████████████████▎                 | 151/200 [00:59<00:18,  2.72it/s]"
     ]
    },
    {
     "name": "stdout",
     "output_type": "stream",
     "text": [
      "测试集数量: 13\n"
     ]
    },
    {
     "name": "stderr",
     "output_type": "stream",
     "text": [
      "Trials:  76%|██████████████████████████████████████████████████████▋                 | 152/200 [01:00<00:20,  2.38it/s]"
     ]
    },
    {
     "name": "stdout",
     "output_type": "stream",
     "text": [
      "测试集数量: 13\n"
     ]
    },
    {
     "name": "stderr",
     "output_type": "stream",
     "text": [
      "Trials:  76%|███████████████████████████████████████████████████████                 | 153/200 [01:00<00:21,  2.23it/s]"
     ]
    },
    {
     "name": "stdout",
     "output_type": "stream",
     "text": [
      "测试集数量: 13\n"
     ]
    },
    {
     "name": "stderr",
     "output_type": "stream",
     "text": [
      "Trials:  77%|███████████████████████████████████████████████████████▍                | 154/200 [01:01<00:21,  2.12it/s]"
     ]
    },
    {
     "name": "stdout",
     "output_type": "stream",
     "text": [
      "测试集数量: 13\n"
     ]
    },
    {
     "name": "stderr",
     "output_type": "stream",
     "text": [
      "Trials:  78%|███████████████████████████████████████████████████████▊                | 155/200 [01:01<00:21,  2.10it/s]"
     ]
    },
    {
     "name": "stdout",
     "output_type": "stream",
     "text": [
      "测试集数量: 13\n"
     ]
    },
    {
     "name": "stderr",
     "output_type": "stream",
     "text": [
      "Trials:  78%|████████████████████████████████████████████████████████▏               | 156/200 [01:02<00:21,  2.09it/s]"
     ]
    },
    {
     "name": "stdout",
     "output_type": "stream",
     "text": [
      "测试集数量: 13\n"
     ]
    },
    {
     "name": "stderr",
     "output_type": "stream",
     "text": [
      "Trials:  78%|████████████████████████████████████████████████████████▌               | 157/200 [01:02<00:19,  2.18it/s]"
     ]
    },
    {
     "name": "stdout",
     "output_type": "stream",
     "text": [
      "测试集数量: 13\n"
     ]
    },
    {
     "name": "stderr",
     "output_type": "stream",
     "text": [
      "Trials:  79%|████████████████████████████████████████████████████████▉               | 158/200 [01:03<00:18,  2.29it/s]"
     ]
    },
    {
     "name": "stdout",
     "output_type": "stream",
     "text": [
      "测试集数量: 13\n"
     ]
    },
    {
     "name": "stderr",
     "output_type": "stream",
     "text": [
      "Trials:  80%|█████████████████████████████████████████████████████████▏              | 159/200 [01:03<00:17,  2.34it/s]"
     ]
    },
    {
     "name": "stdout",
     "output_type": "stream",
     "text": [
      "测试集数量: 13\n"
     ]
    },
    {
     "name": "stderr",
     "output_type": "stream",
     "text": [
      "Trials:  80%|█████████████████████████████████████████████████████████▌              | 160/200 [01:03<00:16,  2.41it/s]"
     ]
    },
    {
     "name": "stdout",
     "output_type": "stream",
     "text": [
      "测试集数量: 13\n"
     ]
    },
    {
     "name": "stderr",
     "output_type": "stream",
     "text": [
      "Trials:  80%|█████████████████████████████████████████████████████████▉              | 161/200 [01:04<00:15,  2.46it/s]"
     ]
    },
    {
     "name": "stdout",
     "output_type": "stream",
     "text": [
      "测试集数量: 13\n"
     ]
    },
    {
     "name": "stderr",
     "output_type": "stream",
     "text": [
      "Trials:  81%|██████████████████████████████████████████████████████████▎             | 162/200 [01:04<00:15,  2.52it/s]"
     ]
    },
    {
     "name": "stdout",
     "output_type": "stream",
     "text": [
      "测试集数量: 13\n"
     ]
    },
    {
     "name": "stderr",
     "output_type": "stream",
     "text": [
      "Trials:  82%|██████████████████████████████████████████████████████████▋             | 163/200 [01:04<00:14,  2.51it/s]"
     ]
    },
    {
     "name": "stdout",
     "output_type": "stream",
     "text": [
      "测试集数量: 13\n"
     ]
    },
    {
     "name": "stderr",
     "output_type": "stream",
     "text": [
      "Trials:  82%|███████████████████████████████████████████████████████████             | 164/200 [01:05<00:13,  2.57it/s]"
     ]
    },
    {
     "name": "stdout",
     "output_type": "stream",
     "text": [
      "测试集数量: 13\n"
     ]
    },
    {
     "name": "stderr",
     "output_type": "stream",
     "text": [
      "Trials:  82%|███████████████████████████████████████████████████████████▍            | 165/200 [01:05<00:13,  2.55it/s]"
     ]
    },
    {
     "name": "stdout",
     "output_type": "stream",
     "text": [
      "测试集数量: 13\n"
     ]
    },
    {
     "name": "stderr",
     "output_type": "stream",
     "text": [
      "Trials:  83%|███████████████████████████████████████████████████████████▊            | 166/200 [01:06<00:13,  2.54it/s]"
     ]
    },
    {
     "name": "stdout",
     "output_type": "stream",
     "text": [
      "测试集数量: 13\n"
     ]
    },
    {
     "name": "stderr",
     "output_type": "stream",
     "text": [
      "Trials:  84%|████████████████████████████████████████████████████████████            | 167/200 [01:06<00:13,  2.52it/s]"
     ]
    },
    {
     "name": "stdout",
     "output_type": "stream",
     "text": [
      "测试集数量: 13\n"
     ]
    },
    {
     "name": "stderr",
     "output_type": "stream",
     "text": [
      "Trials:  84%|████████████████████████████████████████████████████████████▍           | 168/200 [01:06<00:12,  2.56it/s]"
     ]
    },
    {
     "name": "stdout",
     "output_type": "stream",
     "text": [
      "测试集数量: 13\n"
     ]
    },
    {
     "name": "stderr",
     "output_type": "stream",
     "text": [
      "Trials:  84%|████████████████████████████████████████████████████████████▊           | 169/200 [01:07<00:11,  2.62it/s]"
     ]
    },
    {
     "name": "stdout",
     "output_type": "stream",
     "text": [
      "测试集数量: 13\n"
     ]
    },
    {
     "name": "stderr",
     "output_type": "stream",
     "text": [
      "Trials:  85%|█████████████████████████████████████████████████████████████▏          | 170/200 [01:07<00:11,  2.60it/s]"
     ]
    },
    {
     "name": "stdout",
     "output_type": "stream",
     "text": [
      "测试集数量: 13\n"
     ]
    },
    {
     "name": "stderr",
     "output_type": "stream",
     "text": [
      "Trials:  86%|█████████████████████████████████████████████████████████████▌          | 171/200 [01:08<00:11,  2.61it/s]"
     ]
    },
    {
     "name": "stdout",
     "output_type": "stream",
     "text": [
      "测试集数量: 13\n"
     ]
    },
    {
     "name": "stderr",
     "output_type": "stream",
     "text": [
      "Trials:  86%|█████████████████████████████████████████████████████████████▉          | 172/200 [01:08<00:10,  2.61it/s]"
     ]
    },
    {
     "name": "stdout",
     "output_type": "stream",
     "text": [
      "测试集数量: 13\n"
     ]
    },
    {
     "name": "stderr",
     "output_type": "stream",
     "text": [
      "Trials:  86%|██████████████████████████████████████████████████████████████▎         | 173/200 [01:08<00:10,  2.64it/s]"
     ]
    },
    {
     "name": "stdout",
     "output_type": "stream",
     "text": [
      "测试集数量: 13\n"
     ]
    },
    {
     "name": "stderr",
     "output_type": "stream",
     "text": [
      "Trials:  87%|██████████████████████████████████████████████████████████████▋         | 174/200 [01:09<00:10,  2.56it/s]"
     ]
    },
    {
     "name": "stdout",
     "output_type": "stream",
     "text": [
      "测试集数量: 13\n"
     ]
    },
    {
     "name": "stderr",
     "output_type": "stream",
     "text": [
      "Trials:  88%|███████████████████████████████████████████████████████████████         | 175/200 [01:09<00:09,  2.64it/s]"
     ]
    },
    {
     "name": "stdout",
     "output_type": "stream",
     "text": [
      "测试集数量: 13\n"
     ]
    },
    {
     "name": "stderr",
     "output_type": "stream",
     "text": [
      "Trials:  88%|███████████████████████████████████████████████████████████████▎        | 176/200 [01:09<00:09,  2.63it/s]"
     ]
    },
    {
     "name": "stdout",
     "output_type": "stream",
     "text": [
      "测试集数量: 13\n"
     ]
    },
    {
     "name": "stderr",
     "output_type": "stream",
     "text": [
      "Trials:  88%|███████████████████████████████████████████████████████████████▋        | 177/200 [01:10<00:08,  2.58it/s]"
     ]
    },
    {
     "name": "stdout",
     "output_type": "stream",
     "text": [
      "测试集数量: 13\n"
     ]
    },
    {
     "name": "stderr",
     "output_type": "stream",
     "text": [
      "Trials:  89%|████████████████████████████████████████████████████████████████        | 178/200 [01:10<00:08,  2.58it/s]"
     ]
    },
    {
     "name": "stdout",
     "output_type": "stream",
     "text": [
      "测试集数量: 13\n"
     ]
    },
    {
     "name": "stderr",
     "output_type": "stream",
     "text": [
      "Trials:  90%|████████████████████████████████████████████████████████████████▍       | 179/200 [01:11<00:08,  2.57it/s]"
     ]
    },
    {
     "name": "stdout",
     "output_type": "stream",
     "text": [
      "测试集数量: 13\n"
     ]
    },
    {
     "name": "stderr",
     "output_type": "stream",
     "text": [
      "Trials:  90%|████████████████████████████████████████████████████████████████▊       | 180/200 [01:11<00:07,  2.62it/s]"
     ]
    },
    {
     "name": "stdout",
     "output_type": "stream",
     "text": [
      "测试集数量: 13\n"
     ]
    },
    {
     "name": "stderr",
     "output_type": "stream",
     "text": [
      "Trials:  90%|█████████████████████████████████████████████████████████████████▏      | 181/200 [01:11<00:07,  2.68it/s]"
     ]
    },
    {
     "name": "stdout",
     "output_type": "stream",
     "text": [
      "测试集数量: 13\n"
     ]
    },
    {
     "name": "stderr",
     "output_type": "stream",
     "text": [
      "Trials:  91%|█████████████████████████████████████████████████████████████████▌      | 182/200 [01:12<00:06,  2.66it/s]"
     ]
    },
    {
     "name": "stdout",
     "output_type": "stream",
     "text": [
      "测试集数量: 13\n"
     ]
    },
    {
     "name": "stderr",
     "output_type": "stream",
     "text": [
      "Trials:  92%|█████████████████████████████████████████████████████████████████▉      | 183/200 [01:12<00:06,  2.64it/s]"
     ]
    },
    {
     "name": "stdout",
     "output_type": "stream",
     "text": [
      "测试集数量: 13\n"
     ]
    },
    {
     "name": "stderr",
     "output_type": "stream",
     "text": [
      "Trials:  92%|██████████████████████████████████████████████████████████████████▏     | 184/200 [01:13<00:06,  2.65it/s]"
     ]
    },
    {
     "name": "stdout",
     "output_type": "stream",
     "text": [
      "测试集数量: 13\n"
     ]
    },
    {
     "name": "stderr",
     "output_type": "stream",
     "text": [
      "Trials:  92%|██████████████████████████████████████████████████████████████████▌     | 185/200 [01:13<00:05,  2.65it/s]"
     ]
    },
    {
     "name": "stdout",
     "output_type": "stream",
     "text": [
      "测试集数量: 13\n"
     ]
    },
    {
     "name": "stderr",
     "output_type": "stream",
     "text": [
      "Trials:  93%|██████████████████████████████████████████████████████████████████▉     | 186/200 [01:13<00:05,  2.51it/s]"
     ]
    },
    {
     "name": "stdout",
     "output_type": "stream",
     "text": [
      "测试集数量: 13\n"
     ]
    },
    {
     "name": "stderr",
     "output_type": "stream",
     "text": [
      "Trials:  94%|███████████████████████████████████████████████████████████████████▎    | 187/200 [01:14<00:05,  2.30it/s]"
     ]
    },
    {
     "name": "stdout",
     "output_type": "stream",
     "text": [
      "测试集数量: 13\n"
     ]
    },
    {
     "name": "stderr",
     "output_type": "stream",
     "text": [
      "Trials:  94%|███████████████████████████████████████████████████████████████████▋    | 188/200 [01:14<00:04,  2.42it/s]"
     ]
    },
    {
     "name": "stdout",
     "output_type": "stream",
     "text": [
      "测试集数量: 13\n"
     ]
    },
    {
     "name": "stderr",
     "output_type": "stream",
     "text": [
      "Trials:  94%|████████████████████████████████████████████████████████████████████    | 189/200 [01:15<00:04,  2.47it/s]"
     ]
    },
    {
     "name": "stdout",
     "output_type": "stream",
     "text": [
      "测试集数量: 13\n"
     ]
    },
    {
     "name": "stderr",
     "output_type": "stream",
     "text": [
      "Trials:  95%|████████████████████████████████████████████████████████████████████▍   | 190/200 [01:15<00:04,  2.30it/s]"
     ]
    },
    {
     "name": "stdout",
     "output_type": "stream",
     "text": [
      "测试集数量: 13\n"
     ]
    },
    {
     "name": "stderr",
     "output_type": "stream",
     "text": [
      "Trials:  96%|████████████████████████████████████████████████████████████████████▊   | 191/200 [01:15<00:03,  2.42it/s]"
     ]
    },
    {
     "name": "stdout",
     "output_type": "stream",
     "text": [
      "测试集数量: 13\n"
     ]
    },
    {
     "name": "stderr",
     "output_type": "stream",
     "text": [
      "Trials:  96%|█████████████████████████████████████████████████████████████████████   | 192/200 [01:16<00:03,  2.45it/s]"
     ]
    },
    {
     "name": "stdout",
     "output_type": "stream",
     "text": [
      "测试集数量: 13\n"
     ]
    },
    {
     "name": "stderr",
     "output_type": "stream",
     "text": [
      "Trials:  96%|█████████████████████████████████████████████████████████████████████▍  | 193/200 [01:16<00:02,  2.43it/s]"
     ]
    },
    {
     "name": "stdout",
     "output_type": "stream",
     "text": [
      "测试集数量: 13\n"
     ]
    },
    {
     "name": "stderr",
     "output_type": "stream",
     "text": [
      "Trials:  97%|█████████████████████████████████████████████████████████████████████▊  | 194/200 [01:17<00:02,  2.25it/s]"
     ]
    },
    {
     "name": "stdout",
     "output_type": "stream",
     "text": [
      "测试集数量: 13\n"
     ]
    },
    {
     "name": "stderr",
     "output_type": "stream",
     "text": [
      "Trials:  98%|██████████████████████████████████████████████████████████████████████▏ | 195/200 [01:17<00:02,  2.22it/s]"
     ]
    },
    {
     "name": "stdout",
     "output_type": "stream",
     "text": [
      "测试集数量: 13\n"
     ]
    },
    {
     "name": "stderr",
     "output_type": "stream",
     "text": [
      "Trials:  98%|██████████████████████████████████████████████████████████████████████▌ | 196/200 [01:18<00:01,  2.17it/s]"
     ]
    },
    {
     "name": "stdout",
     "output_type": "stream",
     "text": [
      "测试集数量: 13\n"
     ]
    },
    {
     "name": "stderr",
     "output_type": "stream",
     "text": [
      "Trials:  98%|██████████████████████████████████████████████████████████████████████▉ | 197/200 [01:18<00:01,  2.00it/s]"
     ]
    },
    {
     "name": "stdout",
     "output_type": "stream",
     "text": [
      "测试集数量: 13\n"
     ]
    },
    {
     "name": "stderr",
     "output_type": "stream",
     "text": [
      "Trials:  99%|███████████████████████████████████████████████████████████████████████▎| 198/200 [01:19<00:00,  2.14it/s]"
     ]
    },
    {
     "name": "stdout",
     "output_type": "stream",
     "text": [
      "测试集数量: 13\n"
     ]
    },
    {
     "name": "stderr",
     "output_type": "stream",
     "text": [
      "Trials: 100%|███████████████████████████████████████████████████████████████████████▋| 199/200 [01:19<00:00,  2.19it/s]"
     ]
    },
    {
     "name": "stdout",
     "output_type": "stream",
     "text": [
      "测试集数量: 13\n"
     ]
    },
    {
     "name": "stderr",
     "output_type": "stream",
     "text": [
      "Trials: 100%|████████████████████████████████████████████████████████████████████████| 200/200 [01:20<00:00,  2.50it/s]\n"
     ]
    },
    {
     "name": "stdout",
     "output_type": "stream",
     "text": [
      "Test group sizes for each trial:\n",
      "Iteration 1: [2, 1, 2, 2, 2, 1, 1, 1, 1]\n",
      "Iteration 2: [2, 2, 1, 1, 2, 1, 2, 1, 1]\n",
      "Iteration 3: [2, 1, 2, 1, 2, 1, 2, 1, 1]\n",
      "Iteration 4: [1, 2, 2, 1, 2, 1, 2, 1, 1]\n",
      "Iteration 5: [2, 2, 2, 1, 1, 1, 2, 1, 1]\n",
      "Iteration 6: [2, 2, 1, 2, 2, 1, 1, 1, 1]\n",
      "Iteration 7: [2, 1, 2, 2, 2, 1, 1, 1, 1]\n",
      "Iteration 8: [1, 1, 2, 2, 2, 1, 2, 1, 1]\n",
      "Iteration 9: [2, 1, 1, 2, 2, 1, 2, 1, 1]\n",
      "Iteration 10: [2, 2, 2, 1, 1, 1, 2, 1, 1]\n",
      "Iteration 11: [1, 2, 2, 2, 1, 1, 2, 1, 1]\n",
      "Iteration 12: [2, 1, 2, 2, 2, 1, 1, 1, 1]\n",
      "Iteration 13: [2, 2, 1, 1, 2, 1, 2, 1, 1]\n",
      "Iteration 14: [2, 2, 1, 2, 1, 1, 2, 1, 1]\n",
      "Iteration 15: [2, 2, 2, 1, 2, 1, 1, 1, 1]\n",
      "Iteration 16: [1, 1, 2, 2, 2, 1, 2, 1, 1]\n",
      "Iteration 17: [1, 2, 2, 2, 2, 1, 1, 1, 1]\n",
      "Iteration 18: [2, 2, 2, 2, 1, 1, 1, 1, 1]\n",
      "Iteration 19: [2, 2, 2, 2, 1, 1, 1, 1, 1]\n",
      "Iteration 20: [2, 2, 2, 1, 1, 1, 2, 1, 1]\n",
      "Iteration 21: [1, 2, 2, 1, 2, 1, 2, 1, 1]\n",
      "Iteration 22: [2, 1, 2, 2, 2, 1, 1, 1, 1]\n",
      "Iteration 23: [2, 1, 2, 1, 2, 1, 2, 1, 1]\n",
      "Iteration 24: [2, 2, 1, 2, 1, 1, 2, 1, 1]\n",
      "Iteration 25: [2, 2, 1, 2, 1, 1, 2, 1, 1]\n",
      "Iteration 26: [2, 1, 2, 2, 2, 1, 1, 1, 1]\n",
      "Iteration 27: [2, 2, 1, 1, 2, 1, 2, 1, 1]\n",
      "Iteration 28: [2, 1, 2, 2, 2, 1, 1, 1, 1]\n",
      "Iteration 29: [2, 2, 1, 2, 1, 1, 2, 1, 1]\n",
      "Iteration 30: [2, 1, 1, 2, 2, 1, 2, 1, 1]\n",
      "Iteration 31: [2, 1, 1, 2, 2, 1, 2, 1, 1]\n",
      "Iteration 32: [2, 2, 1, 2, 2, 1, 1, 1, 1]\n",
      "Iteration 33: [2, 2, 1, 2, 2, 1, 1, 1, 1]\n",
      "Iteration 34: [1, 2, 2, 2, 2, 1, 1, 1, 1]\n",
      "Iteration 35: [2, 1, 2, 2, 1, 1, 2, 1, 1]\n",
      "Iteration 36: [2, 1, 2, 1, 2, 1, 2, 1, 1]\n",
      "Iteration 37: [2, 1, 2, 1, 2, 1, 2, 1, 1]\n",
      "Iteration 38: [1, 2, 1, 2, 2, 1, 2, 1, 1]\n",
      "Iteration 39: [1, 2, 1, 2, 2, 1, 2, 1, 1]\n",
      "Iteration 40: [2, 1, 2, 2, 2, 1, 1, 1, 1]\n",
      "Iteration 41: [1, 2, 1, 2, 2, 1, 2, 1, 1]\n",
      "Iteration 42: [1, 2, 2, 2, 1, 1, 2, 1, 1]\n",
      "Iteration 43: [2, 2, 2, 2, 1, 1, 1, 1, 1]\n",
      "Iteration 44: [2, 1, 2, 2, 1, 1, 2, 1, 1]\n",
      "Iteration 45: [1, 2, 1, 2, 2, 1, 2, 1, 1]\n",
      "Iteration 46: [1, 2, 2, 1, 2, 1, 2, 1, 1]\n",
      "Iteration 47: [2, 1, 2, 1, 2, 1, 2, 1, 1]\n",
      "Iteration 48: [2, 2, 1, 2, 2, 1, 1, 1, 1]\n",
      "Iteration 49: [1, 2, 1, 2, 2, 1, 2, 1, 1]\n",
      "Iteration 50: [2, 2, 2, 1, 1, 1, 2, 1, 1]\n",
      "Iteration 51: [1, 1, 2, 2, 2, 1, 2, 1, 1]\n",
      "Iteration 52: [2, 2, 1, 2, 1, 1, 2, 1, 1]\n",
      "Iteration 53: [1, 2, 2, 2, 2, 1, 1, 1, 1]\n",
      "Iteration 54: [2, 1, 2, 2, 2, 1, 1, 1, 1]\n",
      "Iteration 55: [2, 2, 1, 2, 1, 1, 2, 1, 1]\n",
      "Iteration 56: [2, 2, 1, 2, 2, 1, 1, 1, 1]\n",
      "Iteration 57: [2, 2, 2, 1, 2, 1, 1, 1, 1]\n",
      "Iteration 58: [2, 1, 2, 2, 1, 1, 2, 1, 1]\n",
      "Iteration 59: [2, 2, 2, 2, 1, 1, 1, 1, 1]\n",
      "Iteration 60: [1, 2, 2, 1, 2, 1, 2, 1, 1]\n",
      "Iteration 61: [2, 2, 2, 2, 1, 1, 1, 1, 1]\n",
      "Iteration 62: [2, 2, 2, 1, 1, 1, 2, 1, 1]\n",
      "Iteration 63: [2, 2, 2, 1, 1, 1, 2, 1, 1]\n",
      "Iteration 64: [2, 1, 2, 2, 2, 1, 1, 1, 1]\n",
      "Iteration 65: [2, 2, 1, 1, 2, 1, 2, 1, 1]\n",
      "Iteration 66: [2, 2, 1, 1, 2, 1, 2, 1, 1]\n",
      "Iteration 67: [2, 2, 1, 2, 1, 1, 2, 1, 1]\n",
      "Iteration 68: [2, 2, 1, 1, 2, 1, 2, 1, 1]\n",
      "Iteration 69: [2, 1, 2, 2, 2, 1, 1, 1, 1]\n",
      "Iteration 70: [1, 1, 2, 2, 2, 1, 2, 1, 1]\n",
      "Iteration 71: [2, 2, 1, 2, 1, 1, 2, 1, 1]\n",
      "Iteration 72: [1, 2, 2, 2, 2, 1, 1, 1, 1]\n",
      "Iteration 73: [2, 2, 1, 1, 2, 1, 2, 1, 1]\n",
      "Iteration 74: [2, 2, 1, 2, 2, 1, 1, 1, 1]\n",
      "Iteration 75: [2, 1, 1, 2, 2, 1, 2, 1, 1]\n",
      "Iteration 76: [1, 2, 2, 2, 2, 1, 1, 1, 1]\n",
      "Iteration 77: [2, 2, 2, 1, 2, 1, 1, 1, 1]\n",
      "Iteration 78: [1, 2, 2, 2, 2, 1, 1, 1, 1]\n",
      "Iteration 79: [2, 2, 2, 1, 1, 1, 2, 1, 1]\n",
      "Iteration 80: [1, 2, 2, 2, 1, 1, 2, 1, 1]\n",
      "Iteration 81: [1, 2, 2, 2, 1, 1, 2, 1, 1]\n",
      "Iteration 82: [1, 2, 2, 2, 1, 1, 2, 1, 1]\n",
      "Iteration 83: [2, 1, 2, 1, 2, 1, 2, 1, 1]\n",
      "Iteration 84: [1, 2, 2, 1, 2, 1, 2, 1, 1]\n",
      "Iteration 85: [1, 2, 2, 2, 1, 1, 2, 1, 1]\n",
      "Iteration 86: [2, 2, 2, 2, 1, 1, 1, 1, 1]\n",
      "Iteration 87: [2, 1, 2, 2, 2, 1, 1, 1, 1]\n",
      "Iteration 88: [1, 2, 2, 2, 2, 1, 1, 1, 1]\n",
      "Iteration 89: [1, 2, 2, 2, 1, 1, 2, 1, 1]\n",
      "Iteration 90: [2, 2, 2, 1, 2, 1, 1, 1, 1]\n",
      "Iteration 91: [2, 1, 1, 2, 2, 1, 2, 1, 1]\n",
      "Iteration 92: [2, 1, 2, 2, 2, 1, 1, 1, 1]\n",
      "Iteration 93: [2, 2, 2, 1, 1, 1, 2, 1, 1]\n",
      "Iteration 94: [2, 2, 1, 2, 1, 1, 2, 1, 1]\n",
      "Iteration 95: [1, 2, 2, 2, 2, 1, 1, 1, 1]\n",
      "Iteration 96: [2, 2, 2, 1, 2, 1, 1, 1, 1]\n",
      "Iteration 97: [2, 1, 1, 2, 2, 1, 2, 1, 1]\n",
      "Iteration 98: [2, 2, 2, 1, 1, 1, 2, 1, 1]\n",
      "Iteration 99: [2, 2, 2, 1, 1, 1, 2, 1, 1]\n",
      "Iteration 100: [1, 2, 1, 2, 2, 1, 2, 1, 1]\n",
      "Iteration 101: [1, 1, 2, 2, 2, 1, 2, 1, 1]\n",
      "Iteration 102: [1, 2, 2, 2, 2, 1, 1, 1, 1]\n",
      "Iteration 103: [2, 1, 2, 2, 1, 1, 2, 1, 1]\n",
      "Iteration 104: [2, 2, 1, 2, 1, 1, 2, 1, 1]\n",
      "Iteration 105: [2, 1, 1, 2, 2, 1, 2, 1, 1]\n",
      "Iteration 106: [2, 1, 2, 2, 2, 1, 1, 1, 1]\n",
      "Iteration 107: [1, 2, 2, 1, 2, 1, 2, 1, 1]\n",
      "Iteration 108: [2, 2, 2, 1, 2, 1, 1, 1, 1]\n",
      "Iteration 109: [2, 1, 2, 2, 2, 1, 1, 1, 1]\n",
      "Iteration 110: [1, 2, 1, 2, 2, 1, 2, 1, 1]\n",
      "Iteration 111: [2, 2, 2, 1, 1, 1, 2, 1, 1]\n",
      "Iteration 112: [2, 2, 1, 2, 2, 1, 1, 1, 1]\n",
      "Iteration 113: [1, 2, 2, 1, 2, 1, 2, 1, 1]\n",
      "Iteration 114: [2, 2, 1, 2, 2, 1, 1, 1, 1]\n",
      "Iteration 115: [2, 1, 1, 2, 2, 1, 2, 1, 1]\n",
      "Iteration 116: [2, 2, 1, 1, 2, 1, 2, 1, 1]\n",
      "Iteration 117: [1, 2, 1, 2, 2, 1, 2, 1, 1]\n",
      "Iteration 118: [2, 2, 1, 2, 2, 1, 1, 1, 1]\n",
      "Iteration 119: [2, 2, 2, 2, 1, 1, 1, 1, 1]\n",
      "Iteration 120: [2, 2, 2, 1, 2, 1, 1, 1, 1]\n",
      "Iteration 121: [2, 1, 2, 2, 1, 1, 2, 1, 1]\n",
      "Iteration 122: [2, 1, 2, 1, 2, 1, 2, 1, 1]\n",
      "Iteration 123: [2, 2, 2, 1, 1, 1, 2, 1, 1]\n",
      "Iteration 124: [2, 2, 1, 1, 2, 1, 2, 1, 1]\n",
      "Iteration 125: [1, 2, 2, 2, 2, 1, 1, 1, 1]\n",
      "Iteration 126: [2, 2, 2, 1, 2, 1, 1, 1, 1]\n",
      "Iteration 127: [1, 2, 2, 1, 2, 1, 2, 1, 1]\n",
      "Iteration 128: [2, 1, 2, 2, 2, 1, 1, 1, 1]\n",
      "Iteration 129: [1, 2, 2, 2, 1, 1, 2, 1, 1]\n",
      "Iteration 130: [2, 2, 1, 1, 2, 1, 2, 1, 1]\n",
      "Iteration 131: [1, 2, 1, 2, 2, 1, 2, 1, 1]\n",
      "Iteration 132: [1, 1, 2, 2, 2, 1, 2, 1, 1]\n",
      "Iteration 133: [1, 2, 2, 1, 2, 1, 2, 1, 1]\n",
      "Iteration 134: [1, 1, 2, 2, 2, 1, 2, 1, 1]\n",
      "Iteration 135: [1, 2, 1, 2, 2, 1, 2, 1, 1]\n",
      "Iteration 136: [1, 2, 1, 2, 2, 1, 2, 1, 1]\n",
      "Iteration 137: [2, 1, 2, 2, 1, 1, 2, 1, 1]\n",
      "Iteration 138: [1, 2, 2, 2, 2, 1, 1, 1, 1]\n",
      "Iteration 139: [1, 2, 2, 2, 2, 1, 1, 1, 1]\n",
      "Iteration 140: [2, 2, 1, 2, 2, 1, 1, 1, 1]\n",
      "Iteration 141: [1, 2, 1, 2, 2, 1, 2, 1, 1]\n",
      "Iteration 142: [1, 2, 2, 2, 1, 1, 2, 1, 1]\n",
      "Iteration 143: [2, 2, 1, 2, 2, 1, 1, 1, 1]\n",
      "Iteration 144: [1, 2, 1, 2, 2, 1, 2, 1, 1]\n",
      "Iteration 145: [2, 2, 2, 2, 1, 1, 1, 1, 1]\n",
      "Iteration 146: [2, 2, 2, 1, 1, 1, 2, 1, 1]\n",
      "Iteration 147: [1, 1, 2, 2, 2, 1, 2, 1, 1]\n",
      "Iteration 148: [2, 2, 2, 1, 1, 1, 2, 1, 1]\n",
      "Iteration 149: [1, 2, 2, 2, 1, 1, 2, 1, 1]\n",
      "Iteration 150: [1, 2, 2, 2, 1, 1, 2, 1, 1]\n",
      "Iteration 151: [2, 2, 1, 1, 2, 1, 2, 1, 1]\n",
      "Iteration 152: [1, 1, 2, 2, 2, 1, 2, 1, 1]\n",
      "Iteration 153: [2, 2, 2, 1, 2, 1, 1, 1, 1]\n",
      "Iteration 154: [1, 2, 2, 2, 2, 1, 1, 1, 1]\n",
      "Iteration 155: [2, 2, 1, 1, 2, 1, 2, 1, 1]\n",
      "Iteration 156: [2, 1, 2, 1, 2, 1, 2, 1, 1]\n",
      "Iteration 157: [1, 1, 2, 2, 2, 1, 2, 1, 1]\n",
      "Iteration 158: [2, 1, 1, 2, 2, 1, 2, 1, 1]\n",
      "Iteration 159: [2, 2, 2, 1, 2, 1, 1, 1, 1]\n",
      "Iteration 160: [2, 2, 2, 1, 2, 1, 1, 1, 1]\n",
      "Iteration 161: [2, 2, 2, 1, 2, 1, 1, 1, 1]\n",
      "Iteration 162: [2, 1, 1, 2, 2, 1, 2, 1, 1]\n",
      "Iteration 163: [2, 2, 2, 1, 2, 1, 1, 1, 1]\n",
      "Iteration 164: [1, 2, 1, 2, 2, 1, 2, 1, 1]\n",
      "Iteration 165: [2, 2, 1, 2, 2, 1, 1, 1, 1]\n",
      "Iteration 166: [2, 2, 2, 1, 2, 1, 1, 1, 1]\n",
      "Iteration 167: [2, 2, 2, 1, 2, 1, 1, 1, 1]\n",
      "Iteration 168: [2, 1, 2, 1, 2, 1, 2, 1, 1]\n",
      "Iteration 169: [1, 2, 2, 1, 2, 1, 2, 1, 1]\n",
      "Iteration 170: [2, 2, 1, 2, 2, 1, 1, 1, 1]\n",
      "Iteration 171: [2, 1, 2, 1, 2, 1, 2, 1, 1]\n",
      "Iteration 172: [2, 2, 1, 1, 2, 1, 2, 1, 1]\n",
      "Iteration 173: [2, 2, 1, 1, 2, 1, 2, 1, 1]\n",
      "Iteration 174: [2, 1, 2, 2, 1, 1, 2, 1, 1]\n",
      "Iteration 175: [1, 2, 2, 2, 1, 1, 2, 1, 1]\n",
      "Iteration 176: [2, 2, 1, 2, 1, 1, 2, 1, 1]\n",
      "Iteration 177: [2, 1, 2, 2, 1, 1, 2, 1, 1]\n",
      "Iteration 178: [2, 2, 1, 1, 2, 1, 2, 1, 1]\n",
      "Iteration 179: [2, 2, 2, 2, 1, 1, 1, 1, 1]\n",
      "Iteration 180: [2, 2, 1, 1, 2, 1, 2, 1, 1]\n",
      "Iteration 181: [1, 2, 2, 2, 1, 1, 2, 1, 1]\n",
      "Iteration 182: [2, 2, 2, 2, 1, 1, 1, 1, 1]\n",
      "Iteration 183: [2, 2, 1, 2, 1, 1, 2, 1, 1]\n",
      "Iteration 184: [2, 2, 1, 2, 2, 1, 1, 1, 1]\n",
      "Iteration 185: [2, 2, 1, 1, 2, 1, 2, 1, 1]\n",
      "Iteration 186: [2, 1, 2, 2, 2, 1, 1, 1, 1]\n",
      "Iteration 187: [1, 1, 2, 2, 2, 1, 2, 1, 1]\n",
      "Iteration 188: [1, 2, 2, 2, 1, 1, 2, 1, 1]\n",
      "Iteration 189: [2, 1, 2, 1, 2, 1, 2, 1, 1]\n",
      "Iteration 190: [2, 2, 2, 1, 1, 1, 2, 1, 1]\n",
      "Iteration 191: [1, 2, 2, 1, 2, 1, 2, 1, 1]\n",
      "Iteration 192: [2, 2, 2, 1, 2, 1, 1, 1, 1]\n",
      "Iteration 193: [2, 1, 2, 2, 2, 1, 1, 1, 1]\n",
      "Iteration 194: [1, 2, 2, 2, 2, 1, 1, 1, 1]\n",
      "Iteration 195: [2, 1, 2, 1, 2, 1, 2, 1, 1]\n",
      "Iteration 196: [2, 2, 2, 1, 2, 1, 1, 1, 1]\n",
      "Iteration 197: [2, 2, 1, 1, 2, 1, 2, 1, 1]\n",
      "Iteration 198: [2, 2, 2, 2, 1, 1, 1, 1, 1]\n",
      "Iteration 199: [2, 2, 2, 1, 1, 1, 2, 1, 1]\n",
      "Iteration 200: [2, 2, 1, 2, 1, 1, 2, 1, 1]\n",
      "     Metric      Mean       Std\n",
      "0      RMSE  1.291993  0.339724\n",
      "1       MAE  0.997234  0.235595\n",
      "2  Spearman  0.683479  0.203140\n",
      "3        R2  0.450502  0.349684\n"
     ]
    },
    {
     "data": {
      "image/png": "[encoded data removed]",
      "text/plain": [
       "<Figure size 600x550 with 1 Axes>"
      ]
     },
     "metadata": {
      "image/png": {
       "height": 540,
       "width": 590
      }
     },
     "output_type": "display_data"
    },
    {
     "name": "stdout",
     "output_type": "stream",
     "text": [
      "RMSE Train: 0.61\n",
      "RMSE Test: 0.59\n",
      "^^^^^^^^^^^^^^^^^^^^\n",
      "MAE Train: 0.42\n",
      "MAE Test: 0.46\n",
      "^^^^^^^^^^^^^^^^^^^^\n",
      "R2 Train: 0.94\n",
      "R2 Test: 0.73\n",
      "^^^^^^^^^^^^^^^^^^^^\n",
      "Spearman Train: 0.96\n",
      "Spearman Test: 0.88\n",
      "^^^^^^^^^^^^^^^^^^^^\n"
     ]
    },
    {
     "data": {
      "text/plain": [
       "['Model_RF_ZD.pkl']"
      ]
     },
     "execution_count": 15,
     "metadata": {},
     "output_type": "execute_result"
    }
   ],
   "source": [
    "###RF\n",
    "from sklearn.ensemble import RandomForestRegressor\n",
    "\n",
    "# Initialize an empty DataFrame to store metrics\n",
    "metrics_df = pd.DataFrame(columns=['RMSE', 'MAE', 'Spearman', 'R2'])\n",
    "\n",
    "# Store the indices of the training and testing sets for the best model\n",
    "best_train_idx = None\n",
    "best_test_idx = None\n",
    "best_rmse = float('inf')\n",
    "rmse_scores = []\n",
    "mae_scores = []\n",
    "spearman_scores = []\n",
    "r2_scores = []\n",
    "\n",
    "# Store the number of molecules in each scaffold_group for the test set in each round\n",
    "test_group_sizes = []\n",
    "\n",
    "# Repeat the testing 200 times\n",
    "num_trials = 200\n",
    "\n",
    "for _ in tqdm(range(num_trials), desc=\"Trials\"):\n",
    "    # Split the dataset into training and testing sets\n",
    "    train_data = pd.DataFrame(columns=['smiles', 'target_PCE', 'scaffold_group'])\n",
    "    test_data = pd.DataFrame(columns=['smiles', 'target_PCE', 'scaffold_group'])\n",
    "    \n",
    "    # Select one sample from each scaffold_group for the test set\n",
    "    for group_idx in range(len(scaffold_groups)):\n",
    "        group_df = data[data['scaffold_group'] == group_idx]\n",
    "        test_df = group_df.sample(n=1)\n",
    "        train_df = group_df.drop(test_df.index)\n",
    "\n",
    "        train_data = pd.concat([train_data, train_df], ignore_index=False)\n",
    "        test_data = pd.concat([test_data, test_df], ignore_index=False)\n",
    "\n",
    "    # Ensure the total test set size is 13\n",
    "    total_test_size = 13\n",
    "    test_size_per_group = total_test_size - len(scaffold_groups)\n",
    "    remaining_scaffold_groups = [group_idx for group_idx in range(len(scaffold_groups)) if len(data[data['scaffold_group'] == group_idx]) > 3]\n",
    "\n",
    "    for _ in range(test_size_per_group):\n",
    "        # Randomly select a scaffold_group\n",
    "        random_group_idx = random.choice(remaining_scaffold_groups)\n",
    "        group_df = data[data['scaffold_group'] == random_group_idx]\n",
    "        num_samples = len(group_df)\n",
    "        test_size = min(1, num_samples)  # Ensure at least one molecule is selected for the test set\n",
    "        test_df = group_df.sample(n=test_size)\n",
    "        train_df = group_df.drop(test_df.index)\n",
    "\n",
    "        train_data = pd.concat([train_data, train_df], ignore_index=False)\n",
    "        test_data = pd.concat([test_data, test_df], ignore_index=False)\n",
    "        \n",
    "        test_size_per_group -= test_size\n",
    "        remaining_scaffold_groups.remove(random_group_idx)\n",
    "        \n",
    "        # Exit the loop if the required number of test samples has been reached\n",
    "        if test_size_per_group <= 0:\n",
    "            break\n",
    "\n",
    "    # Record the number of molecules from each scaffold_group in the test set for each round\n",
    "    test_group_sizes.append(test_data.groupby('scaffold_group').size().tolist())\n",
    "\n",
    "    X_scaler = MinMaxScaler()\n",
    "    X_scaler.fit(zd)\n",
    "    zd = X_scaler.transform(zd)\n",
    "\n",
    "    X_train = zd[train_data.index]\n",
    "    y_train = np.transpose([train_data['target_PCE'].values])\n",
    "    X_test = zd[test_data.index]\n",
    "    y_test = np.transpose([test_data['target_PCE'].values])\n",
    "    print(\"Test set size:\", len(y_test))\n",
    "\n",
    "    # Fit to the training set\n",
    "    rf_reg = RandomForestRegressor(n_estimators=55, max_depth=10)\n",
    "    rf_reg.fit(X_train, y_train)\n",
    "\n",
    "    # Perform predictions on both the training and test sets\n",
    "    y_train_pred = rf_reg.predict(X_train)\n",
    "    y_test_pred = rf_reg.predict(X_test)\n",
    "\n",
    "    # Calculate RMSE, MAE, Spearman correlation, and R2 score for the current test\n",
    "    rmse = np.sqrt(mean_squared_error(y_test, y_test_pred))\n",
    "    mae = mean_absolute_error(y_test, y_test_pred)\n",
    "    spearman_corr, _ = spearmanr(y_test.flatten(), y_test_pred.flatten())\n",
    "    r2 = r2_score(y_test, y_test_pred)\n",
    "    \n",
    "    # Store the metrics for each trial\n",
    "    rmse_scores.append(rmse)\n",
    "    mae_scores.append(mae)\n",
    "    spearman_scores.append(spearman_corr)\n",
    "    r2_scores.append(r2)\n",
    "\n",
    "    # Record the metrics in the DataFrame\n",
    "    metrics_df = metrics_df.append({'RMSE': rmse, 'MAE': mae, 'Spearman': spearman_corr, 'R2': r2}, ignore_index=True)\n",
    "\n",
    "\n",
    "    # If the current model has a better RMSE, update the best model's predictions and true values\n",
    "    if rmse < best_rmse:\n",
    "        best_rmse = rmse\n",
    "        best_model_predictions = y_test_pred\n",
    "        best_model_true_values = y_test\n",
    "        best_train_idx = train_data.index.tolist()\n",
    "        best_test_idx = test_data.index.tolist()\n",
    "        \n",
    "# Calculate mean and standard deviation\n",
    "mean_rmse = np.mean(rmse_scores)\n",
    "std_rmse = np.std(rmse_scores)\n",
    "mean_mae = np.mean(mae_scores)\n",
    "std_mae = np.std(mae_scores)\n",
    "mean_spearman = np.mean(spearman_scores)\n",
    "std_spearman = np.std(spearman_scores)\n",
    "mean_r2 = np.mean(r2_scores)\n",
    "std_r2 = np.std(r2_scores)\n",
    "\n",
    "# Save the mean and standard deviation to a DataFrame\n",
    "summary_df = pd.DataFrame({\n",
    "    'Metric': ['RMSE', 'MAE', 'Spearman', 'R2'],\n",
    "    'Mean': [mean_rmse, mean_mae, mean_spearman, mean_r2],\n",
    "    'Std': [std_rmse, std_mae, std_spearman, std_r2]})\n",
    "\n",
    "# Save the metrics to a CSV file\n",
    "metrics_df.to_csv('metrics_RF_ZD.csv', index=False)\n",
    "summary_df.to_csv('metrics_summary_RF_ZD.csv', index=False)\n",
    "\n",
    "# Print the number of molecules in each scaffold_group for every test set\n",
    "print(\"Test group sizes for each trial:\")\n",
    "for i, sizes in enumerate(test_group_sizes):\n",
    "    print(f\"Iteration {i+1}: {sizes}\")\n",
    "    \n",
    "# Print the summary of mean and standard deviation\n",
    "print(summary_df)\n",
    "\n",
    "# Plot the predicted vs ground truth values for the best model\n",
    "prediction_vs_ground_truth_fig(y_train, y_train_pred, best_model_true_values, best_model_predictions)\n",
    "\n",
    "# Save the indices of the best model's training and testing sets to a CSV file\n",
    "best_model_indices_df = pd.DataFrame({'train_idx': pd.Series(best_train_idx), 'test_idx': pd.Series(best_test_idx)})\n",
    "best_model_indices_df.to_csv('Indices_RF_ZD.csv', index=False)\n",
    "\n",
    "# Save the best model\n",
    "rf_reg = RandomForestRegressor(n_estimators=55, max_depth=10)\n",
    "rf_reg.fit(zd[best_train_idx], data['target_PCE'][best_train_idx])\n",
    "joblib.dump(rf_reg, 'Model_RF_ZD.pkl')"
   ]
  },
  {
   "cell_type": "code",
   "execution_count": 16,
   "id": "b9bbef78",
   "metadata": {
    "scrolled": true
   },
   "outputs": [
    {
     "name": "stderr",
     "output_type": "stream",
     "text": [
      "Trials:   0%|▎                                                                         | 1/200 [00:00<00:43,  4.59it/s]"
     ]
    },
    {
     "name": "stdout",
     "output_type": "stream",
     "text": [
      "测试集数量: 13\n"
     ]
    },
    {
     "name": "stderr",
     "output_type": "stream",
     "text": [
      "Trials:   1%|▋                                                                         | 2/200 [00:00<00:40,  4.94it/s]"
     ]
    },
    {
     "name": "stdout",
     "output_type": "stream",
     "text": [
      "测试集数量: 13\n"
     ]
    },
    {
     "name": "stderr",
     "output_type": "stream",
     "text": [
      "Trials:   2%|█                                                                         | 3/200 [00:00<00:40,  4.85it/s]"
     ]
    },
    {
     "name": "stdout",
     "output_type": "stream",
     "text": [
      "测试集数量: 13\n"
     ]
    },
    {
     "name": "stderr",
     "output_type": "stream",
     "text": [
      "Trials:   2%|█▍                                                                        | 4/200 [00:00<00:42,  4.66it/s]"
     ]
    },
    {
     "name": "stdout",
     "output_type": "stream",
     "text": [
      "测试集数量: 13\n"
     ]
    },
    {
     "name": "stderr",
     "output_type": "stream",
     "text": [
      "Trials:   2%|█▊                                                                        | 5/200 [00:01<00:41,  4.65it/s]"
     ]
    },
    {
     "name": "stdout",
     "output_type": "stream",
     "text": [
      "测试集数量: 13\n"
     ]
    },
    {
     "name": "stderr",
     "output_type": "stream",
     "text": [
      "Trials:   3%|██▏                                                                       | 6/200 [00:01<00:42,  4.59it/s]"
     ]
    },
    {
     "name": "stdout",
     "output_type": "stream",
     "text": [
      "测试集数量: 13\n"
     ]
    },
    {
     "name": "stderr",
     "output_type": "stream",
     "text": [
      "Trials:   4%|██▌                                                                       | 7/200 [00:01<00:40,  4.76it/s]"
     ]
    },
    {
     "name": "stdout",
     "output_type": "stream",
     "text": [
      "测试集数量: 13\n",
      "测试集数量: 13\n"
     ]
    },
    {
     "name": "stderr",
     "output_type": "stream",
     "text": [
      "Trials:   4%|███▎                                                                      | 9/200 [00:01<00:41,  4.59it/s]"
     ]
    },
    {
     "name": "stdout",
     "output_type": "stream",
     "text": [
      "测试集数量: 13\n"
     ]
    },
    {
     "name": "stderr",
     "output_type": "stream",
     "text": [
      "Trials:   5%|███▋                                                                     | 10/200 [00:02<00:43,  4.42it/s]"
     ]
    },
    {
     "name": "stdout",
     "output_type": "stream",
     "text": [
      "测试集数量: 13\n"
     ]
    },
    {
     "name": "stderr",
     "output_type": "stream",
     "text": [
      "Trials:   6%|████                                                                     | 11/200 [00:02<00:40,  4.62it/s]"
     ]
    },
    {
     "name": "stdout",
     "output_type": "stream",
     "text": [
      "测试集数量: 13\n"
     ]
    },
    {
     "name": "stderr",
     "output_type": "stream",
     "text": [
      "Trials:   6%|████▍                                                                    | 12/200 [00:02<00:40,  4.63it/s]"
     ]
    },
    {
     "name": "stdout",
     "output_type": "stream",
     "text": [
      "测试集数量: 13\n",
      "测试集数量: 13\n"
     ]
    },
    {
     "name": "stderr",
     "output_type": "stream",
     "text": [
      "Trials:   7%|█████                                                                    | 14/200 [00:02<00:39,  4.71it/s]"
     ]
    },
    {
     "name": "stdout",
     "output_type": "stream",
     "text": [
      "测试集数量: 13\n"
     ]
    },
    {
     "name": "stderr",
     "output_type": "stream",
     "text": [
      "Trials:   8%|█████▍                                                                   | 15/200 [00:03<00:38,  4.78it/s]"
     ]
    },
    {
     "name": "stdout",
     "output_type": "stream",
     "text": [
      "测试集数量: 13\n"
     ]
    },
    {
     "name": "stderr",
     "output_type": "stream",
     "text": [
      "Trials:   8%|█████▊                                                                   | 16/200 [00:03<00:38,  4.75it/s]"
     ]
    },
    {
     "name": "stdout",
     "output_type": "stream",
     "text": [
      "测试集数量: 13\n"
     ]
    },
    {
     "name": "stderr",
     "output_type": "stream",
     "text": [
      "Trials:   8%|██████▏                                                                  | 17/200 [00:03<00:37,  4.86it/s]"
     ]
    },
    {
     "name": "stdout",
     "output_type": "stream",
     "text": [
      "测试集数量: 13\n"
     ]
    },
    {
     "name": "stderr",
     "output_type": "stream",
     "text": [
      "Trials:   9%|██████▌                                                                  | 18/200 [00:03<00:41,  4.40it/s]"
     ]
    },
    {
     "name": "stdout",
     "output_type": "stream",
     "text": [
      "测试集数量: 13\n"
     ]
    },
    {
     "name": "stderr",
     "output_type": "stream",
     "text": [
      "Trials:  10%|██████▉                                                                  | 19/200 [00:04<00:45,  3.94it/s]"
     ]
    },
    {
     "name": "stdout",
     "output_type": "stream",
     "text": [
      "测试集数量: 13\n"
     ]
    },
    {
     "name": "stderr",
     "output_type": "stream",
     "text": [
      "Trials:  10%|███████▎                                                                 | 20/200 [00:04<00:45,  3.96it/s]"
     ]
    },
    {
     "name": "stdout",
     "output_type": "stream",
     "text": [
      "测试集数量: 13\n"
     ]
    },
    {
     "name": "stderr",
     "output_type": "stream",
     "text": [
      "Trials:  10%|███████▋                                                                 | 21/200 [00:04<00:43,  4.14it/s]"
     ]
    },
    {
     "name": "stdout",
     "output_type": "stream",
     "text": [
      "测试集数量: 13\n"
     ]
    },
    {
     "name": "stderr",
     "output_type": "stream",
     "text": [
      "Trials:  11%|████████                                                                 | 22/200 [00:04<00:47,  3.78it/s]"
     ]
    },
    {
     "name": "stdout",
     "output_type": "stream",
     "text": [
      "测试集数量: 13\n"
     ]
    },
    {
     "name": "stderr",
     "output_type": "stream",
     "text": [
      "Trials:  12%|████████▍                                                                | 23/200 [00:05<00:49,  3.61it/s]"
     ]
    },
    {
     "name": "stdout",
     "output_type": "stream",
     "text": [
      "测试集数量: 13\n"
     ]
    },
    {
     "name": "stderr",
     "output_type": "stream",
     "text": [
      "Trials:  12%|████████▊                                                                | 24/200 [00:05<00:44,  3.97it/s]"
     ]
    },
    {
     "name": "stdout",
     "output_type": "stream",
     "text": [
      "测试集数量: 13\n"
     ]
    },
    {
     "name": "stderr",
     "output_type": "stream",
     "text": [
      "Trials:  12%|█████████▏                                                               | 25/200 [00:05<00:43,  4.05it/s]"
     ]
    },
    {
     "name": "stdout",
     "output_type": "stream",
     "text": [
      "测试集数量: 13\n"
     ]
    },
    {
     "name": "stderr",
     "output_type": "stream",
     "text": [
      "Trials:  13%|█████████▍                                                               | 26/200 [00:06<00:46,  3.73it/s]"
     ]
    },
    {
     "name": "stdout",
     "output_type": "stream",
     "text": [
      "测试集数量: 13\n"
     ]
    },
    {
     "name": "stderr",
     "output_type": "stream",
     "text": [
      "Trials:  14%|█████████▊                                                               | 27/200 [00:06<00:48,  3.54it/s]"
     ]
    },
    {
     "name": "stdout",
     "output_type": "stream",
     "text": [
      "测试集数量: 13\n"
     ]
    },
    {
     "name": "stderr",
     "output_type": "stream",
     "text": [
      "Trials:  14%|██████████▏                                                              | 28/200 [00:06<00:47,  3.59it/s]"
     ]
    },
    {
     "name": "stdout",
     "output_type": "stream",
     "text": [
      "测试集数量: 13\n"
     ]
    },
    {
     "name": "stderr",
     "output_type": "stream",
     "text": [
      "Trials:  14%|██████████▌                                                              | 29/200 [00:06<00:45,  3.73it/s]"
     ]
    },
    {
     "name": "stdout",
     "output_type": "stream",
     "text": [
      "测试集数量: 13\n"
     ]
    },
    {
     "name": "stderr",
     "output_type": "stream",
     "text": [
      "Trials:  15%|██████████▉                                                              | 30/200 [00:07<00:43,  3.94it/s]"
     ]
    },
    {
     "name": "stdout",
     "output_type": "stream",
     "text": [
      "测试集数量: 13\n"
     ]
    },
    {
     "name": "stderr",
     "output_type": "stream",
     "text": [
      "Trials:  16%|███████████▎                                                             | 31/200 [00:07<00:41,  4.11it/s]"
     ]
    },
    {
     "name": "stdout",
     "output_type": "stream",
     "text": [
      "测试集数量: 13\n"
     ]
    },
    {
     "name": "stderr",
     "output_type": "stream",
     "text": [
      "Trials:  16%|███████████▋                                                             | 32/200 [00:07<00:41,  4.08it/s]"
     ]
    },
    {
     "name": "stdout",
     "output_type": "stream",
     "text": [
      "测试集数量: 13\n"
     ]
    },
    {
     "name": "stderr",
     "output_type": "stream",
     "text": [
      "Trials:  16%|████████████                                                             | 33/200 [00:07<00:40,  4.10it/s]"
     ]
    },
    {
     "name": "stdout",
     "output_type": "stream",
     "text": [
      "测试集数量: 13\n"
     ]
    },
    {
     "name": "stderr",
     "output_type": "stream",
     "text": [
      "Trials:  17%|████████████▍                                                            | 34/200 [00:08<00:38,  4.30it/s]"
     ]
    },
    {
     "name": "stdout",
     "output_type": "stream",
     "text": [
      "测试集数量: 13\n"
     ]
    },
    {
     "name": "stderr",
     "output_type": "stream",
     "text": [
      "Trials:  18%|████████████▊                                                            | 35/200 [00:08<00:38,  4.27it/s]"
     ]
    },
    {
     "name": "stdout",
     "output_type": "stream",
     "text": [
      "测试集数量: 13\n"
     ]
    },
    {
     "name": "stderr",
     "output_type": "stream",
     "text": [
      "Trials:  18%|█████████████▏                                                           | 36/200 [00:08<00:38,  4.28it/s]"
     ]
    },
    {
     "name": "stdout",
     "output_type": "stream",
     "text": [
      "测试集数量: 13\n"
     ]
    },
    {
     "name": "stderr",
     "output_type": "stream",
     "text": [
      "Trials:  18%|█████████████▌                                                           | 37/200 [00:08<00:37,  4.29it/s]"
     ]
    },
    {
     "name": "stdout",
     "output_type": "stream",
     "text": [
      "测试集数量: 13\n"
     ]
    },
    {
     "name": "stderr",
     "output_type": "stream",
     "text": [
      "Trials:  19%|█████████████▊                                                           | 38/200 [00:08<00:36,  4.38it/s]"
     ]
    },
    {
     "name": "stdout",
     "output_type": "stream",
     "text": [
      "测试集数量: 13\n"
     ]
    },
    {
     "name": "stderr",
     "output_type": "stream",
     "text": [
      "Trials:  20%|██████████████▏                                                          | 39/200 [00:09<00:36,  4.44it/s]"
     ]
    },
    {
     "name": "stdout",
     "output_type": "stream",
     "text": [
      "测试集数量: 13\n",
      "测试集数量:"
     ]
    },
    {
     "name": "stderr",
     "output_type": "stream",
     "text": [
      "Trials:  20%|██████████████▌                                                          | 40/200 [00:09<00:37,  4.30it/s]"
     ]
    },
    {
     "name": "stdout",
     "output_type": "stream",
     "text": [
      " 13\n"
     ]
    },
    {
     "name": "stderr",
     "output_type": "stream",
     "text": [
      "Trials:  20%|██████████████▉                                                          | 41/200 [00:09<00:40,  3.95it/s]"
     ]
    },
    {
     "name": "stdout",
     "output_type": "stream",
     "text": [
      "测试集数量: 13\n"
     ]
    },
    {
     "name": "stderr",
     "output_type": "stream",
     "text": [
      "Trials:  21%|███████████████▎                                                         | 42/200 [00:09<00:39,  3.96it/s]"
     ]
    },
    {
     "name": "stdout",
     "output_type": "stream",
     "text": [
      "测试集数量: 13\n",
      "测试集数量: 13\n"
     ]
    },
    {
     "name": "stderr",
     "output_type": "stream",
     "text": [
      "Trials:  22%|████████████████                                                         | 44/200 [00:10<00:46,  3.33it/s]"
     ]
    },
    {
     "name": "stdout",
     "output_type": "stream",
     "text": [
      "测试集数量: 13\n"
     ]
    },
    {
     "name": "stderr",
     "output_type": "stream",
     "text": [
      "Trials:  22%|████████████████▍                                                        | 45/200 [00:10<00:46,  3.33it/s]"
     ]
    },
    {
     "name": "stdout",
     "output_type": "stream",
     "text": [
      "测试集数量: 13\n"
     ]
    },
    {
     "name": "stderr",
     "output_type": "stream",
     "text": [
      "Trials:  23%|████████████████▊                                                        | 46/200 [00:11<00:44,  3.43it/s]"
     ]
    },
    {
     "name": "stdout",
     "output_type": "stream",
     "text": [
      "测试集数量: 13\n"
     ]
    },
    {
     "name": "stderr",
     "output_type": "stream",
     "text": [
      "Trials:  24%|█████████████████▏                                                       | 47/200 [00:11<00:46,  3.29it/s]"
     ]
    },
    {
     "name": "stdout",
     "output_type": "stream",
     "text": [
      "测试集数量: 13\n",
      "测试集数量: 13\n"
     ]
    },
    {
     "name": "stderr",
     "output_type": "stream",
     "text": [
      "Trials:  24%|█████████████████▉                                                       | 49/200 [00:12<00:50,  3.01it/s]"
     ]
    },
    {
     "name": "stdout",
     "output_type": "stream",
     "text": [
      "测试集数量: 13\n"
     ]
    },
    {
     "name": "stderr",
     "output_type": "stream",
     "text": [
      "Trials:  25%|██████████████████▎                                                      | 50/200 [00:12<00:49,  3.06it/s]"
     ]
    },
    {
     "name": "stdout",
     "output_type": "stream",
     "text": [
      "测试集数量: 13\n"
     ]
    },
    {
     "name": "stderr",
     "output_type": "stream",
     "text": [
      "Trials:  26%|██████████████████▌                                                      | 51/200 [00:12<00:50,  2.93it/s]"
     ]
    },
    {
     "name": "stdout",
     "output_type": "stream",
     "text": [
      "测试集数量: 13\n"
     ]
    },
    {
     "name": "stderr",
     "output_type": "stream",
     "text": [
      "Trials:  26%|██████████████████▉                                                      | 52/200 [00:13<00:49,  3.02it/s]"
     ]
    },
    {
     "name": "stdout",
     "output_type": "stream",
     "text": [
      "测试集数量: 13\n"
     ]
    },
    {
     "name": "stderr",
     "output_type": "stream",
     "text": [
      "Trials:  26%|███████████████████▎                                                     | 53/200 [00:13<00:43,  3.35it/s]"
     ]
    },
    {
     "name": "stdout",
     "output_type": "stream",
     "text": [
      "测试集数量: 13\n"
     ]
    },
    {
     "name": "stderr",
     "output_type": "stream",
     "text": [
      "Trials:  27%|███████████████████▋                                                     | 54/200 [00:13<00:39,  3.66it/s]"
     ]
    },
    {
     "name": "stdout",
     "output_type": "stream",
     "text": [
      "测试集数量: 13\n"
     ]
    },
    {
     "name": "stderr",
     "output_type": "stream",
     "text": [
      "Trials:  28%|████████████████████                                                     | 55/200 [00:13<00:39,  3.69it/s]"
     ]
    },
    {
     "name": "stdout",
     "output_type": "stream",
     "text": [
      "测试集数量: 13\n"
     ]
    },
    {
     "name": "stderr",
     "output_type": "stream",
     "text": [
      "Trials:  28%|████████████████████▍                                                    | 56/200 [00:14<00:38,  3.78it/s]"
     ]
    },
    {
     "name": "stdout",
     "output_type": "stream",
     "text": [
      "测试集数量: 13\n"
     ]
    },
    {
     "name": "stderr",
     "output_type": "stream",
     "text": [
      "Trials:  28%|████████████████████▊                                                    | 57/200 [00:14<00:36,  3.90it/s]"
     ]
    },
    {
     "name": "stdout",
     "output_type": "stream",
     "text": [
      "测试集数量: 13\n"
     ]
    },
    {
     "name": "stderr",
     "output_type": "stream",
     "text": [
      "Trials:  29%|█████████████████████▏                                                   | 58/200 [00:14<00:35,  4.04it/s]"
     ]
    },
    {
     "name": "stdout",
     "output_type": "stream",
     "text": [
      "测试集数量: 13\n"
     ]
    },
    {
     "name": "stderr",
     "output_type": "stream",
     "text": [
      "Trials:  30%|█████████████████████▌                                                   | 59/200 [00:14<00:33,  4.17it/s]"
     ]
    },
    {
     "name": "stdout",
     "output_type": "stream",
     "text": [
      "测试集数量: 13\n"
     ]
    },
    {
     "name": "stderr",
     "output_type": "stream",
     "text": [
      "Trials:  30%|█████████████████████▉                                                   | 60/200 [00:15<00:32,  4.30it/s]"
     ]
    },
    {
     "name": "stdout",
     "output_type": "stream",
     "text": [
      "测试集数量: 13\n"
     ]
    },
    {
     "name": "stderr",
     "output_type": "stream",
     "text": [
      "Trials:  30%|██████████████████████▎                                                  | 61/200 [00:15<00:31,  4.39it/s]"
     ]
    },
    {
     "name": "stdout",
     "output_type": "stream",
     "text": [
      "测试集数量: 13\n"
     ]
    },
    {
     "name": "stderr",
     "output_type": "stream",
     "text": [
      "Trials:  31%|██████████████████████▋                                                  | 62/200 [00:15<00:30,  4.46it/s]"
     ]
    },
    {
     "name": "stdout",
     "output_type": "stream",
     "text": [
      "测试集数量: 13\n"
     ]
    },
    {
     "name": "stderr",
     "output_type": "stream",
     "text": [
      "Trials:  32%|██████████████████████▉                                                  | 63/200 [00:15<00:30,  4.51it/s]"
     ]
    },
    {
     "name": "stdout",
     "output_type": "stream",
     "text": [
      "测试集数量: 13\n"
     ]
    },
    {
     "name": "stderr",
     "output_type": "stream",
     "text": [
      "Trials:  32%|███████████████████████▎                                                 | 64/200 [00:16<00:34,  3.99it/s]"
     ]
    },
    {
     "name": "stdout",
     "output_type": "stream",
     "text": [
      "测试集数量: 13\n"
     ]
    },
    {
     "name": "stderr",
     "output_type": "stream",
     "text": [
      "Trials:  32%|███████████████████████▋                                                 | 65/200 [00:16<00:37,  3.60it/s]"
     ]
    },
    {
     "name": "stdout",
     "output_type": "stream",
     "text": [
      "测试集数量: 13\n"
     ]
    },
    {
     "name": "stderr",
     "output_type": "stream",
     "text": [
      "Trials:  33%|████████████████████████                                                 | 66/200 [00:16<00:35,  3.74it/s]"
     ]
    },
    {
     "name": "stdout",
     "output_type": "stream",
     "text": [
      "测试集数量: 13\n"
     ]
    },
    {
     "name": "stderr",
     "output_type": "stream",
     "text": [
      "Trials:  34%|████████████████████████▍                                                | 67/200 [00:17<00:39,  3.36it/s]"
     ]
    },
    {
     "name": "stdout",
     "output_type": "stream",
     "text": [
      "测试集数量: 13\n"
     ]
    },
    {
     "name": "stderr",
     "output_type": "stream",
     "text": [
      "Trials:  34%|████████████████████████▊                                                | 68/200 [00:17<00:40,  3.25it/s]"
     ]
    },
    {
     "name": "stdout",
     "output_type": "stream",
     "text": [
      "测试集数量: 13\n"
     ]
    },
    {
     "name": "stderr",
     "output_type": "stream",
     "text": [
      "Trials:  34%|█████████████████████████▏                                               | 69/200 [00:17<00:39,  3.33it/s]"
     ]
    },
    {
     "name": "stdout",
     "output_type": "stream",
     "text": [
      "测试集数量: 13\n"
     ]
    },
    {
     "name": "stderr",
     "output_type": "stream",
     "text": [
      "Trials:  35%|█████████████████████████▌                                               | 70/200 [00:18<00:40,  3.17it/s]"
     ]
    },
    {
     "name": "stdout",
     "output_type": "stream",
     "text": [
      "测试集数量: 13\n",
      "测试集数量: 13\n"
     ]
    },
    {
     "name": "stderr",
     "output_type": "stream",
     "text": [
      "Trials:  36%|██████████████████████████▎                                              | 72/200 [00:18<00:41,  3.09it/s]"
     ]
    },
    {
     "name": "stdout",
     "output_type": "stream",
     "text": [
      "测试集数量: 13\n"
     ]
    },
    {
     "name": "stderr",
     "output_type": "stream",
     "text": [
      "Trials:  36%|██████████████████████████▋                                              | 73/200 [00:18<00:40,  3.13it/s]"
     ]
    },
    {
     "name": "stdout",
     "output_type": "stream",
     "text": [
      "测试集数量: 13\n"
     ]
    },
    {
     "name": "stderr",
     "output_type": "stream",
     "text": [
      "Trials:  37%|███████████████████████████                                              | 74/200 [00:19<00:35,  3.57it/s]"
     ]
    },
    {
     "name": "stdout",
     "output_type": "stream",
     "text": [
      "测试集数量: 13\n"
     ]
    },
    {
     "name": "stderr",
     "output_type": "stream",
     "text": [
      "Trials:  38%|███████████████████████████▍                                             | 75/200 [00:19<00:33,  3.76it/s]"
     ]
    },
    {
     "name": "stdout",
     "output_type": "stream",
     "text": [
      "测试集数量: 13\n"
     ]
    },
    {
     "name": "stderr",
     "output_type": "stream",
     "text": [
      "Trials:  38%|███████████████████████████▋                                             | 76/200 [00:19<00:32,  3.83it/s]"
     ]
    },
    {
     "name": "stdout",
     "output_type": "stream",
     "text": [
      "测试集数量: 13\n"
     ]
    },
    {
     "name": "stderr",
     "output_type": "stream",
     "text": [
      "Trials:  38%|████████████████████████████                                             | 77/200 [00:19<00:31,  3.95it/s]"
     ]
    },
    {
     "name": "stdout",
     "output_type": "stream",
     "text": [
      "测试集数量: 13\n"
     ]
    },
    {
     "name": "stderr",
     "output_type": "stream",
     "text": [
      "Trials:  39%|████████████████████████████▍                                            | 78/200 [00:20<00:30,  3.97it/s]"
     ]
    },
    {
     "name": "stdout",
     "output_type": "stream",
     "text": [
      "测试集数量: 13\n"
     ]
    },
    {
     "name": "stderr",
     "output_type": "stream",
     "text": [
      "Trials:  40%|████████████████████████████▊                                            | 79/200 [00:20<00:29,  4.06it/s]"
     ]
    },
    {
     "name": "stdout",
     "output_type": "stream",
     "text": [
      "测试集数量: 13\n"
     ]
    },
    {
     "name": "stderr",
     "output_type": "stream",
     "text": [
      "Trials:  40%|█████████████████████████████▏                                           | 80/200 [00:20<00:28,  4.22it/s]"
     ]
    },
    {
     "name": "stdout",
     "output_type": "stream",
     "text": [
      "测试集数量: 13\n"
     ]
    },
    {
     "name": "stderr",
     "output_type": "stream",
     "text": [
      "Trials:  40%|█████████████████████████████▌                                           | 81/200 [00:20<00:26,  4.45it/s]"
     ]
    },
    {
     "name": "stdout",
     "output_type": "stream",
     "text": [
      "测试集数量: 13\n"
     ]
    },
    {
     "name": "stderr",
     "output_type": "stream",
     "text": [
      "Trials:  41%|█████████████████████████████▉                                           | 82/200 [00:20<00:26,  4.53it/s]"
     ]
    },
    {
     "name": "stdout",
     "output_type": "stream",
     "text": [
      "测试集数量: 13\n"
     ]
    },
    {
     "name": "stderr",
     "output_type": "stream",
     "text": [
      "Trials:  42%|██████████████████████████████▎                                          | 83/200 [00:21<00:26,  4.38it/s]"
     ]
    },
    {
     "name": "stdout",
     "output_type": "stream",
     "text": [
      "测试集数量: 13\n"
     ]
    },
    {
     "name": "stderr",
     "output_type": "stream",
     "text": [
      "Trials:  42%|██████████████████████████████▋                                          | 84/200 [00:21<00:26,  4.42it/s]"
     ]
    },
    {
     "name": "stdout",
     "output_type": "stream",
     "text": [
      "测试集数量: 13\n"
     ]
    },
    {
     "name": "stderr",
     "output_type": "stream",
     "text": [
      "Trials:  42%|███████████████████████████████                                          | 85/200 [00:21<00:26,  4.37it/s]"
     ]
    },
    {
     "name": "stdout",
     "output_type": "stream",
     "text": [
      "测试集数量: 13\n"
     ]
    },
    {
     "name": "stderr",
     "output_type": "stream",
     "text": [
      "Trials:  43%|███████████████████████████████▍                                         | 86/200 [00:21<00:26,  4.35it/s]"
     ]
    },
    {
     "name": "stdout",
     "output_type": "stream",
     "text": [
      "测试集数量: 13\n"
     ]
    },
    {
     "name": "stderr",
     "output_type": "stream",
     "text": [
      "Trials:  44%|███████████████████████████████▊                                         | 87/200 [00:22<00:26,  4.33it/s]"
     ]
    },
    {
     "name": "stdout",
     "output_type": "stream",
     "text": [
      "测试集数量: 13\n"
     ]
    },
    {
     "name": "stderr",
     "output_type": "stream",
     "text": [
      "Trials:  44%|████████████████████████████████                                         | 88/200 [00:22<00:25,  4.32it/s]"
     ]
    },
    {
     "name": "stdout",
     "output_type": "stream",
     "text": [
      "测试集数量: 13\n"
     ]
    },
    {
     "name": "stderr",
     "output_type": "stream",
     "text": [
      "Trials:  44%|████████████████████████████████▍                                        | 89/200 [00:22<00:26,  4.13it/s]"
     ]
    },
    {
     "name": "stdout",
     "output_type": "stream",
     "text": [
      "测试集数量: 13\n"
     ]
    },
    {
     "name": "stderr",
     "output_type": "stream",
     "text": [
      "Trials:  45%|████████████████████████████████▊                                        | 90/200 [00:22<00:27,  4.07it/s]"
     ]
    },
    {
     "name": "stdout",
     "output_type": "stream",
     "text": [
      "测试集数量: 13\n"
     ]
    },
    {
     "name": "stderr",
     "output_type": "stream",
     "text": [
      "Trials:  46%|█████████████████████████████████▏                                       | 91/200 [00:23<00:26,  4.06it/s]"
     ]
    },
    {
     "name": "stdout",
     "output_type": "stream",
     "text": [
      "测试集数量: 13\n"
     ]
    },
    {
     "name": "stderr",
     "output_type": "stream",
     "text": [
      "Trials:  46%|█████████████████████████████████▌                                       | 92/200 [00:23<00:25,  4.22it/s]"
     ]
    },
    {
     "name": "stdout",
     "output_type": "stream",
     "text": [
      "测试集数量: 13\n"
     ]
    },
    {
     "name": "stderr",
     "output_type": "stream",
     "text": [
      "Trials:  46%|█████████████████████████████████▉                                       | 93/200 [00:23<00:25,  4.15it/s]"
     ]
    },
    {
     "name": "stdout",
     "output_type": "stream",
     "text": [
      "测试集数量: 13\n"
     ]
    },
    {
     "name": "stderr",
     "output_type": "stream",
     "text": [
      "Trials:  47%|██████████████████████████████████▎                                      | 94/200 [00:23<00:24,  4.30it/s]"
     ]
    },
    {
     "name": "stdout",
     "output_type": "stream",
     "text": [
      "测试集数量: 13\n"
     ]
    },
    {
     "name": "stderr",
     "output_type": "stream",
     "text": [
      "Trials:  48%|██████████████████████████████████▋                                      | 95/200 [00:24<00:24,  4.37it/s]"
     ]
    },
    {
     "name": "stdout",
     "output_type": "stream",
     "text": [
      "测试集数量: 13\n",
      "测试集数量:"
     ]
    },
    {
     "name": "stderr",
     "output_type": "stream",
     "text": [
      "Trials:  48%|███████████████████████████████████                                      | 96/200 [00:24<00:23,  4.40it/s]"
     ]
    },
    {
     "name": "stdout",
     "output_type": "stream",
     "text": [
      " 13\n"
     ]
    },
    {
     "name": "stderr",
     "output_type": "stream",
     "text": [
      "Trials:  48%|███████████████████████████████████▍                                     | 97/200 [00:24<00:22,  4.51it/s]"
     ]
    },
    {
     "name": "stdout",
     "output_type": "stream",
     "text": [
      "测试集数量: 13\n",
      "测试集数量:"
     ]
    },
    {
     "name": "stderr",
     "output_type": "stream",
     "text": [
      "Trials:  49%|███████████████████████████████████▊                                     | 98/200 [00:24<00:22,  4.60it/s]"
     ]
    },
    {
     "name": "stdout",
     "output_type": "stream",
     "text": [
      " 13\n"
     ]
    },
    {
     "name": "stderr",
     "output_type": "stream",
     "text": [
      "Trials:  50%|████████████████████████████████████▏                                    | 99/200 [00:24<00:21,  4.76it/s]"
     ]
    },
    {
     "name": "stdout",
     "output_type": "stream",
     "text": [
      "测试集数量: 13\n"
     ]
    },
    {
     "name": "stderr",
     "output_type": "stream",
     "text": [
      "Trials:  50%|████████████████████████████████████                                    | 100/200 [00:25<00:21,  4.76it/s]"
     ]
    },
    {
     "name": "stdout",
     "output_type": "stream",
     "text": [
      "测试集数量: 13\n"
     ]
    },
    {
     "name": "stderr",
     "output_type": "stream",
     "text": [
      "Trials:  50%|████████████████████████████████████▎                                   | 101/200 [00:25<00:20,  4.77it/s]"
     ]
    },
    {
     "name": "stdout",
     "output_type": "stream",
     "text": [
      "测试集数量: 13\n",
      "测试集数量: "
     ]
    },
    {
     "name": "stderr",
     "output_type": "stream",
     "text": [
      "Trials:  51%|████████████████████████████████████▋                                   | 102/200 [00:25<00:20,  4.78it/s]"
     ]
    },
    {
     "name": "stdout",
     "output_type": "stream",
     "text": [
      "13\n"
     ]
    },
    {
     "name": "stderr",
     "output_type": "stream",
     "text": [
      "Trials:  52%|█████████████████████████████████████                                   | 103/200 [00:25<00:20,  4.78it/s]"
     ]
    },
    {
     "name": "stdout",
     "output_type": "stream",
     "text": [
      "测试集数量: 13\n"
     ]
    },
    {
     "name": "stderr",
     "output_type": "stream",
     "text": [
      "Trials:  52%|█████████████████████████████████████▍                                  | 104/200 [00:25<00:20,  4.77it/s]"
     ]
    },
    {
     "name": "stdout",
     "output_type": "stream",
     "text": [
      "测试集数量: 13\n"
     ]
    },
    {
     "name": "stderr",
     "output_type": "stream",
     "text": [
      "Trials:  52%|█████████████████████████████████████▊                                  | 105/200 [00:26<00:20,  4.74it/s]"
     ]
    },
    {
     "name": "stdout",
     "output_type": "stream",
     "text": [
      "测试集数量: 13\n"
     ]
    },
    {
     "name": "stderr",
     "output_type": "stream",
     "text": [
      "Trials:  53%|██████████████████████████████████████▏                                 | 106/200 [00:26<00:20,  4.69it/s]"
     ]
    },
    {
     "name": "stdout",
     "output_type": "stream",
     "text": [
      "测试集数量: 13\n"
     ]
    },
    {
     "name": "stderr",
     "output_type": "stream",
     "text": [
      "Trials:  54%|██████████████████████████████████████▌                                 | 107/200 [00:26<00:20,  4.65it/s]"
     ]
    },
    {
     "name": "stdout",
     "output_type": "stream",
     "text": [
      "测试集数量: 13\n"
     ]
    },
    {
     "name": "stderr",
     "output_type": "stream",
     "text": [
      "Trials:  54%|██████████████████████████████████████▉                                 | 108/200 [00:26<00:19,  4.74it/s]"
     ]
    },
    {
     "name": "stdout",
     "output_type": "stream",
     "text": [
      "测试集数量: 13\n"
     ]
    },
    {
     "name": "stderr",
     "output_type": "stream",
     "text": [
      "Trials:  55%|███████████████████████████████████████▏                                | 109/200 [00:27<00:22,  4.11it/s]"
     ]
    },
    {
     "name": "stdout",
     "output_type": "stream",
     "text": [
      "测试集数量: 13\n"
     ]
    },
    {
     "name": "stderr",
     "output_type": "stream",
     "text": [
      "Trials:  55%|███████████████████████████████████████▌                                | 110/200 [00:27<00:24,  3.67it/s]"
     ]
    },
    {
     "name": "stdout",
     "output_type": "stream",
     "text": [
      "测试集数量: 13\n"
     ]
    },
    {
     "name": "stderr",
     "output_type": "stream",
     "text": [
      "Trials:  56%|███████████████████████████████████████▉                                | 111/200 [00:27<00:27,  3.29it/s]"
     ]
    },
    {
     "name": "stdout",
     "output_type": "stream",
     "text": [
      "测试集数量: 13\n"
     ]
    },
    {
     "name": "stderr",
     "output_type": "stream",
     "text": [
      "Trials:  56%|████████████████████████████████████████▎                               | 112/200 [00:28<00:28,  3.08it/s]"
     ]
    },
    {
     "name": "stdout",
     "output_type": "stream",
     "text": [
      "测试集数量: 13\n"
     ]
    },
    {
     "name": "stderr",
     "output_type": "stream",
     "text": [
      "Trials:  56%|████████████████████████████████████████▋                               | 113/200 [00:28<00:28,  3.02it/s]"
     ]
    },
    {
     "name": "stdout",
     "output_type": "stream",
     "text": [
      "测试集数量: 13\n"
     ]
    },
    {
     "name": "stderr",
     "output_type": "stream",
     "text": [
      "Trials:  57%|█████████████████████████████████████████                               | 114/200 [00:28<00:28,  2.97it/s]"
     ]
    },
    {
     "name": "stdout",
     "output_type": "stream",
     "text": [
      "测试集数量: 13\n"
     ]
    },
    {
     "name": "stderr",
     "output_type": "stream",
     "text": [
      "Trials:  57%|█████████████████████████████████████████▍                              | 115/200 [00:29<00:29,  2.93it/s]"
     ]
    },
    {
     "name": "stdout",
     "output_type": "stream",
     "text": [
      "测试集数量: 13\n"
     ]
    },
    {
     "name": "stderr",
     "output_type": "stream",
     "text": [
      "Trials:  58%|█████████████████████████████████████████▊                              | 116/200 [00:29<00:26,  3.20it/s]"
     ]
    },
    {
     "name": "stdout",
     "output_type": "stream",
     "text": [
      "测试集数量: 13\n"
     ]
    },
    {
     "name": "stderr",
     "output_type": "stream",
     "text": [
      "Trials:  58%|██████████████████████████████████████████                              | 117/200 [00:29<00:23,  3.52it/s]"
     ]
    },
    {
     "name": "stdout",
     "output_type": "stream",
     "text": [
      "测试集数量: 13\n"
     ]
    },
    {
     "name": "stderr",
     "output_type": "stream",
     "text": [
      "Trials:  59%|██████████████████████████████████████████▍                             | 118/200 [00:29<00:21,  3.80it/s]"
     ]
    },
    {
     "name": "stdout",
     "output_type": "stream",
     "text": [
      "测试集数量: 13\n"
     ]
    },
    {
     "name": "stderr",
     "output_type": "stream",
     "text": [
      "Trials:  60%|██████████████████████████████████████████▊                             | 119/200 [00:30<00:20,  4.01it/s]"
     ]
    },
    {
     "name": "stdout",
     "output_type": "stream",
     "text": [
      "测试集数量: 13\n"
     ]
    },
    {
     "name": "stderr",
     "output_type": "stream",
     "text": [
      "Trials:  60%|███████████████████████████████████████████▏                            | 120/200 [00:30<00:19,  4.16it/s]"
     ]
    },
    {
     "name": "stdout",
     "output_type": "stream",
     "text": [
      "测试集数量: 13\n"
     ]
    },
    {
     "name": "stderr",
     "output_type": "stream",
     "text": [
      "Trials:  60%|███████████████████████████████████████████▌                            | 121/200 [00:30<00:18,  4.24it/s]"
     ]
    },
    {
     "name": "stdout",
     "output_type": "stream",
     "text": [
      "测试集数量: 13\n"
     ]
    },
    {
     "name": "stderr",
     "output_type": "stream",
     "text": [
      "Trials:  61%|███████████████████████████████████████████▉                            | 122/200 [00:30<00:17,  4.39it/s]"
     ]
    },
    {
     "name": "stdout",
     "output_type": "stream",
     "text": [
      "测试集数量: 13\n"
     ]
    },
    {
     "name": "stderr",
     "output_type": "stream",
     "text": [
      "Trials:  62%|████████████████████████████████████████████▎                           | 123/200 [00:31<00:17,  4.35it/s]"
     ]
    },
    {
     "name": "stdout",
     "output_type": "stream",
     "text": [
      "测试集数量: 13\n"
     ]
    },
    {
     "name": "stderr",
     "output_type": "stream",
     "text": [
      "Trials:  62%|████████████████████████████████████████████▋                           | 124/200 [00:31<00:17,  4.33it/s]"
     ]
    },
    {
     "name": "stdout",
     "output_type": "stream",
     "text": [
      "测试集数量: 13\n"
     ]
    },
    {
     "name": "stderr",
     "output_type": "stream",
     "text": [
      "Trials:  62%|█████████████████████████████████████████████                           | 125/200 [00:31<00:17,  4.25it/s]"
     ]
    },
    {
     "name": "stdout",
     "output_type": "stream",
     "text": [
      "测试集数量: 13\n"
     ]
    },
    {
     "name": "stderr",
     "output_type": "stream",
     "text": [
      "Trials:  63%|█████████████████████████████████████████████▎                          | 126/200 [00:31<00:16,  4.36it/s]"
     ]
    },
    {
     "name": "stdout",
     "output_type": "stream",
     "text": [
      "测试集数量: 13\n"
     ]
    },
    {
     "name": "stderr",
     "output_type": "stream",
     "text": [
      "Trials:  64%|█████████████████████████████████████████████▋                          | 127/200 [00:31<00:16,  4.44it/s]"
     ]
    },
    {
     "name": "stdout",
     "output_type": "stream",
     "text": [
      "测试集数量: 13\n"
     ]
    },
    {
     "name": "stderr",
     "output_type": "stream",
     "text": [
      "Trials:  64%|██████████████████████████████████████████████                          | 128/200 [00:32<00:16,  4.47it/s]"
     ]
    },
    {
     "name": "stdout",
     "output_type": "stream",
     "text": [
      "测试集数量: 13\n"
     ]
    },
    {
     "name": "stderr",
     "output_type": "stream",
     "text": [
      "Trials:  64%|██████████████████████████████████████████████▍                         | 129/200 [00:32<00:16,  4.41it/s]"
     ]
    },
    {
     "name": "stdout",
     "output_type": "stream",
     "text": [
      "测试集数量: 13\n"
     ]
    },
    {
     "name": "stderr",
     "output_type": "stream",
     "text": [
      "Trials:  65%|██████████████████████████████████████████████▊                         | 130/200 [00:32<00:16,  4.37it/s]"
     ]
    },
    {
     "name": "stdout",
     "output_type": "stream",
     "text": [
      "测试集数量: 13\n"
     ]
    },
    {
     "name": "stderr",
     "output_type": "stream",
     "text": [
      "Trials:  66%|███████████████████████████████████████████████▏                        | 131/200 [00:32<00:15,  4.44it/s]"
     ]
    },
    {
     "name": "stdout",
     "output_type": "stream",
     "text": [
      "测试集数量: 13\n"
     ]
    },
    {
     "name": "stderr",
     "output_type": "stream",
     "text": [
      "Trials:  66%|███████████████████████████████████████████████▌                        | 132/200 [00:33<00:15,  4.28it/s]"
     ]
    },
    {
     "name": "stdout",
     "output_type": "stream",
     "text": [
      "测试集数量: 13\n"
     ]
    },
    {
     "name": "stderr",
     "output_type": "stream",
     "text": [
      "Trials:  66%|███████████████████████████████████████████████▉                        | 133/200 [00:33<00:15,  4.40it/s]"
     ]
    },
    {
     "name": "stdout",
     "output_type": "stream",
     "text": [
      "测试集数量: 13\n"
     ]
    },
    {
     "name": "stderr",
     "output_type": "stream",
     "text": [
      "Trials:  67%|████████████████████████████████████████████████▏                       | 134/200 [00:33<00:14,  4.54it/s]"
     ]
    },
    {
     "name": "stdout",
     "output_type": "stream",
     "text": [
      "测试集数量: 13\n",
      "测试集数量: 13\n"
     ]
    },
    {
     "name": "stderr",
     "output_type": "stream",
     "text": [
      "Trials:  68%|████████████████████████████████████████████████▉                       | 136/200 [00:33<00:13,  4.61it/s]"
     ]
    },
    {
     "name": "stdout",
     "output_type": "stream",
     "text": [
      "测试集数量: 13\n"
     ]
    },
    {
     "name": "stderr",
     "output_type": "stream",
     "text": [
      "Trials:  68%|█████████████████████████████████████████████████▎                      | 137/200 [00:34<00:13,  4.62it/s]"
     ]
    },
    {
     "name": "stdout",
     "output_type": "stream",
     "text": [
      "测试集数量: 13\n"
     ]
    },
    {
     "name": "stderr",
     "output_type": "stream",
     "text": [
      "Trials:  69%|█████████████████████████████████████████████████▋                      | 138/200 [00:34<00:13,  4.64it/s]"
     ]
    },
    {
     "name": "stdout",
     "output_type": "stream",
     "text": [
      "测试集数量: 13\n",
      "测试集数量: 13\n"
     ]
    },
    {
     "name": "stderr",
     "output_type": "stream",
     "text": [
      "Trials:  70%|██████████████████████████████████████████████████▍                     | 140/200 [00:34<00:13,  4.50it/s]"
     ]
    },
    {
     "name": "stdout",
     "output_type": "stream",
     "text": [
      "测试集数量: 13\n"
     ]
    },
    {
     "name": "stderr",
     "output_type": "stream",
     "text": [
      "Trials:  70%|██████████████████████████████████████████████████▊                     | 141/200 [00:35<00:12,  4.66it/s]"
     ]
    },
    {
     "name": "stdout",
     "output_type": "stream",
     "text": [
      "测试集数量: 13\n",
      "测试集数量:"
     ]
    },
    {
     "name": "stderr",
     "output_type": "stream",
     "text": [
      "Trials:  71%|███████████████████████████████████████████████████                     | 142/200 [00:35<00:12,  4.64it/s]"
     ]
    },
    {
     "name": "stdout",
     "output_type": "stream",
     "text": [
      " 13\n"
     ]
    },
    {
     "name": "stderr",
     "output_type": "stream",
     "text": [
      "Trials:  72%|███████████████████████████████████████████████████▍                    | 143/200 [00:35<00:12,  4.46it/s]"
     ]
    },
    {
     "name": "stdout",
     "output_type": "stream",
     "text": [
      "测试集数量: 13\n"
     ]
    },
    {
     "name": "stderr",
     "output_type": "stream",
     "text": [
      "Trials:  72%|███████████████████████████████████████████████████▊                    | 144/200 [00:35<00:12,  4.52it/s]"
     ]
    },
    {
     "name": "stdout",
     "output_type": "stream",
     "text": [
      "测试集数量: 13\n"
     ]
    },
    {
     "name": "stderr",
     "output_type": "stream",
     "text": [
      "Trials:  72%|████████████████████████████████████████████████████▏                   | 145/200 [00:35<00:12,  4.45it/s]"
     ]
    },
    {
     "name": "stdout",
     "output_type": "stream",
     "text": [
      "测试集数量: 13\n"
     ]
    },
    {
     "name": "stderr",
     "output_type": "stream",
     "text": [
      "Trials:  73%|████████████████████████████████████████████████████▌                   | 146/200 [00:36<00:11,  4.62it/s]"
     ]
    },
    {
     "name": "stdout",
     "output_type": "stream",
     "text": [
      "测试集数量: 13\n"
     ]
    },
    {
     "name": "stderr",
     "output_type": "stream",
     "text": [
      "Trials:  74%|████████████████████████████████████████████████████▉                   | 147/200 [00:36<00:11,  4.51it/s]"
     ]
    },
    {
     "name": "stdout",
     "output_type": "stream",
     "text": [
      "测试集数量: 13\n"
     ]
    },
    {
     "name": "stderr",
     "output_type": "stream",
     "text": [
      "Trials:  74%|█████████████████████████████████████████████████████▎                  | 148/200 [00:36<00:13,  3.92it/s]"
     ]
    },
    {
     "name": "stdout",
     "output_type": "stream",
     "text": [
      "测试集数量: 13\n"
     ]
    },
    {
     "name": "stderr",
     "output_type": "stream",
     "text": [
      "Trials:  74%|█████████████████████████████████████████████████████▋                  | 149/200 [00:37<00:13,  3.65it/s]"
     ]
    },
    {
     "name": "stdout",
     "output_type": "stream",
     "text": [
      "测试集数量: 13\n"
     ]
    },
    {
     "name": "stderr",
     "output_type": "stream",
     "text": [
      "Trials:  75%|██████████████████████████████████████████████████████                  | 150/200 [00:37<00:14,  3.56it/s]"
     ]
    },
    {
     "name": "stdout",
     "output_type": "stream",
     "text": [
      "测试集数量: 13\n"
     ]
    },
    {
     "name": "stderr",
     "output_type": "stream",
     "text": [
      "Trials:  76%|██████████████████████████████████████████████████████▎                 | 151/200 [00:37<00:12,  3.81it/s]"
     ]
    },
    {
     "name": "stdout",
     "output_type": "stream",
     "text": [
      "测试集数量: 13\n"
     ]
    },
    {
     "name": "stderr",
     "output_type": "stream",
     "text": [
      "Trials:  76%|██████████████████████████████████████████████████████▋                 | 152/200 [00:37<00:12,  3.99it/s]"
     ]
    },
    {
     "name": "stdout",
     "output_type": "stream",
     "text": [
      "测试集数量: 13\n"
     ]
    },
    {
     "name": "stderr",
     "output_type": "stream",
     "text": [
      "Trials:  76%|███████████████████████████████████████████████████████                 | 153/200 [00:38<00:11,  3.92it/s]"
     ]
    },
    {
     "name": "stdout",
     "output_type": "stream",
     "text": [
      "测试集数量: 13\n"
     ]
    },
    {
     "name": "stderr",
     "output_type": "stream",
     "text": [
      "Trials:  77%|███████████████████████████████████████████████████████▍                | 154/200 [00:38<00:13,  3.48it/s]"
     ]
    },
    {
     "name": "stdout",
     "output_type": "stream",
     "text": [
      "测试集数量: 13\n"
     ]
    },
    {
     "name": "stderr",
     "output_type": "stream",
     "text": [
      "Trials:  78%|███████████████████████████████████████████████████████▊                | 155/200 [00:38<00:13,  3.27it/s]"
     ]
    },
    {
     "name": "stdout",
     "output_type": "stream",
     "text": [
      "测试集数量: 13\n",
      "测试集数量: 13\n"
     ]
    },
    {
     "name": "stderr",
     "output_type": "stream",
     "text": [
      "Trials:  78%|████████████████████████████████████████████████████████▌               | 157/200 [00:39<00:14,  2.95it/s]"
     ]
    },
    {
     "name": "stdout",
     "output_type": "stream",
     "text": [
      "测试集数量: 13\n",
      "测试集数量: 13\n"
     ]
    },
    {
     "name": "stderr",
     "output_type": "stream",
     "text": [
      "Trials:  80%|█████████████████████████████████████████████████████████▏              | 159/200 [00:40<00:14,  2.89it/s]"
     ]
    },
    {
     "name": "stdout",
     "output_type": "stream",
     "text": [
      "测试集数量: 13\n"
     ]
    },
    {
     "name": "stderr",
     "output_type": "stream",
     "text": [
      "Trials:  80%|█████████████████████████████████████████████████████████▌              | 160/200 [00:40<00:13,  2.96it/s]"
     ]
    },
    {
     "name": "stdout",
     "output_type": "stream",
     "text": [
      "测试集数量: 13\n"
     ]
    },
    {
     "name": "stderr",
     "output_type": "stream",
     "text": [
      "Trials:  80%|█████████████████████████████████████████████████████████▉              | 161/200 [00:40<00:13,  2.93it/s]"
     ]
    },
    {
     "name": "stdout",
     "output_type": "stream",
     "text": [
      "测试集数量: 13\n"
     ]
    },
    {
     "name": "stderr",
     "output_type": "stream",
     "text": [
      "Trials:  81%|██████████████████████████████████████████████████████████▎             | 162/200 [00:41<00:13,  2.91it/s]"
     ]
    },
    {
     "name": "stdout",
     "output_type": "stream",
     "text": [
      "测试集数量: 13\n"
     ]
    },
    {
     "name": "stderr",
     "output_type": "stream",
     "text": [
      "Trials:  82%|██████████████████████████████████████████████████████████▋             | 163/200 [00:41<00:12,  2.89it/s]"
     ]
    },
    {
     "name": "stdout",
     "output_type": "stream",
     "text": [
      "测试集数量: 13\n"
     ]
    },
    {
     "name": "stderr",
     "output_type": "stream",
     "text": [
      "Trials:  82%|███████████████████████████████████████████████████████████             | 164/200 [00:41<00:12,  2.92it/s]"
     ]
    },
    {
     "name": "stdout",
     "output_type": "stream",
     "text": [
      "测试集数量: 13\n"
     ]
    },
    {
     "name": "stderr",
     "output_type": "stream",
     "text": [
      "Trials:  82%|███████████████████████████████████████████████████████████▍            | 165/200 [00:42<00:11,  2.99it/s]"
     ]
    },
    {
     "name": "stdout",
     "output_type": "stream",
     "text": [
      "测试集数量: 13\n"
     ]
    },
    {
     "name": "stderr",
     "output_type": "stream",
     "text": [
      "Trials:  83%|███████████████████████████████████████████████████████████▊            | 166/200 [00:42<00:10,  3.40it/s]"
     ]
    },
    {
     "name": "stdout",
     "output_type": "stream",
     "text": [
      "测试集数量: 13\n"
     ]
    },
    {
     "name": "stderr",
     "output_type": "stream",
     "text": [
      "Trials:  84%|████████████████████████████████████████████████████████████            | 167/200 [00:42<00:09,  3.62it/s]"
     ]
    },
    {
     "name": "stdout",
     "output_type": "stream",
     "text": [
      "测试集数量: 13\n"
     ]
    },
    {
     "name": "stderr",
     "output_type": "stream",
     "text": [
      "Trials:  84%|████████████████████████████████████████████████████████████▍           | 168/200 [00:42<00:08,  3.87it/s]"
     ]
    },
    {
     "name": "stdout",
     "output_type": "stream",
     "text": [
      "测试集数量: 13\n"
     ]
    },
    {
     "name": "stderr",
     "output_type": "stream",
     "text": [
      "Trials:  84%|████████████████████████████████████████████████████████████▊           | 169/200 [00:43<00:07,  4.01it/s]"
     ]
    },
    {
     "name": "stdout",
     "output_type": "stream",
     "text": [
      "测试集数量: 13\n"
     ]
    },
    {
     "name": "stderr",
     "output_type": "stream",
     "text": [
      "Trials:  85%|█████████████████████████████████████████████████████████████▏          | 170/200 [00:43<00:06,  4.32it/s]"
     ]
    },
    {
     "name": "stdout",
     "output_type": "stream",
     "text": [
      "测试集数量: 13\n"
     ]
    },
    {
     "name": "stderr",
     "output_type": "stream",
     "text": [
      "Trials:  86%|█████████████████████████████████████████████████████████████▌          | 171/200 [00:43<00:06,  4.36it/s]"
     ]
    },
    {
     "name": "stdout",
     "output_type": "stream",
     "text": [
      "测试集数量: 13\n"
     ]
    },
    {
     "name": "stderr",
     "output_type": "stream",
     "text": [
      "Trials:  86%|█████████████████████████████████████████████████████████████▉          | 172/200 [00:43<00:06,  4.10it/s]"
     ]
    },
    {
     "name": "stdout",
     "output_type": "stream",
     "text": [
      "测试集数量: 13\n"
     ]
    },
    {
     "name": "stderr",
     "output_type": "stream",
     "text": [
      "Trials:  86%|██████████████████████████████████████████████████████████████▎         | 173/200 [00:44<00:07,  3.50it/s]"
     ]
    },
    {
     "name": "stdout",
     "output_type": "stream",
     "text": [
      "测试集数量: 13\n"
     ]
    },
    {
     "name": "stderr",
     "output_type": "stream",
     "text": [
      "Trials:  87%|██████████████████████████████████████████████████████████████▋         | 174/200 [00:44<00:07,  3.40it/s]"
     ]
    },
    {
     "name": "stdout",
     "output_type": "stream",
     "text": [
      "测试集数量: 13\n"
     ]
    },
    {
     "name": "stderr",
     "output_type": "stream",
     "text": [
      "Trials:  88%|███████████████████████████████████████████████████████████████         | 175/200 [00:44<00:07,  3.22it/s]"
     ]
    },
    {
     "name": "stdout",
     "output_type": "stream",
     "text": [
      "测试集数量: 13\n"
     ]
    },
    {
     "name": "stderr",
     "output_type": "stream",
     "text": [
      "Trials:  88%|███████████████████████████████████████████████████████████████▎        | 176/200 [00:45<00:07,  3.15it/s]"
     ]
    },
    {
     "name": "stdout",
     "output_type": "stream",
     "text": [
      "测试集数量: 13\n",
      "测试集数量: 13\n"
     ]
    },
    {
     "name": "stderr",
     "output_type": "stream",
     "text": [
      "Trials:  89%|████████████████████████████████████████████████████████████████        | 178/200 [00:45<00:06,  3.27it/s]"
     ]
    },
    {
     "name": "stdout",
     "output_type": "stream",
     "text": [
      "测试集数量: 13\n"
     ]
    },
    {
     "name": "stderr",
     "output_type": "stream",
     "text": [
      "Trials:  90%|████████████████████████████████████████████████████████████████▍       | 179/200 [00:46<00:05,  3.59it/s]"
     ]
    },
    {
     "name": "stdout",
     "output_type": "stream",
     "text": [
      "测试集数量: 13\n"
     ]
    },
    {
     "name": "stderr",
     "output_type": "stream",
     "text": [
      "Trials:  90%|████████████████████████████████████████████████████████████████▊       | 180/200 [00:46<00:05,  3.75it/s]"
     ]
    },
    {
     "name": "stdout",
     "output_type": "stream",
     "text": [
      "测试集数量: 13\n"
     ]
    },
    {
     "name": "stderr",
     "output_type": "stream",
     "text": [
      "Trials:  90%|█████████████████████████████████████████████████████████████████▏      | 181/200 [00:46<00:04,  3.83it/s]"
     ]
    },
    {
     "name": "stdout",
     "output_type": "stream",
     "text": [
      "测试集数量: 13\n"
     ]
    },
    {
     "name": "stderr",
     "output_type": "stream",
     "text": [
      "Trials:  91%|█████████████████████████████████████████████████████████████████▌      | 182/200 [00:46<00:04,  3.97it/s]"
     ]
    },
    {
     "name": "stdout",
     "output_type": "stream",
     "text": [
      "测试集数量: 13\n"
     ]
    },
    {
     "name": "stderr",
     "output_type": "stream",
     "text": [
      "Trials:  92%|█████████████████████████████████████████████████████████████████▉      | 183/200 [00:46<00:04,  4.23it/s]"
     ]
    },
    {
     "name": "stdout",
     "output_type": "stream",
     "text": [
      "测试集数量: 13\n",
      "测试集数量: 13\n"
     ]
    },
    {
     "name": "stderr",
     "output_type": "stream",
     "text": [
      "Trials:  92%|██████████████████████████████████████████████████████████████████▌     | 185/200 [00:47<00:03,  4.50it/s]"
     ]
    },
    {
     "name": "stdout",
     "output_type": "stream",
     "text": [
      "测试集数量: 13\n"
     ]
    },
    {
     "name": "stderr",
     "output_type": "stream",
     "text": [
      "Trials:  93%|██████████████████████████████████████████████████████████████████▉     | 186/200 [00:47<00:03,  4.55it/s]"
     ]
    },
    {
     "name": "stdout",
     "output_type": "stream",
     "text": [
      "测试集数量: 13\n",
      "测试集数量:"
     ]
    },
    {
     "name": "stderr",
     "output_type": "stream",
     "text": [
      "Trials:  94%|███████████████████████████████████████████████████████████████████▎    | 187/200 [00:47<00:02,  4.67it/s]"
     ]
    },
    {
     "name": "stdout",
     "output_type": "stream",
     "text": [
      " 13\n"
     ]
    },
    {
     "name": "stderr",
     "output_type": "stream",
     "text": [
      "Trials:  94%|███████████████████████████████████████████████████████████████████▋    | 188/200 [00:47<00:02,  4.76it/s]"
     ]
    },
    {
     "name": "stdout",
     "output_type": "stream",
     "text": [
      "测试集数量: 13\n"
     ]
    },
    {
     "name": "stderr",
     "output_type": "stream",
     "text": [
      "Trials:  94%|████████████████████████████████████████████████████████████████████    | 189/200 [00:48<00:02,  4.72it/s]"
     ]
    },
    {
     "name": "stdout",
     "output_type": "stream",
     "text": [
      "测试集数量: 13\n"
     ]
    },
    {
     "name": "stderr",
     "output_type": "stream",
     "text": [
      "Trials:  95%|████████████████████████████████████████████████████████████████████▍   | 190/200 [00:48<00:02,  4.58it/s]"
     ]
    },
    {
     "name": "stdout",
     "output_type": "stream",
     "text": [
      "测试集数量: 13\n"
     ]
    },
    {
     "name": "stderr",
     "output_type": "stream",
     "text": [
      "Trials:  96%|████████████████████████████████████████████████████████████████████▊   | 191/200 [00:48<00:02,  4.49it/s]"
     ]
    },
    {
     "name": "stdout",
     "output_type": "stream",
     "text": [
      "测试集数量: 13\n"
     ]
    },
    {
     "name": "stderr",
     "output_type": "stream",
     "text": [
      "Trials:  96%|█████████████████████████████████████████████████████████████████████   | 192/200 [00:48<00:01,  4.41it/s]"
     ]
    },
    {
     "name": "stdout",
     "output_type": "stream",
     "text": [
      "测试集数量: 13\n"
     ]
    },
    {
     "name": "stderr",
     "output_type": "stream",
     "text": [
      "Trials:  96%|█████████████████████████████████████████████████████████████████████▍  | 193/200 [00:49<00:01,  4.40it/s]"
     ]
    },
    {
     "name": "stdout",
     "output_type": "stream",
     "text": [
      "测试集数量: 13\n"
     ]
    },
    {
     "name": "stderr",
     "output_type": "stream",
     "text": [
      "Trials:  97%|█████████████████████████████████████████████████████████████████████▊  | 194/200 [00:49<00:01,  4.57it/s]"
     ]
    },
    {
     "name": "stdout",
     "output_type": "stream",
     "text": [
      "测试集数量: 13\n",
      "测试集数量:"
     ]
    },
    {
     "name": "stderr",
     "output_type": "stream",
     "text": [
      "Trials:  98%|██████████████████████████████████████████████████████████████████████▏ | 195/200 [00:49<00:01,  4.66it/s]"
     ]
    },
    {
     "name": "stdout",
     "output_type": "stream",
     "text": [
      " 13\n",
      "测试集数量:"
     ]
    },
    {
     "name": "stderr",
     "output_type": "stream",
     "text": [
      "Trials:  98%|██████████████████████████████████████████████████████████████████████▌ | 196/200 [00:49<00:00,  4.74it/s]"
     ]
    },
    {
     "name": "stdout",
     "output_type": "stream",
     "text": [
      " 13\n",
      "测试集数量: 13\n"
     ]
    },
    {
     "name": "stderr",
     "output_type": "stream",
     "text": [
      "Trials:  99%|███████████████████████████████████████████████████████████████████████▎| 198/200 [00:50<00:00,  4.78it/s]"
     ]
    },
    {
     "name": "stdout",
     "output_type": "stream",
     "text": [
      "测试集数量: 13\n"
     ]
    },
    {
     "name": "stderr",
     "output_type": "stream",
     "text": [
      "Trials: 100%|███████████████████████████████████████████████████████████████████████▋| 199/200 [00:50<00:00,  4.94it/s]"
     ]
    },
    {
     "name": "stdout",
     "output_type": "stream",
     "text": [
      "测试集数量: 13\n"
     ]
    },
    {
     "name": "stderr",
     "output_type": "stream",
     "text": [
      "Trials: 100%|████████████████████████████████████████████████████████████████████████| 200/200 [00:50<00:00,  3.96it/s]"
     ]
    },
    {
     "name": "stdout",
     "output_type": "stream",
     "text": [
      "测试集数量: 13\n",
      "Test group sizes for each trial:\n",
      "Iteration 1: [1, 2, 2, 1, 2, 1, 2, 1, 1]\n",
      "Iteration 2: [1, 2, 1, 2, 2, 1, 2, 1, 1]\n",
      "Iteration 3: [2, 2, 1, 1, 2, 1, 2, 1, 1]\n",
      "Iteration 4: [2, 2, 1, 2, 2, 1, 1, 1, 1]\n",
      "Iteration 5: [1, 1, 2, 2, 2, 1, 2, 1, 1]\n",
      "Iteration 6: [2, 2, 2, 1, 1, 1, 2, 1, 1]\n",
      "Iteration 7: [1, 2, 2, 2, 2, 1, 1, 1, 1]\n",
      "Iteration 8: [1, 1, 2, 2, 2, 1, 2, 1, 1]\n",
      "Iteration 9: [2, 1, 2, 1, 2, 1, 2, 1, 1]\n",
      "Iteration 10: [2, 2, 2, 1, 1, 1, 2, 1, 1]\n",
      "Iteration 11: [1, 2, 2, 2, 1, 1, 2, 1, 1]\n",
      "Iteration 12: [2, 1, 2, 1, 2, 1, 2, 1, 1]\n",
      "Iteration 13: [1, 2, 2, 1, 2, 1, 2, 1, 1]\n",
      "Iteration 14: [2, 2, 1, 2, 1, 1, 2, 1, 1]\n",
      "Iteration 15: [2, 2, 1, 1, 2, 1, 2, 1, 1]\n",
      "Iteration 16: [2, 1, 2, 2, 2, 1, 1, 1, 1]\n",
      "Iteration 17: [1, 2, 1, 2, 2, 1, 2, 1, 1]\n",
      "Iteration 18: [2, 2, 2, 1, 2, 1, 1, 1, 1]\n",
      "Iteration 19: [2, 1, 2, 2, 1, 1, 2, 1, 1]\n",
      "Iteration 20: [2, 2, 1, 2, 2, 1, 1, 1, 1]\n",
      "Iteration 21: [2, 1, 2, 2, 2, 1, 1, 1, 1]\n",
      "Iteration 22: [2, 1, 2, 1, 2, 1, 2, 1, 1]\n",
      "Iteration 23: [1, 2, 1, 2, 2, 1, 2, 1, 1]\n",
      "Iteration 24: [2, 2, 2, 2, 1, 1, 1, 1, 1]\n",
      "Iteration 25: [2, 2, 2, 1, 2, 1, 1, 1, 1]\n",
      "Iteration 26: [2, 2, 2, 1, 2, 1, 1, 1, 1]\n",
      "Iteration 27: [2, 1, 2, 2, 1, 1, 2, 1, 1]\n",
      "Iteration 28: [2, 2, 2, 2, 1, 1, 1, 1, 1]\n",
      "Iteration 29: [2, 2, 2, 2, 1, 1, 1, 1, 1]\n",
      "Iteration 30: [2, 1, 1, 2, 2, 1, 2, 1, 1]\n",
      "Iteration 31: [2, 2, 2, 1, 2, 1, 1, 1, 1]\n",
      "Iteration 32: [2, 1, 2, 2, 2, 1, 1, 1, 1]\n",
      "Iteration 33: [1, 2, 2, 1, 2, 1, 2, 1, 1]\n",
      "Iteration 34: [1, 2, 1, 2, 2, 1, 2, 1, 1]\n",
      "Iteration 35: [2, 1, 2, 2, 2, 1, 1, 1, 1]\n",
      "Iteration 36: [2, 2, 1, 1, 2, 1, 2, 1, 1]\n",
      "Iteration 37: [2, 2, 2, 2, 1, 1, 1, 1, 1]\n",
      "Iteration 38: [2, 1, 1, 2, 2, 1, 2, 1, 1]\n",
      "Iteration 39: [1, 2, 2, 2, 1, 1, 2, 1, 1]\n",
      "Iteration 40: [2, 1, 2, 1, 2, 1, 2, 1, 1]\n",
      "Iteration 41: [2, 1, 2, 2, 1, 1, 2, 1, 1]\n",
      "Iteration 42: [2, 2, 1, 2, 1, 1, 2, 1, 1]\n",
      "Iteration 43: [1, 2, 2, 2, 2, 1, 1, 1, 1]\n",
      "Iteration 44: [1, 1, 2, 2, 2, 1, 2, 1, 1]\n",
      "Iteration 45: [1, 1, 2, 2, 2, 1, 2, 1, 1]\n",
      "Iteration 46: [2, 1, 1, 2, 2, 1, 2, 1, 1]\n",
      "Iteration 47: [2, 2, 2, 1, 1, 1, 2, 1, 1]\n",
      "Iteration 48: [2, 1, 2, 2, 1, 1, 2, 1, 1]\n",
      "Iteration 49: [1, 2, 2, 2, 2, 1, 1, 1, 1]\n",
      "Iteration 50: [1, 2, 2, 2, 1, 1, 2, 1, 1]\n",
      "Iteration 51: [2, 2, 2, 2, 1, 1, 1, 1, 1]\n",
      "Iteration 52: [2, 2, 1, 2, 1, 1, 2, 1, 1]\n",
      "Iteration 53: [1, 2, 1, 2, 2, 1, 2, 1, 1]\n",
      "Iteration 54: [2, 2, 1, 1, 2, 1, 2, 1, 1]\n",
      "Iteration 55: [2, 2, 1, 2, 1, 1, 2, 1, 1]\n",
      "Iteration 56: [1, 2, 2, 1, 2, 1, 2, 1, 1]\n",
      "Iteration 57: [2, 1, 1, 2, 2, 1, 2, 1, 1]\n",
      "Iteration 58: [2, 2, 2, 2, 1, 1, 1, 1, 1]\n",
      "Iteration 59: [2, 2, 2, 1, 1, 1, 2, 1, 1]\n",
      "Iteration 60: [2, 2, 1, 2, 2, 1, 1, 1, 1]\n",
      "Iteration 61: [2, 2, 2, 2, 1, 1, 1, 1, 1]\n",
      "Iteration 62: [1, 2, 2, 2, 1, 1, 2, 1, 1]\n",
      "Iteration 63: [2, 1, 2, 1, 2, 1, 2, 1, 1]\n",
      "Iteration 64: [2, 2, 2, 1, 1, 1, 2, 1, 1]\n",
      "Iteration 65: [2, 2, 2, 1, 2, 1, 1, 1, 1]\n",
      "Iteration 66: [2, 2, 1, 1, 2, 1, 2, 1, 1]\n",
      "Iteration 67: [2, 2, 1, 1, 2, 1, 2, 1, 1]\n",
      "Iteration 68: [2, 2, 2, 1, 1, 1, 2, 1, 1]\n",
      "Iteration 69: [2, 2, 2, 1, 1, 1, 2, 1, 1]\n",
      "Iteration 70: [2, 2, 2, 1, 1, 1, 2, 1, 1]\n",
      "Iteration 71: [2, 2, 2, 1, 2, 1, 1, 1, 1]\n",
      "Iteration 72: [1, 2, 1, 2, 2, 1, 2, 1, 1]\n",
      "Iteration 73: [2, 1, 2, 2, 2, 1, 1, 1, 1]\n",
      "Iteration 74: [1, 2, 2, 2, 1, 1, 2, 1, 1]\n",
      "Iteration 75: [1, 2, 2, 1, 2, 1, 2, 1, 1]\n",
      "Iteration 76: [2, 2, 1, 2, 2, 1, 1, 1, 1]\n",
      "Iteration 77: [2, 2, 1, 2, 1, 1, 2, 1, 1]\n",
      "Iteration 78: [2, 2, 2, 2, 1, 1, 1, 1, 1]\n",
      "Iteration 79: [2, 1, 2, 2, 2, 1, 1, 1, 1]\n",
      "Iteration 80: [2, 2, 1, 2, 2, 1, 1, 1, 1]\n",
      "Iteration 81: [2, 2, 2, 2, 1, 1, 1, 1, 1]\n",
      "Iteration 82: [2, 2, 1, 1, 2, 1, 2, 1, 1]\n",
      "Iteration 83: [2, 2, 1, 2, 2, 1, 1, 1, 1]\n",
      "Iteration 84: [2, 2, 1, 2, 1, 1, 2, 1, 1]\n",
      "Iteration 85: [1, 1, 2, 2, 2, 1, 2, 1, 1]\n",
      "Iteration 86: [2, 2, 2, 2, 1, 1, 1, 1, 1]\n",
      "Iteration 87: [1, 2, 2, 2, 1, 1, 2, 1, 1]\n",
      "Iteration 88: [2, 2, 1, 2, 1, 1, 2, 1, 1]\n",
      "Iteration 89: [2, 2, 1, 1, 2, 1, 2, 1, 1]\n",
      "Iteration 90: [2, 1, 1, 2, 2, 1, 2, 1, 1]\n",
      "Iteration 91: [2, 2, 1, 2, 1, 1, 2, 1, 1]\n",
      "Iteration 92: [2, 1, 2, 2, 1, 1, 2, 1, 1]\n",
      "Iteration 93: [2, 1, 2, 1, 2, 1, 2, 1, 1]\n",
      "Iteration 94: [2, 1, 2, 2, 1, 1, 2, 1, 1]\n",
      "Iteration 95: [2, 2, 1, 2, 2, 1, 1, 1, 1]\n",
      "Iteration 96: [2, 2, 1, 2, 2, 1, 1, 1, 1]\n",
      "Iteration 97: [1, 2, 1, 2, 2, 1, 2, 1, 1]\n",
      "Iteration 98: [1, 2, 2, 2, 2, 1, 1, 1, 1]\n",
      "Iteration 99: [1, 1, 2, 2, 2, 1, 2, 1, 1]\n",
      "Iteration 100: [1, 2, 1, 2, 2, 1, 2, 1, 1]\n",
      "Iteration 101: [1, 1, 2, 2, 2, 1, 2, 1, 1]\n",
      "Iteration 102: [1, 2, 2, 2, 1, 1, 2, 1, 1]\n",
      "Iteration 103: [2, 2, 2, 1, 2, 1, 1, 1, 1]\n",
      "Iteration 104: [2, 2, 2, 2, 1, 1, 1, 1, 1]\n",
      "Iteration 105: [2, 2, 2, 2, 1, 1, 1, 1, 1]\n",
      "Iteration 106: [2, 1, 1, 2, 2, 1, 2, 1, 1]\n",
      "Iteration 107: [2, 2, 2, 1, 1, 1, 2, 1, 1]\n",
      "Iteration 108: [2, 2, 1, 1, 2, 1, 2, 1, 1]\n",
      "Iteration 109: [2, 2, 1, 2, 1, 1, 2, 1, 1]\n",
      "Iteration 110: [1, 2, 2, 2, 1, 1, 2, 1, 1]\n",
      "Iteration 111: [2, 2, 1, 2, 2, 1, 1, 1, 1]\n",
      "Iteration 112: [1, 2, 1, 2, 2, 1, 2, 1, 1]\n",
      "Iteration 113: [2, 2, 1, 2, 2, 1, 1, 1, 1]\n",
      "Iteration 114: [2, 2, 2, 1, 1, 1, 2, 1, 1]\n",
      "Iteration 115: [2, 2, 2, 1, 1, 1, 2, 1, 1]\n",
      "Iteration 116: [2, 2, 2, 1, 2, 1, 1, 1, 1]\n",
      "Iteration 117: [2, 1, 2, 1, 2, 1, 2, 1, 1]\n",
      "Iteration 118: [2, 2, 1, 1, 2, 1, 2, 1, 1]\n",
      "Iteration 119: [2, 2, 2, 1, 1, 1, 2, 1, 1]\n",
      "Iteration 120: [2, 2, 2, 1, 2, 1, 1, 1, 1]\n",
      "Iteration 121: [2, 1, 2, 2, 1, 1, 2, 1, 1]\n",
      "Iteration 122: [2, 1, 2, 1, 2, 1, 2, 1, 1]\n",
      "Iteration 123: [2, 2, 1, 2, 2, 1, 1, 1, 1]\n",
      "Iteration 124: [2, 2, 2, 1, 2, 1, 1, 1, 1]\n",
      "Iteration 125: [2, 2, 1, 1, 2, 1, 2, 1, 1]\n",
      "Iteration 126: [2, 1, 2, 2, 2, 1, 1, 1, 1]\n",
      "Iteration 127: [2, 1, 1, 2, 2, 1, 2, 1, 1]\n",
      "Iteration 128: [1, 2, 2, 2, 1, 1, 2, 1, 1]\n",
      "Iteration 129: [1, 2, 2, 2, 1, 1, 2, 1, 1]\n",
      "Iteration 130: [1, 2, 2, 1, 2, 1, 2, 1, 1]\n",
      "Iteration 131: [1, 2, 2, 2, 1, 1, 2, 1, 1]\n",
      "Iteration 132: [2, 1, 1, 2, 2, 1, 2, 1, 1]\n",
      "Iteration 133: [2, 2, 1, 2, 1, 1, 2, 1, 1]\n",
      "Iteration 134: [1, 1, 2, 2, 2, 1, 2, 1, 1]\n",
      "Iteration 135: [1, 2, 2, 2, 2, 1, 1, 1, 1]\n",
      "Iteration 136: [2, 2, 1, 1, 2, 1, 2, 1, 1]\n",
      "Iteration 137: [2, 2, 2, 2, 1, 1, 1, 1, 1]\n",
      "Iteration 138: [2, 1, 1, 2, 2, 1, 2, 1, 1]\n",
      "Iteration 139: [2, 2, 1, 2, 2, 1, 1, 1, 1]\n",
      "Iteration 140: [2, 1, 2, 2, 2, 1, 1, 1, 1]\n",
      "Iteration 141: [1, 1, 2, 2, 2, 1, 2, 1, 1]\n",
      "Iteration 142: [2, 1, 2, 2, 2, 1, 1, 1, 1]\n",
      "Iteration 143: [2, 2, 2, 1, 2, 1, 1, 1, 1]\n",
      "Iteration 144: [2, 1, 2, 1, 2, 1, 2, 1, 1]\n",
      "Iteration 145: [2, 1, 2, 2, 2, 1, 1, 1, 1]\n",
      "Iteration 146: [1, 2, 1, 2, 2, 1, 2, 1, 1]\n",
      "Iteration 147: [2, 2, 1, 2, 2, 1, 1, 1, 1]\n",
      "Iteration 148: [2, 1, 1, 2, 2, 1, 2, 1, 1]\n",
      "Iteration 149: [2, 1, 2, 1, 2, 1, 2, 1, 1]\n",
      "Iteration 150: [2, 2, 1, 2, 2, 1, 1, 1, 1]\n",
      "Iteration 151: [2, 2, 1, 1, 2, 1, 2, 1, 1]\n",
      "Iteration 152: [2, 1, 1, 2, 2, 1, 2, 1, 1]\n",
      "Iteration 153: [2, 2, 2, 1, 1, 1, 2, 1, 1]\n",
      "Iteration 154: [2, 1, 2, 2, 1, 1, 2, 1, 1]\n",
      "Iteration 155: [2, 2, 1, 2, 1, 1, 2, 1, 1]\n",
      "Iteration 156: [2, 2, 2, 1, 1, 1, 2, 1, 1]\n",
      "Iteration 157: [1, 2, 2, 2, 2, 1, 1, 1, 1]\n",
      "Iteration 158: [2, 1, 1, 2, 2, 1, 2, 1, 1]\n",
      "Iteration 159: [1, 2, 2, 2, 1, 1, 2, 1, 1]\n",
      "Iteration 160: [1, 2, 2, 2, 2, 1, 1, 1, 1]\n",
      "Iteration 161: [2, 2, 1, 2, 2, 1, 1, 1, 1]\n",
      "Iteration 162: [2, 1, 2, 2, 2, 1, 1, 1, 1]\n",
      "Iteration 163: [2, 2, 2, 2, 1, 1, 1, 1, 1]\n",
      "Iteration 164: [2, 2, 1, 2, 1, 1, 2, 1, 1]\n",
      "Iteration 165: [1, 2, 2, 2, 1, 1, 2, 1, 1]\n",
      "Iteration 166: [1, 1, 2, 2, 2, 1, 2, 1, 1]\n",
      "Iteration 167: [2, 2, 2, 1, 1, 1, 2, 1, 1]\n",
      "Iteration 168: [2, 1, 1, 2, 2, 1, 2, 1, 1]\n",
      "Iteration 169: [2, 2, 2, 1, 2, 1, 1, 1, 1]\n",
      "Iteration 170: [1, 2, 2, 1, 2, 1, 2, 1, 1]\n",
      "Iteration 171: [2, 2, 2, 2, 1, 1, 1, 1, 1]\n",
      "Iteration 172: [1, 2, 2, 1, 2, 1, 2, 1, 1]\n",
      "Iteration 173: [1, 1, 2, 2, 2, 1, 2, 1, 1]\n",
      "Iteration 174: [1, 2, 2, 1, 2, 1, 2, 1, 1]\n",
      "Iteration 175: [1, 2, 1, 2, 2, 1, 2, 1, 1]\n",
      "Iteration 176: [1, 1, 2, 2, 2, 1, 2, 1, 1]\n",
      "Iteration 177: [2, 1, 2, 2, 1, 1, 2, 1, 1]\n",
      "Iteration 178: [2, 2, 2, 2, 1, 1, 1, 1, 1]\n",
      "Iteration 179: [2, 2, 2, 1, 2, 1, 1, 1, 1]\n",
      "Iteration 180: [2, 2, 1, 1, 2, 1, 2, 1, 1]\n",
      "Iteration 181: [2, 2, 2, 1, 1, 1, 2, 1, 1]\n",
      "Iteration 182: [2, 2, 1, 2, 2, 1, 1, 1, 1]\n",
      "Iteration 183: [1, 1, 2, 2, 2, 1, 2, 1, 1]\n",
      "Iteration 184: [2, 2, 2, 1, 2, 1, 1, 1, 1]\n",
      "Iteration 185: [1, 1, 2, 2, 2, 1, 2, 1, 1]\n",
      "Iteration 186: [2, 2, 1, 1, 2, 1, 2, 1, 1]\n",
      "Iteration 187: [2, 2, 1, 2, 2, 1, 1, 1, 1]\n",
      "Iteration 188: [2, 2, 1, 1, 2, 1, 2, 1, 1]\n",
      "Iteration 189: [2, 2, 2, 2, 1, 1, 1, 1, 1]\n",
      "Iteration 190: [2, 1, 2, 2, 1, 1, 2, 1, 1]\n",
      "Iteration 191: [2, 2, 2, 1, 2, 1, 1, 1, 1]\n",
      "Iteration 192: [2, 2, 1, 2, 2, 1, 1, 1, 1]\n",
      "Iteration 193: [2, 2, 1, 1, 2, 1, 2, 1, 1]\n",
      "Iteration 194: [1, 1, 2, 2, 2, 1, 2, 1, 1]\n",
      "Iteration 195: [2, 1, 2, 1, 2, 1, 2, 1, 1]\n",
      "Iteration 196: [2, 1, 2, 2, 1, 1, 2, 1, 1]\n",
      "Iteration 197: [2, 2, 2, 2, 1, 1, 1, 1, 1]\n",
      "Iteration 198: [2, 2, 2, 1, 1, 1, 2, 1, 1]\n",
      "Iteration 199: [1, 2, 1, 2, 2, 1, 2, 1, 1]\n",
      "Iteration 200: [1, 1, 2, 2, 2, 1, 2, 1, 1]\n",
      "     Metric      Mean       Std\n",
      "0      RMSE  1.184654  0.415698\n",
      "1       MAE  0.829758  0.247697\n",
      "2  Spearman  0.754909  0.195734\n",
      "3        R2  0.568126  0.288733\n"
     ]
    },
    {
     "name": "stderr",
     "output_type": "stream",
     "text": [
      "\n"
     ]
    },
    {
     "data": {
      "image/png": "[encoded data removed]",
      "text/plain": [
       "<Figure size 600x550 with 1 Axes>"
      ]
     },
     "metadata": {
      "image/png": {
       "height": 540,
       "width": 590
      }
     },
     "output_type": "display_data"
    },
    {
     "name": "stdout",
     "output_type": "stream",
     "text": [
      "RMSE Train: 0.36\n",
      "RMSE Test: 0.49\n",
      "^^^^^^^^^^^^^^^^^^^^\n",
      "MAE Train: 0.29\n",
      "MAE Test: 0.38\n",
      "^^^^^^^^^^^^^^^^^^^^\n",
      "R2 Train: 0.97\n",
      "R2 Test: 0.95\n",
      "^^^^^^^^^^^^^^^^^^^^\n",
      "Spearman Train: 0.99\n",
      "Spearman Test: 0.98\n",
      "^^^^^^^^^^^^^^^^^^^^\n"
     ]
    },
    {
     "data": {
      "text/plain": [
       "['Model_GB_ZD.pkl']"
      ]
     },
     "execution_count": 16,
     "metadata": {},
     "output_type": "execute_result"
    }
   ],
   "source": [
    "###GB\n",
    "from sklearn.ensemble import GradientBoostingRegressor\n",
    "\n",
    "# Initialize an empty DataFrame to store metrics\n",
    "metrics_df = pd.DataFrame(columns=['RMSE', 'MAE', 'Spearman', 'R2'])\n",
    "\n",
    "# Store the indices of the training and testing sets for the best model\n",
    "best_train_idx = None\n",
    "best_test_idx = None\n",
    "best_rmse = float('inf')\n",
    "rmse_scores = []\n",
    "mae_scores = []\n",
    "spearman_scores = []\n",
    "r2_scores = []\n",
    "\n",
    "# Store the number of molecules in each scaffold_group for the test set in each round\n",
    "test_group_sizes = []\n",
    "\n",
    "# Repeat the testing 200 times\n",
    "num_trials = 200\n",
    "\n",
    "for _ in tqdm(range(num_trials), desc=\"Trials\"):\n",
    "    # Split the dataset into training and testing sets\n",
    "    train_data = pd.DataFrame(columns=['smiles', 'target_PCE', 'scaffold_group'])\n",
    "    test_data = pd.DataFrame(columns=['smiles', 'target_PCE', 'scaffold_group'])\n",
    "    \n",
    "    # Select one sample from each scaffold_group for the test set\n",
    "    for group_idx in range(len(scaffold_groups)):\n",
    "        group_df = data[data['scaffold_group'] == group_idx]\n",
    "        test_df = group_df.sample(n=1)\n",
    "        train_df = group_df.drop(test_df.index)\n",
    "\n",
    "        train_data = pd.concat([train_data, train_df], ignore_index=False)\n",
    "        test_data = pd.concat([test_data, test_df], ignore_index=False)\n",
    "\n",
    "    # Ensure the total test set size is 13\n",
    "    total_test_size = 13\n",
    "    test_size_per_group = total_test_size - len(scaffold_groups)\n",
    "    remaining_scaffold_groups = [group_idx for group_idx in range(len(scaffold_groups)) if len(data[data['scaffold_group'] == group_idx]) > 3]\n",
    "\n",
    "    for _ in range(test_size_per_group):\n",
    "        # Randomly select a scaffold_group\n",
    "        random_group_idx = random.choice(remaining_scaffold_groups)\n",
    "        group_df = data[data['scaffold_group'] == random_group_idx]\n",
    "        num_samples = len(group_df)\n",
    "        test_size = min(1, num_samples)  # Ensure at least one molecule is selected for the test set\n",
    "        test_df = group_df.sample(n=test_size)\n",
    "        train_df = group_df.drop(test_df.index)\n",
    "\n",
    "        train_data = pd.concat([train_data, train_df], ignore_index=False)\n",
    "        test_data = pd.concat([test_data, test_df], ignore_index=False)\n",
    "        \n",
    "        test_size_per_group -= test_size\n",
    "        remaining_scaffold_groups.remove(random_group_idx)\n",
    "        \n",
    "        # Exit the loop if the required number of test samples has been reached\n",
    "        if test_size_per_group <= 0:\n",
    "            break\n",
    "\n",
    "    # Record the number of molecules from each scaffold_group in the test set for each round\n",
    "    test_group_sizes.append(test_data.groupby('scaffold_group').size().tolist())\n",
    "\n",
    "    X_scaler = MinMaxScaler()\n",
    "    X_scaler.fit(zd)\n",
    "    zd = X_scaler.transform(zd)\n",
    "\n",
    "    X_train = zd[train_data.index]\n",
    "    y_train = np.transpose([train_data['target_PCE'].values])\n",
    "    X_test = zd[test_data.index]\n",
    "    y_test = np.transpose([test_data['target_PCE'].values])\n",
    "    print(\"Test set size:\", len(y_test))\n",
    "\n",
    "    # Fit to the training set\n",
    "    gb_regressor = GradientBoostingRegressor(n_estimators=35, max_depth=4)\n",
    "    gb_regressor.fit(X_train, y_train)\n",
    "\n",
    "    # Perform predictions on both the training and test sets\n",
    "    y_train_pred = gb_regressor.predict(X_train)\n",
    "    y_test_pred = gb_regressor.predict(X_test)\n",
    "\n",
    "    # Calculate RMSE, MAE, Spearman correlation, and R2 score for the current test\n",
    "    rmse = np.sqrt(mean_squared_error(y_test, y_test_pred))\n",
    "    mae = mean_absolute_error(y_test, y_test_pred)\n",
    "    spearman_corr, _ = spearmanr(y_test.flatten(), y_test_pred.flatten())\n",
    "    r2 = r2_score(y_test, y_test_pred)\n",
    "    \n",
    "    # Store the metrics for each trial\n",
    "    rmse_scores.append(rmse)\n",
    "    mae_scores.append(mae)\n",
    "    spearman_scores.append(spearman_corr)\n",
    "    r2_scores.append(r2)\n",
    "\n",
    "    # Record the metrics in the DataFrame\n",
    "    metrics_df = metrics_df.append({'RMSE': rmse, 'MAE': mae, 'Spearman': spearman_corr, 'R2': r2}, ignore_index=True)\n",
    "\n",
    "    # If the current model has a better RMSE, update the best model's predictions and true values\n",
    "    if rmse < best_rmse:\n",
    "        best_rmse = rmse\n",
    "        best_model_predictions = y_test_pred\n",
    "        best_model_true_values = y_test\n",
    "        best_train_idx = train_data.index.tolist()\n",
    "        best_test_idx = test_data.index.tolist()\n",
    "        \n",
    "# Calculate mean and standard deviation\n",
    "mean_rmse = np.mean(rmse_scores)\n",
    "std_rmse = np.std(rmse_scores)\n",
    "mean_mae = np.mean(mae_scores)\n",
    "std_mae = np.std(mae_scores)\n",
    "mean_spearman = np.mean(spearman_scores)\n",
    "std_spearman = np.std(spearman_scores)\n",
    "mean_r2 = np.mean(r2_scores)\n",
    "std_r2 = np.std(r2_scores)\n",
    "\n",
    "# Save the mean and standard deviation to a DataFrame\n",
    "summary_df = pd.DataFrame({\n",
    "    'Metric': ['RMSE', 'MAE', 'Spearman', 'R2'],\n",
    "    'Mean': [mean_rmse, mean_mae, mean_spearman, mean_r2],\n",
    "    'Std': [std_rmse, std_mae, std_spearman, std_r2]})\n",
    "\n",
    "# Save the metrics to a CSV file\n",
    "metrics_df.to_csv('metrics_GB_ZD.csv', index=False)\n",
    "summary_df.to_csv('metrics_summary_GB_ZD.csv', index=False)\n",
    "\n",
    "# Print the number of molecules in each scaffold_group for every test set\n",
    "print(\"Test group sizes for each trial:\")\n",
    "for i, sizes in enumerate(test_group_sizes):\n",
    "    print(f\"Iteration {i+1}: {sizes}\")\n",
    "    \n",
    "# Print the summary of mean and standard deviation\n",
    "print(summary_df)\n",
    "\n",
    "# Plot the predicted vs ground truth values for the best model\n",
    "prediction_vs_ground_truth_fig(y_train, y_train_pred, best_model_true_values, best_model_predictions)\n",
    "\n",
    "# Save the indices of the best model's training and testing sets to a CSV file\n",
    "best_model_indices_df = pd.DataFrame({'train_idx': pd.Series(best_train_idx), 'test_idx': pd.Series(best_test_idx)})\n",
    "best_model_indices_df.to_csv('Indices_GB_ZD.csv', index=False)\n",
    "\n",
    "# Save the best model\n",
    "gb_regressor = GradientBoostingRegressor(n_estimators=35, max_depth=4)\n",
    "gb_regressor.fit(zd[best_train_idx], data['target_PCE'][best_train_idx])\n",
    "joblib.dump(gb_regressor, 'Model_GB_ZD.pkl')"
   ]
  },
  {
   "cell_type": "code",
   "execution_count": 7,
   "id": "fe067f78",
   "metadata": {
    "scrolled": true
   },
   "outputs": [
    {
     "name": "stderr",
     "output_type": "stream",
     "text": [
      "Trials:   2%|█                                                                         | 3/200 [00:00<00:18, 10.94it/s]"
     ]
    },
    {
     "name": "stdout",
     "output_type": "stream",
     "text": [
      "测试集数量: 13\n",
      "测试集数量: 13\n",
      "测试集数量: 13\n"
     ]
    },
    {
     "name": "stderr",
     "output_type": "stream",
     "text": [
      "Trials:   2%|█▊                                                                        | 5/200 [00:00<00:17, 11.34it/s]"
     ]
    },
    {
     "name": "stdout",
     "output_type": "stream",
     "text": [
      "测试集数量: 13\n",
      "测试集数量: 13\n",
      "测试集数量: 13\n"
     ]
    },
    {
     "name": "stderr",
     "output_type": "stream",
     "text": [
      "Trials:   4%|██▌                                                                       | 7/200 [00:00<00:17, 11.29it/s]"
     ]
    },
    {
     "name": "stdout",
     "output_type": "stream",
     "text": [
      "测试集数量: 13\n",
      "测试集数量: 13\n"
     ]
    },
    {
     "name": "stderr",
     "output_type": "stream",
     "text": [
      "Trials:   5%|███▋                                                                     | 10/200 [00:01<00:22,  8.62it/s]"
     ]
    },
    {
     "name": "stdout",
     "output_type": "stream",
     "text": [
      "测试集数量: 13\n",
      "测试集数量: 13\n"
     ]
    },
    {
     "name": "stderr",
     "output_type": "stream",
     "text": [
      "Trials:   6%|████▍                                                                    | 12/200 [00:01<00:25,  7.50it/s]"
     ]
    },
    {
     "name": "stdout",
     "output_type": "stream",
     "text": [
      "测试集数量: 13\n",
      "测试集数量: 13\n"
     ]
    },
    {
     "name": "stderr",
     "output_type": "stream",
     "text": [
      "Trials:   7%|█████                                                                    | 14/200 [00:01<00:26,  7.07it/s]"
     ]
    },
    {
     "name": "stdout",
     "output_type": "stream",
     "text": [
      "测试集数量: 13\n",
      "测试集数量: 13\n"
     ]
    },
    {
     "name": "stderr",
     "output_type": "stream",
     "text": [
      "Trials:   8%|█████▍                                                                   | 15/200 [00:01<00:27,  6.75it/s]"
     ]
    },
    {
     "name": "stdout",
     "output_type": "stream",
     "text": [
      "测试集数量: 13\n",
      "测试集数量: 13\n"
     ]
    },
    {
     "name": "stderr",
     "output_type": "stream",
     "text": [
      "Trials:  10%|██████▉                                                                  | 19/200 [00:02<00:22,  8.10it/s]"
     ]
    },
    {
     "name": "stdout",
     "output_type": "stream",
     "text": [
      "测试集数量: 13\n",
      "测试集数量: 13\n",
      "测试集数量: 13\n"
     ]
    },
    {
     "name": "stderr",
     "output_type": "stream",
     "text": [
      "Trials:  10%|███████▋                                                                 | 21/200 [00:02<00:18,  9.45it/s]"
     ]
    },
    {
     "name": "stdout",
     "output_type": "stream",
     "text": [
      "测试集数量: 13\n",
      "测试集数量: 13\n",
      "测试集数量: 13\n"
     ]
    },
    {
     "name": "stderr",
     "output_type": "stream",
     "text": [
      "Trials:  12%|█████████▏                                                               | 25/200 [00:02<00:16, 10.84it/s]"
     ]
    },
    {
     "name": "stdout",
     "output_type": "stream",
     "text": [
      "测试集数量: 13\n",
      "测试集数量: 13\n",
      "测试集数量: 13\n"
     ]
    },
    {
     "name": "stderr",
     "output_type": "stream",
     "text": [
      "Trials:  14%|█████████▊                                                               | 27/200 [00:02<00:15, 11.27it/s]"
     ]
    },
    {
     "name": "stdout",
     "output_type": "stream",
     "text": [
      "测试集数量: 13\n",
      "测试集数量: 13\n",
      "测试集数量: 13\n"
     ]
    },
    {
     "name": "stderr",
     "output_type": "stream",
     "text": [
      "Trials:  16%|███████████▎                                                             | 31/200 [00:03<00:14, 11.90it/s]"
     ]
    },
    {
     "name": "stdout",
     "output_type": "stream",
     "text": [
      "测试集数量: 13\n",
      "测试集数量: 13\n",
      "测试集数量: 13\n"
     ]
    },
    {
     "name": "stderr",
     "output_type": "stream",
     "text": [
      "Trials:  16%|████████████                                                             | 33/200 [00:03<00:14, 11.90it/s]"
     ]
    },
    {
     "name": "stdout",
     "output_type": "stream",
     "text": [
      "测试集数量: 13\n",
      "测试集数量: 13\n",
      "测试集数量: 13\n"
     ]
    },
    {
     "name": "stderr",
     "output_type": "stream",
     "text": [
      "Trials:  18%|█████████████▌                                                           | 37/200 [00:03<00:13, 12.29it/s]"
     ]
    },
    {
     "name": "stdout",
     "output_type": "stream",
     "text": [
      "测试集数量: 13\n",
      "测试集数量: 13\n",
      "测试集数量: 13\n"
     ]
    },
    {
     "name": "stderr",
     "output_type": "stream",
     "text": [
      "Trials:  20%|██████████████▏                                                          | 39/200 [00:03<00:12, 12.55it/s]"
     ]
    },
    {
     "name": "stdout",
     "output_type": "stream",
     "text": [
      "测试集数量: 13\n",
      "测试集数量: 13\n",
      "测试集数量: 13\n"
     ]
    },
    {
     "name": "stderr",
     "output_type": "stream",
     "text": [
      "Trials:  22%|███████████████▋                                                         | 43/200 [00:04<00:12, 12.32it/s]"
     ]
    },
    {
     "name": "stdout",
     "output_type": "stream",
     "text": [
      "测试集数量: 13\n",
      "测试集数量: 13\n",
      "测试集数量: 13\n"
     ]
    },
    {
     "name": "stderr",
     "output_type": "stream",
     "text": [
      "Trials:  22%|████████████████▍                                                        | 45/200 [00:04<00:14, 10.82it/s]"
     ]
    },
    {
     "name": "stdout",
     "output_type": "stream",
     "text": [
      "测试集数量: 13\n",
      "测试集数量: 13\n"
     ]
    },
    {
     "name": "stderr",
     "output_type": "stream",
     "text": [
      "Trials:  24%|█████████████████▏                                                       | 47/200 [00:04<00:16,  9.37it/s]"
     ]
    },
    {
     "name": "stdout",
     "output_type": "stream",
     "text": [
      "测试集数量: 13\n",
      "测试集数量: 13\n"
     ]
    },
    {
     "name": "stderr",
     "output_type": "stream",
     "text": [
      "Trials:  25%|██████████████████▎                                                      | 50/200 [00:05<00:15,  9.83it/s]"
     ]
    },
    {
     "name": "stdout",
     "output_type": "stream",
     "text": [
      "测试集数量: 13\n",
      "测试集数量: 13\n",
      "测试集数量: 13\n"
     ]
    },
    {
     "name": "stderr",
     "output_type": "stream",
     "text": [
      "Trials:  26%|██████████████████▉                                                      | 52/200 [00:05<00:14, 10.45it/s]"
     ]
    },
    {
     "name": "stdout",
     "output_type": "stream",
     "text": [
      "测试集数量: 13\n",
      "测试集数量: 13\n",
      "测试集数量: 13\n"
     ]
    },
    {
     "name": "stderr",
     "output_type": "stream",
     "text": [
      "Trials:  28%|████████████████████▍                                                    | 56/200 [00:05<00:12, 11.40it/s]"
     ]
    },
    {
     "name": "stdout",
     "output_type": "stream",
     "text": [
      "测试集数量: 13\n",
      "测试集数量: 13\n",
      "测试集数量: 13\n"
     ]
    },
    {
     "name": "stderr",
     "output_type": "stream",
     "text": [
      "Trials:  29%|█████████████████████▏                                                   | 58/200 [00:05<00:12, 11.61it/s]"
     ]
    },
    {
     "name": "stdout",
     "output_type": "stream",
     "text": [
      "测试集数量: 13\n",
      "测试集数量: 13\n",
      "测试集数量: 13\n"
     ]
    },
    {
     "name": "stderr",
     "output_type": "stream",
     "text": [
      "Trials:  30%|█████████████████████▉                                                   | 60/200 [00:05<00:11, 11.67it/s]"
     ]
    },
    {
     "name": "stdout",
     "output_type": "stream",
     "text": [
      "测试集数量: 13\n",
      "测试集数量: 13\n",
      "测试集数量: 13\n"
     ]
    },
    {
     "name": "stderr",
     "output_type": "stream",
     "text": [
      "Trials:  32%|███████████████████████▎                                                 | 64/200 [00:06<00:11, 11.80it/s]"
     ]
    },
    {
     "name": "stdout",
     "output_type": "stream",
     "text": [
      "测试集数量: 13\n",
      "测试集数量: 13\n",
      "测试集数量: 13\n"
     ]
    },
    {
     "name": "stderr",
     "output_type": "stream",
     "text": [
      "Trials:  34%|████████████████████████▊                                                | 68/200 [00:06<00:10, 12.10it/s]"
     ]
    },
    {
     "name": "stdout",
     "output_type": "stream",
     "text": [
      "测试集数量: 13\n",
      "测试集数量: 13\n",
      "测试集数量: 13\n"
     ]
    },
    {
     "name": "stderr",
     "output_type": "stream",
     "text": [
      "Trials:  35%|█████████████████████████▌                                               | 70/200 [00:06<00:10, 12.10it/s]"
     ]
    },
    {
     "name": "stdout",
     "output_type": "stream",
     "text": [
      "测试集数量: 13\n",
      "测试集数量: 13\n",
      "测试集数量: 13\n"
     ]
    },
    {
     "name": "stderr",
     "output_type": "stream",
     "text": [
      "Trials:  37%|███████████████████████████                                              | 74/200 [00:07<00:10, 12.08it/s]"
     ]
    },
    {
     "name": "stdout",
     "output_type": "stream",
     "text": [
      "测试集数量: 13\n",
      "测试集数量: 13\n",
      "测试集数量: 13\n"
     ]
    },
    {
     "name": "stderr",
     "output_type": "stream",
     "text": [
      "Trials:  38%|███████████████████████████▋                                             | 76/200 [00:07<00:10, 12.09it/s]"
     ]
    },
    {
     "name": "stdout",
     "output_type": "stream",
     "text": [
      "测试集数量: 13\n",
      "测试集数量: 13\n",
      "测试集数量: 13\n"
     ]
    },
    {
     "name": "stderr",
     "output_type": "stream",
     "text": [
      "Trials:  40%|█████████████████████████████▏                                           | 80/200 [00:07<00:09, 12.16it/s]"
     ]
    },
    {
     "name": "stdout",
     "output_type": "stream",
     "text": [
      "测试集数量: 13\n",
      "测试集数量: 13\n",
      "测试集数量: 13\n"
     ]
    },
    {
     "name": "stderr",
     "output_type": "stream",
     "text": [
      "Trials:  41%|█████████████████████████████▉                                           | 82/200 [00:07<00:09, 12.29it/s]"
     ]
    },
    {
     "name": "stdout",
     "output_type": "stream",
     "text": [
      "测试集数量: 13\n",
      "测试集数量: 13\n",
      "测试集数量: 13\n"
     ]
    },
    {
     "name": "stderr",
     "output_type": "stream",
     "text": [
      "Trials:  43%|███████████████████████████████▍                                         | 86/200 [00:08<00:09, 12.58it/s]"
     ]
    },
    {
     "name": "stdout",
     "output_type": "stream",
     "text": [
      "测试集数量: 13\n",
      "测试集数量: 13\n",
      "测试集数量: 13\n"
     ]
    },
    {
     "name": "stderr",
     "output_type": "stream",
     "text": [
      "Trials:  44%|████████████████████████████████                                         | 88/200 [00:08<00:09, 12.19it/s]"
     ]
    },
    {
     "name": "stdout",
     "output_type": "stream",
     "text": [
      "测试集数量: 13\n",
      "测试集数量: 13\n",
      "测试集数量: 13\n"
     ]
    },
    {
     "name": "stderr",
     "output_type": "stream",
     "text": [
      "Trials:  46%|█████████████████████████████████▌                                       | 92/200 [00:08<00:08, 12.50it/s]"
     ]
    },
    {
     "name": "stdout",
     "output_type": "stream",
     "text": [
      "测试集数量: 13\n",
      "测试集数量: 13\n",
      "测试集数量: 13\n"
     ]
    },
    {
     "name": "stderr",
     "output_type": "stream",
     "text": [
      "Trials:  47%|██████████████████████████████████▎                                      | 94/200 [00:08<00:08, 12.56it/s]"
     ]
    },
    {
     "name": "stdout",
     "output_type": "stream",
     "text": [
      "测试集数量: 13\n",
      "测试集数量: 13\n",
      "测试集数量: 13\n"
     ]
    },
    {
     "name": "stderr",
     "output_type": "stream",
     "text": [
      "Trials:  49%|███████████████████████████████████▊                                     | 98/200 [00:08<00:08, 12.33it/s]"
     ]
    },
    {
     "name": "stdout",
     "output_type": "stream",
     "text": [
      "测试集数量: 13\n",
      "测试集数量: 13\n",
      "测试集数量: 13\n"
     ]
    },
    {
     "name": "stderr",
     "output_type": "stream",
     "text": [
      "Trials:  50%|████████████████████████████████████                                    | 100/200 [00:09<00:08, 12.19it/s]"
     ]
    },
    {
     "name": "stdout",
     "output_type": "stream",
     "text": [
      "测试集数量: 13\n",
      "测试集数量: 13\n",
      "测试集数量: 13\n"
     ]
    },
    {
     "name": "stderr",
     "output_type": "stream",
     "text": [
      "Trials:  52%|█████████████████████████████████████▍                                  | 104/200 [00:09<00:07, 12.48it/s]"
     ]
    },
    {
     "name": "stdout",
     "output_type": "stream",
     "text": [
      "测试集数量: 13\n",
      "测试集数量: 13\n",
      "测试集数量: 13\n"
     ]
    },
    {
     "name": "stderr",
     "output_type": "stream",
     "text": [
      "Trials:  53%|██████████████████████████████████████▏                                 | 106/200 [00:09<00:07, 12.33it/s]"
     ]
    },
    {
     "name": "stdout",
     "output_type": "stream",
     "text": [
      "测试集数量: 13\n",
      "测试集数量: 13\n",
      "测试集数量: 13\n"
     ]
    },
    {
     "name": "stderr",
     "output_type": "stream",
     "text": [
      "Trials:  55%|███████████████████████████████████████▌                                | 110/200 [00:09<00:07, 12.20it/s]"
     ]
    },
    {
     "name": "stdout",
     "output_type": "stream",
     "text": [
      "测试集数量: 13\n",
      "测试集数量: 13\n",
      "测试集数量: 13\n"
     ]
    },
    {
     "name": "stderr",
     "output_type": "stream",
     "text": [
      "Trials:  56%|████████████████████████████████████████▎                               | 112/200 [00:10<00:07, 12.36it/s]"
     ]
    },
    {
     "name": "stdout",
     "output_type": "stream",
     "text": [
      "测试集数量: 13\n",
      "测试集数量: 13\n",
      "测试集数量: 13\n"
     ]
    },
    {
     "name": "stderr",
     "output_type": "stream",
     "text": [
      "Trials:  58%|█████████████████████████████████████████▊                              | 116/200 [00:10<00:06, 12.66it/s]"
     ]
    },
    {
     "name": "stdout",
     "output_type": "stream",
     "text": [
      "测试集数量: 13\n",
      "测试集数量: 13\n",
      "测试集数量: 13\n"
     ]
    },
    {
     "name": "stderr",
     "output_type": "stream",
     "text": [
      "Trials:  59%|██████████████████████████████████████████▍                             | 118/200 [00:10<00:06, 12.44it/s]"
     ]
    },
    {
     "name": "stdout",
     "output_type": "stream",
     "text": [
      "测试集数量: 13\n",
      "测试集数量: 13\n",
      "测试集数量: 13\n"
     ]
    },
    {
     "name": "stderr",
     "output_type": "stream",
     "text": [
      "Trials:  61%|███████████████████████████████████████████▉                            | 122/200 [00:10<00:06, 12.48it/s]"
     ]
    },
    {
     "name": "stdout",
     "output_type": "stream",
     "text": [
      "测试集数量: 13\n",
      "测试集数量: 13\n",
      "测试集数量: 13\n"
     ]
    },
    {
     "name": "stderr",
     "output_type": "stream",
     "text": [
      "Trials:  62%|████████████████████████████████████████████▋                           | 124/200 [00:11<00:06, 12.40it/s]"
     ]
    },
    {
     "name": "stdout",
     "output_type": "stream",
     "text": [
      "测试集数量: 13\n",
      "测试集数量: 13\n",
      "测试集数量: 13\n"
     ]
    },
    {
     "name": "stderr",
     "output_type": "stream",
     "text": [
      "Trials:  64%|██████████████████████████████████████████████                          | 128/200 [00:11<00:05, 12.22it/s]"
     ]
    },
    {
     "name": "stdout",
     "output_type": "stream",
     "text": [
      "测试集数量: 13\n",
      "测试集数量: 13\n",
      "测试集数量: 13\n"
     ]
    },
    {
     "name": "stderr",
     "output_type": "stream",
     "text": [
      "Trials:  65%|██████████████████████████████████████████████▊                         | 130/200 [00:11<00:05, 12.15it/s]"
     ]
    },
    {
     "name": "stdout",
     "output_type": "stream",
     "text": [
      "测试集数量: 13\n",
      "测试集数量: 13\n",
      "测试集数量: 13\n"
     ]
    },
    {
     "name": "stderr",
     "output_type": "stream",
     "text": [
      "Trials:  67%|████████████████████████████████████████████████▏                       | 134/200 [00:11<00:05, 12.32it/s]"
     ]
    },
    {
     "name": "stdout",
     "output_type": "stream",
     "text": [
      "测试集数量: 13\n",
      "测试集数量: 13\n",
      "测试集数量: 13\n"
     ]
    },
    {
     "name": "stderr",
     "output_type": "stream",
     "text": [
      "Trials:  68%|████████████████████████████████████████████████▉                       | 136/200 [00:12<00:05, 12.61it/s]"
     ]
    },
    {
     "name": "stdout",
     "output_type": "stream",
     "text": [
      "测试集数量: 13\n",
      "测试集数量: 13\n",
      "测试集数量: 13\n"
     ]
    },
    {
     "name": "stderr",
     "output_type": "stream",
     "text": [
      "Trials:  70%|██████████████████████████████████████████████████▍                     | 140/200 [00:12<00:04, 12.35it/s]"
     ]
    },
    {
     "name": "stdout",
     "output_type": "stream",
     "text": [
      "测试集数量: 13\n",
      "测试集数量: 13\n",
      "测试集数量: 13\n"
     ]
    },
    {
     "name": "stderr",
     "output_type": "stream",
     "text": [
      "Trials:  71%|███████████████████████████████████████████████████                     | 142/200 [00:12<00:04, 12.24it/s]"
     ]
    },
    {
     "name": "stdout",
     "output_type": "stream",
     "text": [
      "测试集数量: 13\n",
      "测试集数量: 13\n",
      "测试集数量: 13\n"
     ]
    },
    {
     "name": "stderr",
     "output_type": "stream",
     "text": [
      "Trials:  73%|████████████████████████████████████████████████████▌                   | 146/200 [00:12<00:04, 12.28it/s]"
     ]
    },
    {
     "name": "stdout",
     "output_type": "stream",
     "text": [
      "测试集数量: 13\n",
      "测试集数量: 13\n",
      "测试集数量: 13\n"
     ]
    },
    {
     "name": "stderr",
     "output_type": "stream",
     "text": [
      "Trials:  74%|█████████████████████████████████████████████████████▎                  | 148/200 [00:13<00:04, 12.35it/s]"
     ]
    },
    {
     "name": "stdout",
     "output_type": "stream",
     "text": [
      "测试集数量: 13\n",
      "测试集数量: 13\n",
      "测试集数量: 13\n"
     ]
    },
    {
     "name": "stderr",
     "output_type": "stream",
     "text": [
      "Trials:  76%|██████████████████████████████████████████████████████▋                 | 152/200 [00:13<00:03, 12.22it/s]"
     ]
    },
    {
     "name": "stdout",
     "output_type": "stream",
     "text": [
      "测试集数量: 13\n",
      "测试集数量: 13\n",
      "测试集数量: 13\n"
     ]
    },
    {
     "name": "stderr",
     "output_type": "stream",
     "text": [
      "Trials:  77%|███████████████████████████████████████████████████████▍                | 154/200 [00:13<00:03, 12.17it/s]"
     ]
    },
    {
     "name": "stdout",
     "output_type": "stream",
     "text": [
      "测试集数量: 13\n",
      "测试集数量: 13\n",
      "测试集数量: 13\n"
     ]
    },
    {
     "name": "stderr",
     "output_type": "stream",
     "text": [
      "Trials:  79%|████████████████████████████████████████████████████████▉               | 158/200 [00:13<00:03, 12.43it/s]"
     ]
    },
    {
     "name": "stdout",
     "output_type": "stream",
     "text": [
      "测试集数量: 13\n",
      "测试集数量: 13\n",
      "测试集数量: 13\n"
     ]
    },
    {
     "name": "stderr",
     "output_type": "stream",
     "text": [
      "Trials:  80%|█████████████████████████████████████████████████████████▌              | 160/200 [00:14<00:03, 12.19it/s]"
     ]
    },
    {
     "name": "stdout",
     "output_type": "stream",
     "text": [
      "测试集数量: 13\n",
      "测试集数量: 13\n",
      "测试集数量: 13\n"
     ]
    },
    {
     "name": "stderr",
     "output_type": "stream",
     "text": [
      "Trials:  82%|███████████████████████████████████████████████████████████             | 164/200 [00:14<00:02, 12.59it/s]"
     ]
    },
    {
     "name": "stdout",
     "output_type": "stream",
     "text": [
      "测试集数量: 13\n",
      "测试集数量: 13\n",
      "测试集数量: 13\n"
     ]
    },
    {
     "name": "stderr",
     "output_type": "stream",
     "text": [
      "Trials:  83%|███████████████████████████████████████████████████████████▊            | 166/200 [00:14<00:02, 12.38it/s]"
     ]
    },
    {
     "name": "stdout",
     "output_type": "stream",
     "text": [
      "测试集数量: 13\n",
      "测试集数量: 13\n",
      "测试集数量: 13\n"
     ]
    },
    {
     "name": "stderr",
     "output_type": "stream",
     "text": [
      "Trials:  85%|█████████████████████████████████████████████████████████████▏          | 170/200 [00:14<00:02, 12.37it/s]"
     ]
    },
    {
     "name": "stdout",
     "output_type": "stream",
     "text": [
      "测试集数量: 13\n",
      "测试集数量: 13\n",
      "测试集数量: 13\n"
     ]
    },
    {
     "name": "stderr",
     "output_type": "stream",
     "text": [
      "Trials:  86%|█████████████████████████████████████████████████████████████▉          | 172/200 [00:15<00:02, 12.44it/s]"
     ]
    },
    {
     "name": "stdout",
     "output_type": "stream",
     "text": [
      "测试集数量: 13\n",
      "测试集数量: 13\n",
      "测试集数量: 13\n"
     ]
    },
    {
     "name": "stderr",
     "output_type": "stream",
     "text": [
      "Trials:  88%|███████████████████████████████████████████████████████████████▎        | 176/200 [00:15<00:01, 12.18it/s]"
     ]
    },
    {
     "name": "stdout",
     "output_type": "stream",
     "text": [
      "测试集数量: 13\n",
      "测试集数量: 13\n",
      "测试集数量: 13\n"
     ]
    },
    {
     "name": "stderr",
     "output_type": "stream",
     "text": [
      "Trials:  89%|████████████████████████████████████████████████████████████████        | 178/200 [00:15<00:01, 12.20it/s]"
     ]
    },
    {
     "name": "stdout",
     "output_type": "stream",
     "text": [
      "测试集数量: 13\n",
      "测试集数量: 13\n",
      "测试集数量: 13\n"
     ]
    },
    {
     "name": "stderr",
     "output_type": "stream",
     "text": [
      "Trials:  90%|████████████████████████████████████████████████████████████████▊       | 180/200 [00:15<00:01, 11.98it/s]"
     ]
    },
    {
     "name": "stdout",
     "output_type": "stream",
     "text": [
      "测试集数量: 13\n",
      "测试集数量: 13\n",
      "测试集数量:"
     ]
    },
    {
     "name": "stderr",
     "output_type": "stream",
     "text": [
      "Trials:  92%|██████████████████████████████████████████████████████████████████▏     | 184/200 [00:16<00:01, 11.44it/s]"
     ]
    },
    {
     "name": "stdout",
     "output_type": "stream",
     "text": [
      " 13\n",
      "测试集数量: 13\n",
      "测试集数量: 13\n"
     ]
    },
    {
     "name": "stderr",
     "output_type": "stream",
     "text": [
      "Trials:  93%|██████████████████████████████████████████████████████████████████▉     | 186/200 [00:16<00:01, 11.30it/s]"
     ]
    },
    {
     "name": "stdout",
     "output_type": "stream",
     "text": [
      "测试集数量: 13\n",
      "测试集数量: 13\n",
      "测试集数量: 13\n"
     ]
    },
    {
     "name": "stderr",
     "output_type": "stream",
     "text": [
      "Trials:  95%|████████████████████████████████████████████████████████████████████▍   | 190/200 [00:16<00:00, 12.05it/s]"
     ]
    },
    {
     "name": "stdout",
     "output_type": "stream",
     "text": [
      "测试集数量: 13\n",
      "测试集数量: 13\n",
      "测试集数量: 13\n"
     ]
    },
    {
     "name": "stderr",
     "output_type": "stream",
     "text": [
      "Trials:  96%|█████████████████████████████████████████████████████████████████████   | 192/200 [00:16<00:00, 12.07it/s]"
     ]
    },
    {
     "name": "stdout",
     "output_type": "stream",
     "text": [
      "测试集数量: 13\n",
      "测试集数量: 13\n",
      "测试集数量: 13\n"
     ]
    },
    {
     "name": "stderr",
     "output_type": "stream",
     "text": [
      "Trials:  97%|█████████████████████████████████████████████████████████████████████▊  | 194/200 [00:16<00:00, 11.94it/s]"
     ]
    },
    {
     "name": "stdout",
     "output_type": "stream",
     "text": [
      "测试集数量: 13\n",
      "测试集数量: 13\n",
      "测试集数量: 13\n"
     ]
    },
    {
     "name": "stderr",
     "output_type": "stream",
     "text": [
      "Trials:  99%|███████████████████████████████████████████████████████████████████████▎| 198/200 [00:17<00:00, 12.19it/s]"
     ]
    },
    {
     "name": "stdout",
     "output_type": "stream",
     "text": [
      "测试集数量: 13\n",
      "测试集数量: 13\n",
      "测试集数量: 13\n"
     ]
    },
    {
     "name": "stderr",
     "output_type": "stream",
     "text": [
      "Trials: 100%|████████████████████████████████████████████████████████████████████████| 200/200 [00:17<00:00, 11.51it/s]\n"
     ]
    },
    {
     "name": "stdout",
     "output_type": "stream",
     "text": [
      "测试集数量: 13\n",
      "Test group sizes for each trial:\n",
      "Iteration 1: [2, 2, 2, 2, 1, 1, 1, 1, 1]\n",
      "Iteration 2: [2, 2, 2, 1, 2, 1, 1, 1, 1]\n",
      "Iteration 3: [2, 2, 1, 1, 2, 1, 2, 1, 1]\n",
      "Iteration 4: [2, 2, 1, 1, 2, 1, 2, 1, 1]\n",
      "Iteration 5: [2, 2, 1, 1, 2, 1, 2, 1, 1]\n",
      "Iteration 6: [1, 2, 2, 2, 2, 1, 1, 1, 1]\n",
      "Iteration 7: [2, 2, 2, 1, 1, 1, 2, 1, 1]\n",
      "Iteration 8: [2, 2, 1, 1, 2, 1, 2, 1, 1]\n",
      "Iteration 9: [1, 2, 2, 2, 1, 1, 2, 1, 1]\n",
      "Iteration 10: [2, 2, 2, 1, 1, 1, 2, 1, 1]\n",
      "Iteration 11: [2, 1, 2, 1, 2, 1, 2, 1, 1]\n",
      "Iteration 12: [1, 2, 2, 2, 1, 1, 2, 1, 1]\n",
      "Iteration 13: [2, 2, 2, 2, 1, 1, 1, 1, 1]\n",
      "Iteration 14: [2, 1, 2, 2, 1, 1, 2, 1, 1]\n",
      "Iteration 15: [2, 1, 1, 2, 2, 1, 2, 1, 1]\n",
      "Iteration 16: [2, 2, 2, 2, 1, 1, 1, 1, 1]\n",
      "Iteration 17: [1, 2, 2, 2, 2, 1, 1, 1, 1]\n",
      "Iteration 18: [2, 1, 1, 2, 2, 1, 2, 1, 1]\n",
      "Iteration 19: [2, 1, 2, 2, 2, 1, 1, 1, 1]\n",
      "Iteration 20: [2, 1, 2, 2, 1, 1, 2, 1, 1]\n",
      "Iteration 21: [2, 2, 2, 1, 1, 1, 2, 1, 1]\n",
      "Iteration 22: [2, 1, 2, 2, 1, 1, 2, 1, 1]\n",
      "Iteration 23: [1, 2, 2, 1, 2, 1, 2, 1, 1]\n",
      "Iteration 24: [2, 1, 2, 2, 2, 1, 1, 1, 1]\n",
      "Iteration 25: [1, 2, 2, 1, 2, 1, 2, 1, 1]\n",
      "Iteration 26: [1, 2, 2, 2, 2, 1, 1, 1, 1]\n",
      "Iteration 27: [2, 2, 2, 1, 1, 1, 2, 1, 1]\n",
      "Iteration 28: [2, 1, 2, 1, 2, 1, 2, 1, 1]\n",
      "Iteration 29: [2, 1, 1, 2, 2, 1, 2, 1, 1]\n",
      "Iteration 30: [1, 2, 2, 2, 1, 1, 2, 1, 1]\n",
      "Iteration 31: [2, 2, 1, 2, 2, 1, 1, 1, 1]\n",
      "Iteration 32: [2, 1, 1, 2, 2, 1, 2, 1, 1]\n",
      "Iteration 33: [1, 2, 1, 2, 2, 1, 2, 1, 1]\n",
      "Iteration 34: [2, 2, 1, 1, 2, 1, 2, 1, 1]\n",
      "Iteration 35: [1, 2, 2, 2, 2, 1, 1, 1, 1]\n",
      "Iteration 36: [2, 1, 2, 2, 1, 1, 2, 1, 1]\n",
      "Iteration 37: [1, 2, 2, 2, 1, 1, 2, 1, 1]\n",
      "Iteration 38: [2, 1, 2, 1, 2, 1, 2, 1, 1]\n",
      "Iteration 39: [2, 2, 2, 1, 1, 1, 2, 1, 1]\n",
      "Iteration 40: [1, 2, 2, 2, 2, 1, 1, 1, 1]\n",
      "Iteration 41: [1, 2, 2, 1, 2, 1, 2, 1, 1]\n",
      "Iteration 42: [2, 1, 2, 2, 2, 1, 1, 1, 1]\n",
      "Iteration 43: [1, 2, 2, 2, 2, 1, 1, 1, 1]\n",
      "Iteration 44: [2, 1, 2, 1, 2, 1, 2, 1, 1]\n",
      "Iteration 45: [2, 2, 1, 1, 2, 1, 2, 1, 1]\n",
      "Iteration 46: [2, 2, 2, 1, 2, 1, 1, 1, 1]\n",
      "Iteration 47: [2, 2, 2, 1, 1, 1, 2, 1, 1]\n",
      "Iteration 48: [1, 2, 2, 2, 2, 1, 1, 1, 1]\n",
      "Iteration 49: [2, 1, 1, 2, 2, 1, 2, 1, 1]\n",
      "Iteration 50: [2, 2, 2, 1, 2, 1, 1, 1, 1]\n",
      "Iteration 51: [2, 2, 2, 2, 1, 1, 1, 1, 1]\n",
      "Iteration 52: [2, 1, 2, 2, 1, 1, 2, 1, 1]\n",
      "Iteration 53: [1, 2, 2, 2, 1, 1, 2, 1, 1]\n",
      "Iteration 54: [1, 2, 2, 2, 2, 1, 1, 1, 1]\n",
      "Iteration 55: [1, 2, 2, 2, 2, 1, 1, 1, 1]\n",
      "Iteration 56: [1, 2, 1, 2, 2, 1, 2, 1, 1]\n",
      "Iteration 57: [2, 2, 1, 2, 2, 1, 1, 1, 1]\n",
      "Iteration 58: [1, 1, 2, 2, 2, 1, 2, 1, 1]\n",
      "Iteration 59: [1, 1, 2, 2, 2, 1, 2, 1, 1]\n",
      "Iteration 60: [1, 2, 2, 2, 2, 1, 1, 1, 1]\n",
      "Iteration 61: [2, 2, 2, 1, 1, 1, 2, 1, 1]\n",
      "Iteration 62: [1, 2, 2, 2, 2, 1, 1, 1, 1]\n",
      "Iteration 63: [2, 2, 1, 1, 2, 1, 2, 1, 1]\n",
      "Iteration 64: [2, 1, 2, 2, 1, 1, 2, 1, 1]\n",
      "Iteration 65: [2, 1, 2, 2, 1, 1, 2, 1, 1]\n",
      "Iteration 66: [2, 1, 2, 2, 2, 1, 1, 1, 1]\n",
      "Iteration 67: [1, 2, 2, 2, 1, 1, 2, 1, 1]\n",
      "Iteration 68: [2, 1, 1, 2, 2, 1, 2, 1, 1]\n",
      "Iteration 69: [1, 2, 1, 2, 2, 1, 2, 1, 1]\n",
      "Iteration 70: [1, 1, 2, 2, 2, 1, 2, 1, 1]\n",
      "Iteration 71: [1, 2, 2, 2, 2, 1, 1, 1, 1]\n",
      "Iteration 72: [2, 2, 2, 1, 2, 1, 1, 1, 1]\n",
      "Iteration 73: [1, 1, 2, 2, 2, 1, 2, 1, 1]\n",
      "Iteration 74: [1, 2, 2, 1, 2, 1, 2, 1, 1]\n",
      "Iteration 75: [2, 2, 2, 1, 2, 1, 1, 1, 1]\n",
      "Iteration 76: [1, 2, 2, 1, 2, 1, 2, 1, 1]\n",
      "Iteration 77: [2, 2, 2, 1, 1, 1, 2, 1, 1]\n",
      "Iteration 78: [1, 2, 2, 2, 1, 1, 2, 1, 1]\n",
      "Iteration 79: [2, 1, 2, 1, 2, 1, 2, 1, 1]\n",
      "Iteration 80: [2, 1, 2, 2, 2, 1, 1, 1, 1]\n",
      "Iteration 81: [2, 1, 2, 2, 2, 1, 1, 1, 1]\n",
      "Iteration 82: [2, 2, 2, 1, 2, 1, 1, 1, 1]\n",
      "Iteration 83: [2, 2, 1, 2, 2, 1, 1, 1, 1]\n",
      "Iteration 84: [1, 2, 2, 2, 1, 1, 2, 1, 1]\n",
      "Iteration 85: [1, 2, 2, 2, 2, 1, 1, 1, 1]\n",
      "Iteration 86: [2, 2, 1, 2, 1, 1, 2, 1, 1]\n",
      "Iteration 87: [1, 2, 2, 2, 2, 1, 1, 1, 1]\n",
      "Iteration 88: [2, 1, 2, 1, 2, 1, 2, 1, 1]\n",
      "Iteration 89: [1, 1, 2, 2, 2, 1, 2, 1, 1]\n",
      "Iteration 90: [1, 2, 1, 2, 2, 1, 2, 1, 1]\n",
      "Iteration 91: [2, 2, 2, 2, 1, 1, 1, 1, 1]\n",
      "Iteration 92: [2, 2, 1, 1, 2, 1, 2, 1, 1]\n",
      "Iteration 93: [2, 1, 2, 2, 1, 1, 2, 1, 1]\n",
      "Iteration 94: [2, 1, 2, 1, 2, 1, 2, 1, 1]\n",
      "Iteration 95: [1, 2, 2, 2, 1, 1, 2, 1, 1]\n",
      "Iteration 96: [2, 1, 2, 2, 1, 1, 2, 1, 1]\n",
      "Iteration 97: [1, 1, 2, 2, 2, 1, 2, 1, 1]\n",
      "Iteration 98: [2, 2, 1, 1, 2, 1, 2, 1, 1]\n",
      "Iteration 99: [1, 2, 2, 2, 1, 1, 2, 1, 1]\n",
      "Iteration 100: [2, 2, 1, 2, 1, 1, 2, 1, 1]\n",
      "Iteration 101: [2, 1, 2, 2, 2, 1, 1, 1, 1]\n",
      "Iteration 102: [2, 2, 1, 1, 2, 1, 2, 1, 1]\n",
      "Iteration 103: [1, 1, 2, 2, 2, 1, 2, 1, 1]\n",
      "Iteration 104: [2, 2, 2, 1, 2, 1, 1, 1, 1]\n",
      "Iteration 105: [2, 2, 1, 1, 2, 1, 2, 1, 1]\n",
      "Iteration 106: [2, 1, 1, 2, 2, 1, 2, 1, 1]\n",
      "Iteration 107: [2, 2, 2, 2, 1, 1, 1, 1, 1]\n",
      "Iteration 108: [2, 1, 2, 2, 1, 1, 2, 1, 1]\n",
      "Iteration 109: [2, 2, 2, 1, 2, 1, 1, 1, 1]\n",
      "Iteration 110: [1, 2, 2, 1, 2, 1, 2, 1, 1]\n",
      "Iteration 111: [1, 2, 2, 2, 1, 1, 2, 1, 1]\n",
      "Iteration 112: [1, 2, 2, 1, 2, 1, 2, 1, 1]\n",
      "Iteration 113: [2, 1, 2, 1, 2, 1, 2, 1, 1]\n",
      "Iteration 114: [2, 1, 2, 1, 2, 1, 2, 1, 1]\n",
      "Iteration 115: [2, 2, 2, 1, 1, 1, 2, 1, 1]\n",
      "Iteration 116: [1, 2, 2, 2, 1, 1, 2, 1, 1]\n",
      "Iteration 117: [1, 1, 2, 2, 2, 1, 2, 1, 1]\n",
      "Iteration 118: [2, 2, 2, 2, 1, 1, 1, 1, 1]\n",
      "Iteration 119: [2, 2, 1, 2, 1, 1, 2, 1, 1]\n",
      "Iteration 120: [1, 2, 2, 2, 1, 1, 2, 1, 1]\n",
      "Iteration 121: [2, 2, 1, 2, 2, 1, 1, 1, 1]\n",
      "Iteration 122: [1, 2, 2, 1, 2, 1, 2, 1, 1]\n",
      "Iteration 123: [1, 1, 2, 2, 2, 1, 2, 1, 1]\n",
      "Iteration 124: [2, 1, 1, 2, 2, 1, 2, 1, 1]\n",
      "Iteration 125: [2, 2, 2, 2, 1, 1, 1, 1, 1]\n",
      "Iteration 126: [1, 1, 2, 2, 2, 1, 2, 1, 1]\n",
      "Iteration 127: [2, 2, 2, 1, 1, 1, 2, 1, 1]\n",
      "Iteration 128: [2, 1, 2, 2, 2, 1, 1, 1, 1]\n",
      "Iteration 129: [1, 2, 2, 1, 2, 1, 2, 1, 1]\n",
      "Iteration 130: [2, 2, 1, 2, 1, 1, 2, 1, 1]\n",
      "Iteration 131: [2, 1, 2, 2, 1, 1, 2, 1, 1]\n",
      "Iteration 132: [1, 2, 2, 1, 2, 1, 2, 1, 1]\n",
      "Iteration 133: [2, 1, 1, 2, 2, 1, 2, 1, 1]\n",
      "Iteration 134: [2, 2, 1, 2, 1, 1, 2, 1, 1]\n",
      "Iteration 135: [2, 1, 2, 2, 2, 1, 1, 1, 1]\n",
      "Iteration 136: [2, 1, 2, 2, 2, 1, 1, 1, 1]\n",
      "Iteration 137: [1, 2, 2, 1, 2, 1, 2, 1, 1]\n",
      "Iteration 138: [1, 2, 1, 2, 2, 1, 2, 1, 1]\n",
      "Iteration 139: [2, 1, 1, 2, 2, 1, 2, 1, 1]\n",
      "Iteration 140: [1, 1, 2, 2, 2, 1, 2, 1, 1]\n",
      "Iteration 141: [1, 2, 1, 2, 2, 1, 2, 1, 1]\n",
      "Iteration 142: [1, 2, 2, 2, 1, 1, 2, 1, 1]\n",
      "Iteration 143: [2, 2, 1, 2, 2, 1, 1, 1, 1]\n",
      "Iteration 144: [2, 1, 2, 2, 1, 1, 2, 1, 1]\n",
      "Iteration 145: [2, 2, 1, 2, 1, 1, 2, 1, 1]\n",
      "Iteration 146: [2, 2, 1, 2, 2, 1, 1, 1, 1]\n",
      "Iteration 147: [2, 2, 1, 2, 2, 1, 1, 1, 1]\n",
      "Iteration 148: [1, 2, 2, 1, 2, 1, 2, 1, 1]\n",
      "Iteration 149: [2, 2, 2, 1, 2, 1, 1, 1, 1]\n",
      "Iteration 150: [1, 2, 1, 2, 2, 1, 2, 1, 1]\n",
      "Iteration 151: [2, 1, 2, 2, 2, 1, 1, 1, 1]\n",
      "Iteration 152: [2, 2, 1, 2, 2, 1, 1, 1, 1]\n",
      "Iteration 153: [2, 1, 2, 2, 1, 1, 2, 1, 1]\n",
      "Iteration 154: [1, 2, 2, 2, 1, 1, 2, 1, 1]\n",
      "Iteration 155: [1, 2, 2, 2, 1, 1, 2, 1, 1]\n",
      "Iteration 156: [2, 1, 1, 2, 2, 1, 2, 1, 1]\n",
      "Iteration 157: [2, 2, 1, 2, 2, 1, 1, 1, 1]\n",
      "Iteration 158: [2, 2, 1, 1, 2, 1, 2, 1, 1]\n",
      "Iteration 159: [2, 2, 2, 2, 1, 1, 1, 1, 1]\n",
      "Iteration 160: [2, 2, 2, 1, 1, 1, 2, 1, 1]\n",
      "Iteration 161: [2, 1, 2, 2, 2, 1, 1, 1, 1]\n",
      "Iteration 162: [2, 2, 2, 1, 1, 1, 2, 1, 1]\n",
      "Iteration 163: [1, 2, 1, 2, 2, 1, 2, 1, 1]\n",
      "Iteration 164: [1, 2, 2, 1, 2, 1, 2, 1, 1]\n",
      "Iteration 165: [2, 2, 2, 2, 1, 1, 1, 1, 1]\n",
      "Iteration 166: [1, 2, 2, 2, 2, 1, 1, 1, 1]\n",
      "Iteration 167: [2, 1, 2, 1, 2, 1, 2, 1, 1]\n",
      "Iteration 168: [1, 1, 2, 2, 2, 1, 2, 1, 1]\n",
      "Iteration 169: [1, 2, 2, 2, 1, 1, 2, 1, 1]\n",
      "Iteration 170: [2, 1, 2, 2, 2, 1, 1, 1, 1]\n",
      "Iteration 171: [2, 1, 2, 2, 2, 1, 1, 1, 1]\n",
      "Iteration 172: [2, 2, 2, 1, 2, 1, 1, 1, 1]\n",
      "Iteration 173: [2, 1, 2, 2, 2, 1, 1, 1, 1]\n",
      "Iteration 174: [2, 2, 1, 2, 2, 1, 1, 1, 1]\n",
      "Iteration 175: [2, 1, 2, 2, 1, 1, 2, 1, 1]\n",
      "Iteration 176: [2, 1, 2, 2, 1, 1, 2, 1, 1]\n",
      "Iteration 177: [1, 2, 2, 1, 2, 1, 2, 1, 1]\n",
      "Iteration 178: [2, 2, 1, 2, 1, 1, 2, 1, 1]\n",
      "Iteration 179: [2, 2, 2, 1, 2, 1, 1, 1, 1]\n",
      "Iteration 180: [2, 2, 1, 1, 2, 1, 2, 1, 1]\n",
      "Iteration 181: [1, 1, 2, 2, 2, 1, 2, 1, 1]\n",
      "Iteration 182: [1, 2, 1, 2, 2, 1, 2, 1, 1]\n",
      "Iteration 183: [2, 1, 2, 1, 2, 1, 2, 1, 1]\n",
      "Iteration 184: [1, 2, 2, 2, 2, 1, 1, 1, 1]\n",
      "Iteration 185: [2, 1, 2, 2, 1, 1, 2, 1, 1]\n",
      "Iteration 186: [2, 2, 1, 2, 1, 1, 2, 1, 1]\n",
      "Iteration 187: [2, 2, 2, 1, 1, 1, 2, 1, 1]\n",
      "Iteration 188: [2, 1, 1, 2, 2, 1, 2, 1, 1]\n",
      "Iteration 189: [2, 2, 1, 2, 1, 1, 2, 1, 1]\n",
      "Iteration 190: [2, 2, 1, 2, 2, 1, 1, 1, 1]\n",
      "Iteration 191: [2, 2, 1, 2, 1, 1, 2, 1, 1]\n",
      "Iteration 192: [1, 2, 2, 1, 2, 1, 2, 1, 1]\n",
      "Iteration 193: [2, 1, 2, 2, 2, 1, 1, 1, 1]\n",
      "Iteration 194: [2, 2, 2, 1, 1, 1, 2, 1, 1]\n",
      "Iteration 195: [2, 2, 1, 2, 2, 1, 1, 1, 1]\n",
      "Iteration 196: [2, 2, 1, 2, 1, 1, 2, 1, 1]\n",
      "Iteration 197: [1, 2, 2, 1, 2, 1, 2, 1, 1]\n",
      "Iteration 198: [2, 2, 2, 2, 1, 1, 1, 1, 1]\n",
      "Iteration 199: [2, 2, 2, 1, 2, 1, 1, 1, 1]\n",
      "Iteration 200: [2, 1, 2, 2, 1, 1, 2, 1, 1]\n",
      "     Metric      Mean       Std\n",
      "0      RMSE  1.619466  0.397806\n",
      "1       MAE  1.252060  0.255918\n",
      "2  Spearman  0.492696  0.230683\n",
      "3        R2  0.130049  0.515482\n"
     ]
    },
    {
     "data": {
      "image/png": "[encoded data removed]",
      "text/plain": [
       "<Figure size 432x396 with 1 Axes>"
      ]
     },
     "metadata": {
      "image/png": {
       "height": 388,
       "width": 424
      },
      "needs_background": "light"
     },
     "output_type": "display_data"
    },
    {
     "name": "stdout",
     "output_type": "stream",
     "text": [
      "RMSE Train: 0.68\n",
      "RMSE Test: 0.92\n",
      "^^^^^^^^^^^^^^^^^^^^\n",
      "MAE Train: 0.64\n",
      "MAE Test: 0.74\n",
      "^^^^^^^^^^^^^^^^^^^^\n",
      "R2 Train: 0.92\n",
      "R2 Test: 0.73\n",
      "^^^^^^^^^^^^^^^^^^^^\n",
      "Spearman Train: 0.95\n",
      "Spearman Test: 0.92\n",
      "^^^^^^^^^^^^^^^^^^^^\n"
     ]
    },
    {
     "data": {
      "text/plain": [
       "['Model_SVR_ZD.pkl']"
      ]
     },
     "execution_count": 7,
     "metadata": {},
     "output_type": "execute_result"
    }
   ],
   "source": [
    "###SVR\n",
    "from sklearn.svm import SVR\n",
    "\n",
    "# Initialize an empty DataFrame to store metrics\n",
    "metrics_df = pd.DataFrame(columns=['RMSE', 'MAE', 'Spearman', 'R2'])\n",
    "\n",
    "# Store the indices of the training and testing sets for the best model\n",
    "best_train_idx = None\n",
    "best_test_idx = None\n",
    "best_rmse = float('inf')\n",
    "rmse_scores = []\n",
    "mae_scores = []\n",
    "spearman_scores = []\n",
    "r2_scores = []\n",
    "\n",
    "# Store the number of molecules from each scaffold_group in the test set for each trial\n",
    "test_group_sizes = []\n",
    "\n",
    "# Repeat the testing 200 times\n",
    "num_trials = 200\n",
    "\n",
    "for _ in tqdm(range(num_trials), desc=\"Trials\"):\n",
    "    # Split the dataset into training and testing sets\n",
    "    train_data = pd.DataFrame(columns=['smiles', 'target_PCE', 'scaffold_group'])\n",
    "    test_data = pd.DataFrame(columns=['smiles', 'target_PCE', 'scaffold_group'])\n",
    "    \n",
    "    # Select one sample from each scaffold_group for the test set\n",
    "    for group_idx in range(len(scaffold_groups)):\n",
    "        group_df = data[data['scaffold_group'] == group_idx]\n",
    "        test_df = group_df.sample(n=1)\n",
    "        train_df = group_df.drop(test_df.index)\n",
    "\n",
    "        train_data = pd.concat([train_data, train_df], ignore_index=False)\n",
    "        test_data = pd.concat([test_data, test_df], ignore_index=False)\n",
    "\n",
    "    # Ensure the total test set size is 13\n",
    "    total_test_size = 13\n",
    "    test_size_per_group = total_test_size - len(scaffold_groups)\n",
    "    remaining_scaffold_groups = [group_idx for group_idx in range(len(scaffold_groups)) if len(data[data['scaffold_group'] == group_idx]) > 3]\n",
    "\n",
    "    for _ in range(test_size_per_group):\n",
    "        # Randomly select a scaffold_group\n",
    "        random_group_idx = random.choice(remaining_scaffold_groups)\n",
    "        group_df = data[data['scaffold_group'] == random_group_idx]\n",
    "        num_samples = len(group_df)\n",
    "        test_size = min(1, num_samples)  # Ensure at least one molecule is selected for the test set\n",
    "        test_df = group_df.sample(n=test_size)\n",
    "        train_df = group_df.drop(test_df.index)\n",
    "\n",
    "        train_data = pd.concat([train_data, train_df], ignore_index=False)\n",
    "        test_data = pd.concat([test_data, test_df], ignore_index=False)\n",
    "        \n",
    "        test_size_per_group -= test_size\n",
    "        remaining_scaffold_groups.remove(random_group_idx)\n",
    "        \n",
    "        # Exit the loop if the required number of test samples has been reached\n",
    "        if test_size_per_group <= 0:\n",
    "            break\n",
    "\n",
    "    # Record the number of molecules from each scaffold_group in the test set for each trial\n",
    "    test_group_sizes.append(test_data.groupby('scaffold_group').size().tolist())\n",
    "\n",
    "    X_scaler = MinMaxScaler()\n",
    "    X_scaler.fit(zd)\n",
    "    zd = X_scaler.transform(zd)\n",
    "\n",
    "    X_train = zd[train_data.index]\n",
    "    y_train = np.transpose([train_data['target_PCE'].values])\n",
    "    X_test = zd[test_data.index]\n",
    "    y_test = np.transpose([test_data['target_PCE'].values])\n",
    "    print(\"Test set size:\", len(y_test))\n",
    "\n",
    "    # Fit to the training set\n",
    "    sv_regressor = SVR(C=500, epsilon=0.75)\n",
    "    sv_regressor.fit(X_train, y_train)\n",
    "\n",
    "    # Perform predictions on both training and test sets\n",
    "    y_train_pred = sv_regressor.predict(X_train)\n",
    "    y_test_pred = sv_regressor.predict(X_test)\n",
    "\n",
    "    # Calculate RMSE, MAE, Spearman correlation, and R2 score for the current test\n",
    "    rmse = np.sqrt(mean_squared_error(y_test, y_test_pred))\n",
    "    mae = mean_absolute_error(y_test, y_test_pred)\n",
    "    spearman_corr, _ = spearmanr(y_test.flatten(), y_test_pred.flatten())\n",
    "    r2 = r2_score(y_test, y_test_pred)\n",
    "    \n",
    "    # Store the metrics for each trial\n",
    "    rmse_scores.append(rmse)\n",
    "    mae_scores.append(mae)\n",
    "    spearman_scores.append(spearman_corr)\n",
    "    r2_scores.append(r2)\n",
    "\n",
    "    # Record the metrics in the DataFrame\n",
    "    metrics_df = metrics_df.append({'RMSE': rmse, 'MAE': mae, 'Spearman': spearman_corr, 'R2': r2}, ignore_index=True)\n",
    "\n",
    "    # If the current model has a better RMSE, update the best model's predictions and true values\n",
    "    if rmse < best_rmse:\n",
    "        best_rmse = rmse\n",
    "        best_model_predictions = y_test_pred\n",
    "        best_model_true_values = y_test\n",
    "        best_train_idx = train_data.index.tolist()\n",
    "        best_test_idx = test_data.index.tolist()\n",
    "        \n",
    "# Calculate mean and standard deviation\n",
    "mean_rmse = np.mean(rmse_scores)\n",
    "std_rmse = np.std(rmse_scores)\n",
    "mean_mae = np.mean(mae_scores)\n",
    "std_mae = np.std(mae_scores)\n",
    "mean_spearman = np.mean(spearman_scores)\n",
    "std_spearman = np.std(spearman_scores)\n",
    "mean_r2 = np.mean(r2_scores)\n",
    "std_r2 = np.std(r2_scores)\n",
    "\n",
    "# Save the mean and standard deviation to a DataFrame\n",
    "summary_df = pd.DataFrame({\n",
    "    'Metric': ['RMSE', 'MAE', 'Spearman', 'R2'],\n",
    "    'Mean': [mean_rmse, mean_mae, mean_spearman, mean_r2],\n",
    "    'Std': [std_rmse, std_mae, std_spearman, std_r2]})\n",
    "\n",
    "# Save the metrics to a CSV file\n",
    "metrics_df.to_csv('metrics_SVR_ZD.csv', index=False)\n",
    "summary_df.to_csv('metrics_summary_SVR_ZD.csv', index=False)\n",
    "\n",
    "# Print the number of molecules from each scaffold_group in every test set\n",
    "print(\"Test group sizes for each trial:\")\n",
    "for i, sizes in enumerate(test_group_sizes):\n",
    "    print(f\"Iteration {i+1}: {sizes}\")\n",
    "    \n",
    "# Print the summary of mean and standard deviation\n",
    "print(summary_df)\n",
    "\n",
    "# Plot the predicted vs ground truth values for the best model\n",
    "prediction_vs_ground_truth_fig(y_train, y_train_pred, best_model_true_values, best_model_predictions)\n",
    "\n",
    "# Save the indices of the best model's training and testing sets to a CSV file\n",
    "best_model_indices_df = pd.DataFrame({'train_idx': pd.Series(best_train_idx), 'test_idx': pd.Series(best_test_idx)})\n",
    "best_model_indices_df.to_csv('Indices_SVR_ZD.csv', index=False)\n",
    "\n",
    "# Save the best model\n",
    "sv_regressor = SVR(C=500, epsilon=0.5)\n",
    "sv_regressor.fit(zd[best_train_idx], data['target_PCE'][best_train_idx])\n",
    "joblib.dump(sv_regressor, 'Model_SVR_ZD.pkl')"
   ]
  },
  {
   "cell_type": "code",
   "execution_count": null,
   "id": "b70aa5c9",
   "metadata": {},
   "outputs": [],
   "source": []
  },
  {
   "cell_type": "code",
   "execution_count": null,
   "id": "0c80c33b",
   "metadata": {},
   "outputs": [],
   "source": []
  },
  {
   "cell_type": "code",
   "execution_count": null,
   "id": "0af3fac1",
   "metadata": {},
   "outputs": [],
   "source": []
  },
  {
   "cell_type": "code",
   "execution_count": null,
   "id": "02922dc0",
   "metadata": {},
   "outputs": [],
   "source": []
  },
  {
   "cell_type": "code",
   "execution_count": null,
   "id": "71a1b244",
   "metadata": {},
   "outputs": [],
   "source": []
  },
  {
   "cell_type": "code",
   "execution_count": null,
   "id": "4de9981c",
   "metadata": {},
   "outputs": [],
   "source": []
  },
  {
   "cell_type": "code",
   "execution_count": null,
   "id": "84c843b6",
   "metadata": {},
   "outputs": [],
   "source": []
  },
  {
   "cell_type": "code",
   "execution_count": null,
   "id": "01ea9ae6",
   "metadata": {},
   "outputs": [],
   "source": []
  }
 ],
 "metadata": {
  "kernelspec": {
   "display_name": "chemvae2",
   "language": "python",
   "name": "chemvae2"
  },
  "language_info": {
   "codemirror_mode": {
    "name": "ipython",
    "version": 3
   },
   "file_extension": ".py",
   "mimetype": "text/x-python",
   "name": "python",
   "nbconvert_exporter": "python",
   "pygments_lexer": "ipython3",
   "version": "3.6.13"
  }
 },
 "nbformat": 4,
 "nbformat_minor": 5
}
